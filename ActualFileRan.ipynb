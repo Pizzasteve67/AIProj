{
 "cells": [
  {
   "cell_type": "code",
   "execution_count": 1,
   "metadata": {
    "colab": {
     "base_uri": "https://localhost:8080/"
    },
    "id": "EAeROGs7mjLa",
    "outputId": "c962d120-a622-4e2e-e8e2-fac86f7af28d"
   },
   "outputs": [],
   "source": [
    "# from google.colab import drive\n",
    "# drive.mount('/content/drive')"
   ]
  },
  {
   "cell_type": "code",
   "execution_count": 2,
   "metadata": {
    "colab": {
     "base_uri": "https://localhost:8080/"
    },
    "id": "WK45mAI0mmBM",
    "outputId": "4141e250-b7db-4136-8de7-6b585cf6ffc9"
   },
   "outputs": [],
   "source": [
    "# cd /content/drive/MyDrive\n"
   ]
  },
  {
   "cell_type": "code",
   "execution_count": 2,
   "metadata": {
    "colab": {
     "base_uri": "https://localhost:8080/"
    },
    "id": "o1pZN-2oyg8S",
    "outputId": "b22655b5-8214-45ae-907f-d7ebbdb61fa9"
   },
   "outputs": [
    {
     "name": "stdout",
     "output_type": "stream",
     "text": [
      "2.5.0\n",
      "[PhysicalDevice(name='/physical_device:CPU:0', device_type='CPU'), PhysicalDevice(name='/physical_device:GPU:0', device_type='GPU')]\n",
      "WARNING:tensorflow:From <ipython-input-2-9553fc1eb52c>:5: is_gpu_available (from tensorflow.python.framework.test_util) is deprecated and will be removed in a future version.\n",
      "Instructions for updating:\n",
      "Use `tf.config.list_physical_devices('GPU')` instead.\n",
      "True\n"
     ]
    },
    {
     "data": {
      "text/plain": [
       "[PhysicalDevice(name='/physical_device:GPU:0', device_type='GPU')]"
      ]
     },
     "execution_count": 2,
     "metadata": {},
     "output_type": "execute_result"
    }
   ],
   "source": [
    "import tensorflow as tf\n",
    "print(tf.__version__)\n",
    "print(tf.config.list_physical_devices())\n",
    "\n",
    "print( tf.test.is_gpu_available())\n",
    "tf.config.list_physical_devices('GPU')\n",
    "#print(\"Num GPUs Available: \", len(tf.config.experimental.list_physical_devices('GPU')))"
   ]
  },
  {
   "cell_type": "code",
   "execution_count": 3,
   "metadata": {},
   "outputs": [
    {
     "name": "stdout",
     "output_type": "stream",
     "text": [
      "Num GPUs Available:  1\n"
     ]
    }
   ],
   "source": [
    "import tensorflow as tf\n",
    "print(\"Num GPUs Available: \", len(tf.config.list_physical_devices('GPU')))"
   ]
  },
  {
   "cell_type": "code",
   "execution_count": 4,
   "metadata": {
    "id": "TsKx_kzknLX6"
   },
   "outputs": [],
   "source": [
    "import os\n",
    "import numpy as np\n",
    "import tensorflow as tf\n",
    "from tensorflow.keras.models import Sequential\n",
    "from tensorflow.keras.layers import Activation, Dropout, Flatten, Dense\n",
    "from tensorflow.keras.preprocessing.image import ImageDataGenerator\n",
    "from tensorflow.keras.layers import Convolution2D, MaxPooling2D, ZeroPadding2D\n",
    "from tensorflow.keras.optimizers import RMSprop, Adadelta, Adagrad, Adam, Adamax, Ftrl, Nadam, Optimizer, SGD # KEENAN CHOOSE\n",
    "from tensorflow.keras.applications.vgg16 import VGG16\n",
    "from tensorflow.python.keras.layers import Dense, Flatten, GlobalAveragePooling2D\n",
    "from tensorflow.keras import optimizers\n",
    "from tensorflow.keras import applications\n",
    "from tensorflow.keras.models import Model\n",
    "from tensorflow.keras.callbacks import ReduceLROnPlateau"
   ]
  },
  {
   "cell_type": "code",
   "execution_count": 5,
   "metadata": {
    "id": "iBzUCYWEunMl"
   },
   "outputs": [],
   "source": [
    "#from tensorflow.keras.applications.resnet import preprocess_input\n",
    "# from tensorflow.keras.applications.inception_v3 import preprocess_input\n",
    "from tensorflow.keras.applications.densenet import preprocess_input"
   ]
  },
  {
   "cell_type": "code",
   "execution_count": 6,
   "metadata": {
    "colab": {
     "base_uri": "https://localhost:8080/"
    },
    "id": "uY5jyCEKupCn",
    "outputId": "b0bae81e-bb74-4438-e9ed-37cce694a454"
   },
   "outputs": [
    {
     "name": "stdout",
     "output_type": "stream",
     "text": [
      "Found 26925 images belonging to 60 classes.\n",
      "Found 11540 images belonging to 60 classes.\n"
     ]
    }
   ],
   "source": [
    "# loading training data\n",
    "train_datagen = ImageDataGenerator(preprocessing_function=preprocess_input,\n",
    "                                #    shear_range=0.2,\n",
    "                                  #  zoom_range=0.4,\n",
    "                                  #  rotation_range=30,\n",
    "                                   )\n",
    "\n",
    "valid_datagen = ImageDataGenerator(preprocessing_function=preprocess_input)\n",
    "# test_datagen = ImageDataGenerator(preprocessing_function=preprocess_input)\n",
    "\n",
    "train_generator = train_datagen.flow_from_directory(\n",
    "        'C:/Users/keena/Desktop/AIproj/train', # KEENAN PUT YOUR DIRECTORY with a /train here\n",
    "        target_size=(45, 45),\n",
    "        class_mode='categorical')\n",
    "\n",
    "validation_generator = valid_datagen.flow_from_directory(\n",
    "    'C:/Users/keena/Desktop/AIproj/valid', # KEENAN PUT YOUR DIRECTORY with a /valid here\n",
    "    shuffle=False,\n",
    "    target_size=(45, 45),\n",
    "    class_mode='categorical')"
   ]
  },
  {
   "cell_type": "code",
   "execution_count": 7,
   "metadata": {
    "id": "zRNEHQ-YurdM"
   },
   "outputs": [],
   "source": [
    "from tensorflow.keras.applications import ResNet152, ResNet50, InceptionV3, DenseNet121, DenseNet201 # KEENAN DONT INCEPTION"
   ]
  },
  {
   "cell_type": "code",
   "execution_count": 9,
   "metadata": {
    "id": "cMb4IuhcutKt"
   },
   "outputs": [],
   "source": [
    "model = Sequential()\n",
    "# create the base pre-trained model\n",
    "model.add(DenseNet121(input_shape=(45, 45,3), weights='imagenet', include_top=False)) #Keenan\n",
    "# add a global spatial average pooling layer\n",
    "model.add(GlobalAveragePooling2D()) # CHANGE THIS MAYBE YEAH\n",
    "# let's add a fully-connected layer\n",
    "model.add(Dense(1024, activation='relu'))\n",
    "# and a logistic layer -- let's say we have 60 classes\n",
    "model.add(Dense(len(train_generator.class_indices), activation='softmax'))"
   ]
  },
  {
   "cell_type": "code",
   "execution_count": 10,
   "metadata": {
    "id": "LGv69HmSuvR6"
   },
   "outputs": [],
   "source": [
    "# specify training loss function \n",
    "model.compile(loss='categorical_crossentropy',\n",
    "              optimizer=tf.keras.optimizers.Adadelta(learning_rate=0.0001), # CHANGE THIS YEAH\n",
    "              metrics=['accuracy'])"
   ]
  },
  {
   "cell_type": "code",
   "execution_count": 11,
   "metadata": {
    "colab": {
     "base_uri": "https://localhost:8080/"
    },
    "id": "U3beHCfNuwzh",
    "outputId": "05287c91-7227-4a9c-ee47-3dd8ee7072e5"
   },
   "outputs": [
    {
     "name": "stdout",
     "output_type": "stream",
     "text": [
      "Epoch 1/30\n",
      "842/842 [==============================] - 76s 80ms/step - loss: 4.4998 - accuracy: 0.0191 - val_loss: 4.5494 - val_accuracy: 0.0239\n",
      "INFO:tensorflow:Assets written to: C:/Users/keena/Desktop/AIproj/Models\\DenseNet121Adadeltae30\\assets\n",
      "Epoch 2/30\n",
      "842/842 [==============================] - 64s 76ms/step - loss: 4.4327 - accuracy: 0.0228 - val_loss: 4.4884 - val_accuracy: 0.0292\n",
      "INFO:tensorflow:Assets written to: C:/Users/keena/Desktop/AIproj/Models\\DenseNet121Adadeltae30\\assets\n",
      "Epoch 3/30\n",
      "842/842 [==============================] - 66s 79ms/step - loss: 4.3816 - accuracy: 0.0275 - val_loss: 4.4293 - val_accuracy: 0.0350\n",
      "INFO:tensorflow:Assets written to: C:/Users/keena/Desktop/AIproj/Models\\DenseNet121Adadeltae30\\assets\n",
      "Epoch 4/30\n",
      "842/842 [==============================] - 64s 76ms/step - loss: 4.3272 - accuracy: 0.0311 - val_loss: 4.3648 - val_accuracy: 0.0395\n",
      "INFO:tensorflow:Assets written to: C:/Users/keena/Desktop/AIproj/Models\\DenseNet121Adadeltae30\\assets\n",
      "Epoch 5/30\n",
      "842/842 [==============================] - 64s 76ms/step - loss: 4.2617 - accuracy: 0.0385 - val_loss: 4.3068 - val_accuracy: 0.0446\n",
      "INFO:tensorflow:Assets written to: C:/Users/keena/Desktop/AIproj/Models\\DenseNet121Adadeltae30\\assets\n",
      "Epoch 6/30\n",
      "842/842 [==============================] - 63s 75ms/step - loss: 4.2190 - accuracy: 0.0406 - val_loss: 4.2462 - val_accuracy: 0.0497\n",
      "INFO:tensorflow:Assets written to: C:/Users/keena/Desktop/AIproj/Models\\DenseNet121Adadeltae30\\assets\n",
      "Epoch 7/30\n",
      "842/842 [==============================] - 64s 75ms/step - loss: 4.1721 - accuracy: 0.0471 - val_loss: 4.1953 - val_accuracy: 0.0568\n",
      "INFO:tensorflow:Assets written to: C:/Users/keena/Desktop/AIproj/Models\\DenseNet121Adadeltae30\\assets\n",
      "Epoch 8/30\n",
      "842/842 [==============================] - 67s 80ms/step - loss: 4.1212 - accuracy: 0.0504 - val_loss: 4.1424 - val_accuracy: 0.0627\n",
      "INFO:tensorflow:Assets written to: C:/Users/keena/Desktop/AIproj/Models\\DenseNet121Adadeltae30\\assets\n",
      "Epoch 9/30\n",
      "842/842 [==============================] - 65s 77ms/step - loss: 4.0693 - accuracy: 0.0572 - val_loss: 4.0882 - val_accuracy: 0.0665\n",
      "INFO:tensorflow:Assets written to: C:/Users/keena/Desktop/AIproj/Models\\DenseNet121Adadeltae30\\assets\n",
      "Epoch 10/30\n",
      "842/842 [==============================] - 65s 77ms/step - loss: 4.0263 - accuracy: 0.0644 - val_loss: 4.0373 - val_accuracy: 0.0736\n",
      "INFO:tensorflow:Assets written to: C:/Users/keena/Desktop/AIproj/Models\\DenseNet121Adadeltae30\\assets\n",
      "Epoch 11/30\n",
      "842/842 [==============================] - 69s 82ms/step - loss: 3.9847 - accuracy: 0.0709 - val_loss: 3.9897 - val_accuracy: 0.0793\n",
      "INFO:tensorflow:Assets written to: C:/Users/keena/Desktop/AIproj/Models\\DenseNet121Adadeltae30\\assets\n",
      "Epoch 12/30\n",
      "842/842 [==============================] - 65s 77ms/step - loss: 3.9381 - accuracy: 0.0778 - val_loss: 3.9412 - val_accuracy: 0.0876\n",
      "INFO:tensorflow:Assets written to: C:/Users/keena/Desktop/AIproj/Models\\DenseNet121Adadeltae30\\assets\n",
      "Epoch 13/30\n",
      "842/842 [==============================] - 64s 76ms/step - loss: 3.8940 - accuracy: 0.0843 - val_loss: 3.8954 - val_accuracy: 0.0930\n",
      "INFO:tensorflow:Assets written to: C:/Users/keena/Desktop/AIproj/Models\\DenseNet121Adadeltae30\\assets\n",
      "Epoch 14/30\n",
      "842/842 [==============================] - 65s 77ms/step - loss: 3.8563 - accuracy: 0.0936 - val_loss: 3.8503 - val_accuracy: 0.1028\n",
      "INFO:tensorflow:Assets written to: C:/Users/keena/Desktop/AIproj/Models\\DenseNet121Adadeltae30\\assets\n",
      "Epoch 15/30\n",
      "842/842 [==============================] - 65s 78ms/step - loss: 3.8181 - accuracy: 0.0992 - val_loss: 3.8063 - val_accuracy: 0.1117\n",
      "INFO:tensorflow:Assets written to: C:/Users/keena/Desktop/AIproj/Models\\DenseNet121Adadeltae30\\assets\n",
      "Epoch 16/30\n",
      "842/842 [==============================] - 66s 78ms/step - loss: 3.7814 - accuracy: 0.1070 - val_loss: 3.7581 - val_accuracy: 0.1226\n",
      "INFO:tensorflow:Assets written to: C:/Users/keena/Desktop/AIproj/Models\\DenseNet121Adadeltae30\\assets\n",
      "Epoch 17/30\n",
      "842/842 [==============================] - 66s 78ms/step - loss: 3.7408 - accuracy: 0.1141 - val_loss: 3.7232 - val_accuracy: 0.1320\n",
      "INFO:tensorflow:Assets written to: C:/Users/keena/Desktop/AIproj/Models\\DenseNet121Adadeltae30\\assets\n",
      "Epoch 18/30\n",
      "842/842 [==============================] - 67s 80ms/step - loss: 3.7008 - accuracy: 0.1264 - val_loss: 3.6765 - val_accuracy: 0.1399\n",
      "INFO:tensorflow:Assets written to: C:/Users/keena/Desktop/AIproj/Models\\DenseNet121Adadeltae30\\assets\n",
      "Epoch 19/30\n",
      "842/842 [==============================] - 66s 78ms/step - loss: 3.6689 - accuracy: 0.1321 - val_loss: 3.6349 - val_accuracy: 0.1530\n",
      "INFO:tensorflow:Assets written to: C:/Users/keena/Desktop/AIproj/Models\\DenseNet121Adadeltae30\\assets\n",
      "Epoch 20/30\n",
      "842/842 [==============================] - 65s 77ms/step - loss: 3.6326 - accuracy: 0.1404 - val_loss: 3.5958 - val_accuracy: 0.1628\n",
      "INFO:tensorflow:Assets written to: C:/Users/keena/Desktop/AIproj/Models\\DenseNet121Adadeltae30\\assets\n",
      "Epoch 21/30\n",
      "842/842 [==============================] - 66s 79ms/step - loss: 3.6044 - accuracy: 0.1496 - val_loss: 3.5548 - val_accuracy: 0.1727\n",
      "INFO:tensorflow:Assets written to: C:/Users/keena/Desktop/AIproj/Models\\DenseNet121Adadeltae30\\assets\n",
      "Epoch 22/30\n",
      "842/842 [==============================] - 67s 79ms/step - loss: 3.5627 - accuracy: 0.1622 - val_loss: 3.5165 - val_accuracy: 0.1825\n",
      "INFO:tensorflow:Assets written to: C:/Users/keena/Desktop/AIproj/Models\\DenseNet121Adadeltae30\\assets\n",
      "Epoch 23/30\n",
      "842/842 [==============================] - 67s 80ms/step - loss: 3.5251 - accuracy: 0.1723 - val_loss: 3.4729 - val_accuracy: 0.1960\n",
      "INFO:tensorflow:Assets written to: C:/Users/keena/Desktop/AIproj/Models\\DenseNet121Adadeltae30\\assets\n",
      "Epoch 24/30\n",
      "842/842 [==============================] - 66s 78ms/step - loss: 3.4921 - accuracy: 0.1824 - val_loss: 3.4368 - val_accuracy: 0.2064\n",
      "INFO:tensorflow:Assets written to: C:/Users/keena/Desktop/AIproj/Models\\DenseNet121Adadeltae30\\assets\n",
      "Epoch 25/30\n",
      "842/842 [==============================] - 68s 81ms/step - loss: 3.4598 - accuracy: 0.1911 - val_loss: 3.3967 - val_accuracy: 0.2162\n",
      "INFO:tensorflow:Assets written to: C:/Users/keena/Desktop/AIproj/Models\\DenseNet121Adadeltae30\\assets\n",
      "Epoch 26/30\n",
      "842/842 [==============================] - 70s 83ms/step - loss: 3.4219 - accuracy: 0.2017 - val_loss: 3.3624 - val_accuracy: 0.2248\n",
      "INFO:tensorflow:Assets written to: C:/Users/keena/Desktop/AIproj/Models\\DenseNet121Adadeltae30\\assets\n",
      "Epoch 27/30\n",
      "842/842 [==============================] - 67s 80ms/step - loss: 3.3932 - accuracy: 0.2099 - val_loss: 3.3218 - val_accuracy: 0.2354\n",
      "INFO:tensorflow:Assets written to: C:/Users/keena/Desktop/AIproj/Models\\DenseNet121Adadeltae30\\assets\n",
      "Epoch 28/30\n",
      "842/842 [==============================] - 65s 77ms/step - loss: 3.3619 - accuracy: 0.2173 - val_loss: 3.2895 - val_accuracy: 0.2416\n",
      "INFO:tensorflow:Assets written to: C:/Users/keena/Desktop/AIproj/Models\\DenseNet121Adadeltae30\\assets\n",
      "Epoch 29/30\n",
      "842/842 [==============================] - 66s 79ms/step - loss: 3.3236 - accuracy: 0.2295 - val_loss: 3.2507 - val_accuracy: 0.2521\n",
      "INFO:tensorflow:Assets written to: C:/Users/keena/Desktop/AIproj/Models\\DenseNet121Adadeltae30\\assets\n",
      "Epoch 30/30\n",
      "842/842 [==============================] - 66s 79ms/step - loss: 3.2923 - accuracy: 0.2405 - val_loss: 3.2136 - val_accuracy: 0.2598\n",
      "INFO:tensorflow:Assets written to: C:/Users/keena/Desktop/AIproj/Models\\DenseNet121Adadeltae30\\assets\n"
     ]
    },
    {
     "data": {
      "text/plain": [
       "<tensorflow.python.keras.callbacks.History at 0x23e1fc0dcd0>"
      ]
     },
     "execution_count": 11,
     "metadata": {},
     "output_type": "execute_result"
    }
   ],
   "source": [
    "reduce_lr = ReduceLROnPlateau(monitor='loss', factor=0.5, patience=3, verbose = 1)\n",
    "\n",
    "model_checkpoint = tf.keras.callbacks.ModelCheckpoint(\n",
    "    filepath='C:/Users/keena/Desktop/AIproj/Models/DenseNet121Adadeltae30', # KEENAN PUT YOUR DIRECTORY with a /Model/<modelname> here\n",
    "    monitor='val_loss',\n",
    "    save_weights_only=False,\n",
    "    save_best_only=True)\n",
    "\n",
    "model.fit(x=train_generator, validation_data=validation_generator, epochs = 30, callbacks=[reduce_lr,model_checkpoint])"
   ]
  },
  {
   "cell_type": "code",
   "execution_count": null,
   "metadata": {
    "colab": {
     "base_uri": "https://localhost:8080/"
    },
    "id": "oEvlVXtYu0r2",
    "outputId": "49c8233d-c2fd-4f64-b56c-6f4c062164f5"
   },
   "outputs": [
    {
     "name": "stdout",
     "output_type": "stream",
     "text": [
      "Found 5082 images belonging to 60 classes.\n"
     ]
    }
   ],
   "source": [
    "test_datagen = ImageDataGenerator(preprocessing_function=preprocess_input)\n",
    "test_generator = test_datagen.flow_from_directory(\n",
    "    '/home/jovyan/Symbols/test',\n",
    "    shuffle=False,\n",
    "    target_size=(45, 45),\n",
    "    class_mode='categorical')"
   ]
  },
  {
   "cell_type": "code",
   "execution_count": null,
   "metadata": {
    "id": "dzRCvt1Wu2GR"
   },
   "outputs": [],
   "source": [
    "# test_generator.classes\n",
    "# test_generator.class_indices\n",
    "# test_generator.filenames"
   ]
  },
  {
   "cell_type": "code",
   "execution_count": 13,
   "metadata": {
    "colab": {
     "base_uri": "https://localhost:8080/",
     "height": 370
    },
    "id": "D9yeC9zau6gg",
    "outputId": "946a1357-820b-4d5f-f09b-241289368827"
   },
   "outputs": [],
   "source": [
    "# test_generator.classes\n",
    "# test_generator.class_indices\n",
    "# test_generator.filenames\n",
    "\n",
    "# top1 = 0\n",
    "# top2 = 0\n",
    "# top3 = 0\n",
    "# predict = model.predict(test_generator)\n",
    "\n",
    "# for i in range(len(predict)):\n",
    "#   result = np.argsort(-predict[i])\n",
    "#   truth = test_generator.classes[i]\n",
    "#   if truth in result[:3]: top3 += 1\n",
    "#   if truth in result[:2]: top2 += 1\n",
    "#   if truth in result[:1]: top1 += 1\n",
    "\n",
    "# top1 = top1/len(predict)\n",
    "# top2 = top2/len(predict)\n",
    "# top3 = top3/len(predict)\n",
    "# print(top1, top2, top3)"
   ]
  },
  {
   "cell_type": "code",
   "execution_count": null,
   "metadata": {
    "id": "Vs-pITaoo8gs"
   },
   "outputs": [],
   "source": [
    "# from tensorflow import keras\n",
    "# model = keras.models.load_model('/content/drive/MyDrive/Models/desnet201e30')"
   ]
  },
  {
   "cell_type": "code",
   "execution_count": null,
   "metadata": {},
   "outputs": [],
   "source": [
    "#from tensorflow.keras.applications.resnet import preprocess_input\n",
    "# from tensorflow.keras.applications.inception_v3 import preprocess_input\n",
    "from tensorflow.keras.applications.densenet import preprocess_input"
   ]
  },
  {
   "cell_type": "code",
   "execution_count": 12,
   "metadata": {},
   "outputs": [
    {
     "name": "stdout",
     "output_type": "stream",
     "text": [
      "Found 26925 images belonging to 60 classes.\n",
      "Found 11540 images belonging to 60 classes.\n"
     ]
    }
   ],
   "source": [
    "# loading training data\n",
    "train_datagen = ImageDataGenerator(preprocessing_function=preprocess_input,\n",
    "                                #    shear_range=0.2,\n",
    "                                  #  zoom_range=0.4,\n",
    "                                  #  rotation_range=30,\n",
    "                                   )\n",
    "\n",
    "valid_datagen = ImageDataGenerator(preprocessing_function=preprocess_input)\n",
    "# test_datagen = ImageDataGenerator(preprocessing_function=preprocess_input)\n",
    "\n",
    "train_generator = train_datagen.flow_from_directory(\n",
    "        'C:/Users/keena/Desktop/AIproj/train', # KEENAN PUT YOUR DIRECTORY with a /train here\n",
    "        target_size=(45, 45),\n",
    "        class_mode='categorical')\n",
    "\n",
    "validation_generator = valid_datagen.flow_from_directory(\n",
    "    'C:/Users/keena/Desktop/AIproj/valid', # KEENAN PUT YOUR DIRECTORY with a /valid here\n",
    "    shuffle=False,\n",
    "    target_size=(45, 45),\n",
    "    class_mode='categorical')"
   ]
  },
  {
   "cell_type": "code",
   "execution_count": 13,
   "metadata": {},
   "outputs": [],
   "source": [
    "model = Sequential()\n",
    "# create the base pre-trained model\n",
    "model.add(DenseNet121(input_shape=(45, 45,3), weights='imagenet', include_top=False)) #Keenan\n",
    "# add a global spatial average pooling layer\n",
    "model.add(GlobalAveragePooling2D()) # CHANGE THIS MAYBE YEAH\n",
    "# let's add a fully-connected layer\n",
    "model.add(Dense(1024, activation='relu'))\n",
    "# and a logistic layer -- let's say we have 60 classes\n",
    "model.add(Dense(len(train_generator.class_indices), activation='softmax'))"
   ]
  },
  {
   "cell_type": "code",
   "execution_count": 14,
   "metadata": {},
   "outputs": [],
   "source": [
    "# specify training loss function \n",
    "model.compile(loss='categorical_crossentropy',\n",
    "              optimizer=tf.keras.optimizers.Adagrad(learning_rate=0.0001), # CHANGE THIS YEAH\n",
    "              metrics=['accuracy'])"
   ]
  },
  {
   "cell_type": "code",
   "execution_count": 15,
   "metadata": {},
   "outputs": [
    {
     "name": "stdout",
     "output_type": "stream",
     "text": [
      "Epoch 1/30\n",
      "842/842 [==============================] - 70s 76ms/step - loss: 3.7102 - accuracy: 0.1490 - val_loss: 3.0706 - val_accuracy: 0.3032\n",
      "INFO:tensorflow:Assets written to: C:/Users/keena/Desktop/AIproj/Models\\DenseNet121Adagrade30\\assets\n",
      "Epoch 2/30\n",
      "842/842 [==============================] - 61s 73ms/step - loss: 2.8121 - accuracy: 0.3740 - val_loss: 2.4403 - val_accuracy: 0.4607\n",
      "INFO:tensorflow:Assets written to: C:/Users/keena/Desktop/AIproj/Models\\DenseNet121Adagrade30\\assets\n",
      "Epoch 3/30\n",
      "842/842 [==============================] - 62s 73ms/step - loss: 2.3304 - accuracy: 0.4865 - val_loss: 2.0609 - val_accuracy: 0.5416\n",
      "INFO:tensorflow:Assets written to: C:/Users/keena/Desktop/AIproj/Models\\DenseNet121Adagrade30\\assets\n",
      "Epoch 4/30\n",
      "842/842 [==============================] - 63s 75ms/step - loss: 2.0133 - accuracy: 0.5561 - val_loss: 1.7817 - val_accuracy: 0.6047\n",
      "INFO:tensorflow:Assets written to: C:/Users/keena/Desktop/AIproj/Models\\DenseNet121Adagrade30\\assets\n",
      "Epoch 5/30\n",
      "842/842 [==============================] - 64s 76ms/step - loss: 1.7607 - accuracy: 0.6147 - val_loss: 1.5769 - val_accuracy: 0.6488\n",
      "INFO:tensorflow:Assets written to: C:/Users/keena/Desktop/AIproj/Models\\DenseNet121Adagrade30\\assets\n",
      "Epoch 6/30\n",
      "842/842 [==============================] - 64s 76ms/step - loss: 1.5729 - accuracy: 0.6506 - val_loss: 1.4115 - val_accuracy: 0.6833\n",
      "INFO:tensorflow:Assets written to: C:/Users/keena/Desktop/AIproj/Models\\DenseNet121Adagrade30\\assets\n",
      "Epoch 7/30\n",
      "842/842 [==============================] - 63s 75ms/step - loss: 1.4179 - accuracy: 0.6822 - val_loss: 1.2846 - val_accuracy: 0.7136\n",
      "INFO:tensorflow:Assets written to: C:/Users/keena/Desktop/AIproj/Models\\DenseNet121Adagrade30\\assets\n",
      "Epoch 8/30\n",
      "842/842 [==============================] - 64s 76ms/step - loss: 1.3070 - accuracy: 0.7043 - val_loss: 1.1778 - val_accuracy: 0.7332\n",
      "INFO:tensorflow:Assets written to: C:/Users/keena/Desktop/AIproj/Models\\DenseNet121Adagrade30\\assets\n",
      "Epoch 9/30\n",
      "842/842 [==============================] - 65s 77ms/step - loss: 1.2034 - accuracy: 0.7244 - val_loss: 1.0880 - val_accuracy: 0.7509\n",
      "INFO:tensorflow:Assets written to: C:/Users/keena/Desktop/AIproj/Models\\DenseNet121Adagrade30\\assets\n",
      "Epoch 10/30\n",
      "842/842 [==============================] - 63s 75ms/step - loss: 1.1136 - accuracy: 0.7440 - val_loss: 1.0171 - val_accuracy: 0.7647\n",
      "INFO:tensorflow:Assets written to: C:/Users/keena/Desktop/AIproj/Models\\DenseNet121Adagrade30\\assets\n",
      "Epoch 11/30\n",
      "842/842 [==============================] - 62s 74ms/step - loss: 1.0469 - accuracy: 0.7532 - val_loss: 0.9603 - val_accuracy: 0.7800\n",
      "INFO:tensorflow:Assets written to: C:/Users/keena/Desktop/AIproj/Models\\DenseNet121Adagrade30\\assets\n",
      "Epoch 12/30\n",
      "842/842 [==============================] - 62s 74ms/step - loss: 0.9826 - accuracy: 0.7671 - val_loss: 0.9085 - val_accuracy: 0.7904\n",
      "INFO:tensorflow:Assets written to: C:/Users/keena/Desktop/AIproj/Models\\DenseNet121Adagrade30\\assets\n",
      "Epoch 13/30\n",
      "842/842 [==============================] - 62s 73ms/step - loss: 0.9278 - accuracy: 0.7814 - val_loss: 0.8564 - val_accuracy: 0.7993\n",
      "INFO:tensorflow:Assets written to: C:/Users/keena/Desktop/AIproj/Models\\DenseNet121Adagrade30\\assets\n",
      "Epoch 14/30\n",
      "842/842 [==============================] - 62s 73ms/step - loss: 0.8731 - accuracy: 0.7886 - val_loss: 0.8143 - val_accuracy: 0.8100\n",
      "INFO:tensorflow:Assets written to: C:/Users/keena/Desktop/AIproj/Models\\DenseNet121Adagrade30\\assets\n",
      "Epoch 15/30\n",
      "842/842 [==============================] - 62s 74ms/step - loss: 0.8356 - accuracy: 0.7992 - val_loss: 0.7819 - val_accuracy: 0.8177\n",
      "INFO:tensorflow:Assets written to: C:/Users/keena/Desktop/AIproj/Models\\DenseNet121Adagrade30\\assets\n",
      "Epoch 16/30\n",
      "842/842 [==============================] - 62s 74ms/step - loss: 0.8010 - accuracy: 0.8079 - val_loss: 0.7505 - val_accuracy: 0.8266\n",
      "INFO:tensorflow:Assets written to: C:/Users/keena/Desktop/AIproj/Models\\DenseNet121Adagrade30\\assets\n",
      "Epoch 17/30\n",
      "842/842 [==============================] - 62s 73ms/step - loss: 0.7622 - accuracy: 0.8153 - val_loss: 0.7210 - val_accuracy: 0.8330\n",
      "INFO:tensorflow:Assets written to: C:/Users/keena/Desktop/AIproj/Models\\DenseNet121Adagrade30\\assets\n",
      "Epoch 18/30\n",
      "842/842 [==============================] - 61s 73ms/step - loss: 0.7274 - accuracy: 0.8240 - val_loss: 0.6934 - val_accuracy: 0.8375\n",
      "INFO:tensorflow:Assets written to: C:/Users/keena/Desktop/AIproj/Models\\DenseNet121Adagrade30\\assets\n",
      "Epoch 19/30\n",
      "842/842 [==============================] - 61s 73ms/step - loss: 0.7009 - accuracy: 0.8282 - val_loss: 0.6699 - val_accuracy: 0.8428\n",
      "INFO:tensorflow:Assets written to: C:/Users/keena/Desktop/AIproj/Models\\DenseNet121Adagrade30\\assets\n",
      "Epoch 20/30\n",
      "842/842 [==============================] - 61s 72ms/step - loss: 0.6863 - accuracy: 0.8323 - val_loss: 0.6511 - val_accuracy: 0.8465\n",
      "INFO:tensorflow:Assets written to: C:/Users/keena/Desktop/AIproj/Models\\DenseNet121Adagrade30\\assets\n",
      "Epoch 21/30\n",
      "842/842 [==============================] - 61s 72ms/step - loss: 0.6571 - accuracy: 0.8404 - val_loss: 0.6313 - val_accuracy: 0.8521\n",
      "INFO:tensorflow:Assets written to: C:/Users/keena/Desktop/AIproj/Models\\DenseNet121Adagrade30\\assets\n",
      "Epoch 22/30\n",
      "842/842 [==============================] - 60s 72ms/step - loss: 0.6310 - accuracy: 0.8434 - val_loss: 0.6116 - val_accuracy: 0.8552\n",
      "INFO:tensorflow:Assets written to: C:/Users/keena/Desktop/AIproj/Models\\DenseNet121Adagrade30\\assets\n",
      "Epoch 23/30\n",
      "842/842 [==============================] - 60s 72ms/step - loss: 0.6131 - accuracy: 0.8455 - val_loss: 0.5963 - val_accuracy: 0.8598\n",
      "INFO:tensorflow:Assets written to: C:/Users/keena/Desktop/AIproj/Models\\DenseNet121Adagrade30\\assets\n",
      "Epoch 24/30\n",
      "842/842 [==============================] - 61s 73ms/step - loss: 0.5882 - accuracy: 0.8550 - val_loss: 0.5808 - val_accuracy: 0.8632\n",
      "INFO:tensorflow:Assets written to: C:/Users/keena/Desktop/AIproj/Models\\DenseNet121Adagrade30\\assets\n",
      "Epoch 25/30\n",
      "842/842 [==============================] - 63s 75ms/step - loss: 0.5756 - accuracy: 0.8563 - val_loss: 0.5671 - val_accuracy: 0.8657\n",
      "INFO:tensorflow:Assets written to: C:/Users/keena/Desktop/AIproj/Models\\DenseNet121Adagrade30\\assets\n",
      "Epoch 26/30\n",
      "842/842 [==============================] - 62s 73ms/step - loss: 0.5558 - accuracy: 0.8612 - val_loss: 0.5547 - val_accuracy: 0.8707\n",
      "INFO:tensorflow:Assets written to: C:/Users/keena/Desktop/AIproj/Models\\DenseNet121Adagrade30\\assets\n",
      "Epoch 27/30\n",
      "842/842 [==============================] - 60s 72ms/step - loss: 0.5403 - accuracy: 0.8651 - val_loss: 0.5455 - val_accuracy: 0.8731\n",
      "INFO:tensorflow:Assets written to: C:/Users/keena/Desktop/AIproj/Models\\DenseNet121Adagrade30\\assets\n",
      "Epoch 28/30\n",
      "842/842 [==============================] - 60s 72ms/step - loss: 0.5292 - accuracy: 0.8683 - val_loss: 0.5306 - val_accuracy: 0.8750\n",
      "INFO:tensorflow:Assets written to: C:/Users/keena/Desktop/AIproj/Models\\DenseNet121Adagrade30\\assets\n",
      "Epoch 29/30\n",
      "842/842 [==============================] - 60s 72ms/step - loss: 0.5122 - accuracy: 0.8704 - val_loss: 0.5194 - val_accuracy: 0.8785\n",
      "INFO:tensorflow:Assets written to: C:/Users/keena/Desktop/AIproj/Models\\DenseNet121Adagrade30\\assets\n",
      "Epoch 30/30\n",
      "842/842 [==============================] - 60s 72ms/step - loss: 0.4937 - accuracy: 0.8747 - val_loss: 0.5135 - val_accuracy: 0.8801\n",
      "INFO:tensorflow:Assets written to: C:/Users/keena/Desktop/AIproj/Models\\DenseNet121Adagrade30\\assets\n"
     ]
    },
    {
     "data": {
      "text/plain": [
       "<tensorflow.python.keras.callbacks.History at 0x23eeadf36a0>"
      ]
     },
     "execution_count": 15,
     "metadata": {},
     "output_type": "execute_result"
    }
   ],
   "source": [
    "reduce_lr = ReduceLROnPlateau(monitor='loss', factor=0.5, patience=3, verbose = 1)\n",
    "\n",
    "model_checkpoint = tf.keras.callbacks.ModelCheckpoint(\n",
    "    filepath='C:/Users/keena/Desktop/AIproj/Models/DenseNet121Adagrade30', # KEENAN PUT YOUR DIRECTORY with a /Model/<modelname> here\n",
    "    monitor='val_loss',\n",
    "    save_weights_only=False,\n",
    "    save_best_only=True)\n",
    "\n",
    "model.fit(x=train_generator, validation_data=validation_generator, epochs = 30, callbacks=[reduce_lr,model_checkpoint])"
   ]
  },
  {
   "cell_type": "code",
   "execution_count": null,
   "metadata": {},
   "outputs": [],
   "source": [
    "#Next model Adam"
   ]
  },
  {
   "cell_type": "code",
   "execution_count": 16,
   "metadata": {},
   "outputs": [
    {
     "name": "stdout",
     "output_type": "stream",
     "text": [
      "Found 26925 images belonging to 60 classes.\n",
      "Found 11540 images belonging to 60 classes.\n"
     ]
    }
   ],
   "source": [
    "# loading training data\n",
    "train_datagen = ImageDataGenerator(preprocessing_function=preprocess_input,\n",
    "                                #    shear_range=0.2,\n",
    "                                  #  zoom_range=0.4,\n",
    "                                  #  rotation_range=30,\n",
    "                                   )\n",
    "\n",
    "valid_datagen = ImageDataGenerator(preprocessing_function=preprocess_input)\n",
    "# test_datagen = ImageDataGenerator(preprocessing_function=preprocess_input)\n",
    "\n",
    "train_generator = train_datagen.flow_from_directory(\n",
    "        'C:/Users/keena/Desktop/AIproj/train', # KEENAN PUT YOUR DIRECTORY with a /train here\n",
    "        target_size=(45, 45),\n",
    "        class_mode='categorical')\n",
    "\n",
    "validation_generator = valid_datagen.flow_from_directory(\n",
    "    'C:/Users/keena/Desktop/AIproj/valid', # KEENAN PUT YOUR DIRECTORY with a /valid here\n",
    "    shuffle=False,\n",
    "    target_size=(45, 45),\n",
    "    class_mode='categorical')"
   ]
  },
  {
   "cell_type": "code",
   "execution_count": 17,
   "metadata": {},
   "outputs": [],
   "source": [
    "model = Sequential()\n",
    "# create the base pre-trained model\n",
    "model.add(DenseNet121(input_shape=(45, 45,3), weights='imagenet', include_top=False)) #Keenan\n",
    "# add a global spatial average pooling layer\n",
    "model.add(GlobalAveragePooling2D()) # CHANGE THIS MAYBE YEAH\n",
    "# let's add a fully-connected layer\n",
    "model.add(Dense(1024, activation='relu'))\n",
    "# and a logistic layer -- let's say we have 60 classes\n",
    "model.add(Dense(len(train_generator.class_indices), activation='softmax'))"
   ]
  },
  {
   "cell_type": "code",
   "execution_count": 18,
   "metadata": {},
   "outputs": [],
   "source": [
    "# specify training loss function \n",
    "model.compile(loss='categorical_crossentropy',\n",
    "              optimizer=tf.keras.optimizers.Adam(learning_rate=0.0001), # CHANGE THIS YEAH\n",
    "              metrics=['accuracy'])"
   ]
  },
  {
   "cell_type": "code",
   "execution_count": 19,
   "metadata": {},
   "outputs": [
    {
     "name": "stdout",
     "output_type": "stream",
     "text": [
      "Epoch 1/30\n",
      "842/842 [==============================] - 70s 76ms/step - loss: 0.8820 - accuracy: 0.7813 - val_loss: 0.3048 - val_accuracy: 0.9218\n",
      "INFO:tensorflow:Assets written to: C:/Users/keena/Desktop/AIproj/Models\\DenseNet121Adame30\\assets\n",
      "Epoch 2/30\n",
      "842/842 [==============================] - 62s 74ms/step - loss: 0.2283 - accuracy: 0.9320 - val_loss: 0.3555 - val_accuracy: 0.9321\n",
      "Epoch 3/30\n",
      "842/842 [==============================] - 62s 74ms/step - loss: 0.1543 - accuracy: 0.9519 - val_loss: 0.3066 - val_accuracy: 0.9368\n",
      "Epoch 4/30\n",
      "842/842 [==============================] - 62s 74ms/step - loss: 0.1306 - accuracy: 0.9594 - val_loss: 0.3393 - val_accuracy: 0.9394\n",
      "Epoch 5/30\n",
      "842/842 [==============================] - 62s 74ms/step - loss: 0.1153 - accuracy: 0.9635 - val_loss: 0.3388 - val_accuracy: 0.9382\n",
      "Epoch 6/30\n",
      "842/842 [==============================] - 62s 74ms/step - loss: 0.1015 - accuracy: 0.9670 - val_loss: 0.3999 - val_accuracy: 0.9324\n",
      "Epoch 7/30\n",
      "842/842 [==============================] - 62s 74ms/step - loss: 0.0970 - accuracy: 0.9693 - val_loss: 0.3413 - val_accuracy: 0.9404\n",
      "Epoch 8/30\n",
      "842/842 [==============================] - 63s 74ms/step - loss: 0.0769 - accuracy: 0.9746 - val_loss: 0.3932 - val_accuracy: 0.9359\n",
      "Epoch 9/30\n",
      "842/842 [==============================] - 62s 74ms/step - loss: 0.0744 - accuracy: 0.9752 - val_loss: 0.4499 - val_accuracy: 0.9399\n",
      "Epoch 10/30\n",
      "842/842 [==============================] - 63s 74ms/step - loss: 0.0654 - accuracy: 0.9785 - val_loss: 0.4404 - val_accuracy: 0.9419\n",
      "Epoch 11/30\n",
      "842/842 [==============================] - 63s 74ms/step - loss: 0.0579 - accuracy: 0.9808 - val_loss: 0.3751 - val_accuracy: 0.9416\n",
      "Epoch 12/30\n",
      "842/842 [==============================] - 62s 74ms/step - loss: 0.0617 - accuracy: 0.9806 - val_loss: 0.3988 - val_accuracy: 0.9473\n",
      "Epoch 13/30\n",
      "842/842 [==============================] - 62s 74ms/step - loss: 0.0557 - accuracy: 0.9827 - val_loss: 0.4129 - val_accuracy: 0.9471\n",
      "Epoch 14/30\n",
      "842/842 [==============================] - 62s 74ms/step - loss: 0.0483 - accuracy: 0.9850 - val_loss: 0.4689 - val_accuracy: 0.9412\n",
      "Epoch 15/30\n",
      "842/842 [==============================] - 62s 74ms/step - loss: 0.0402 - accuracy: 0.9871 - val_loss: 0.4594 - val_accuracy: 0.9392\n",
      "Epoch 16/30\n",
      "842/842 [==============================] - 62s 74ms/step - loss: 0.0428 - accuracy: 0.9869 - val_loss: 0.4405 - val_accuracy: 0.9412\n",
      "Epoch 17/30\n",
      "842/842 [==============================] - 62s 74ms/step - loss: 0.0379 - accuracy: 0.9883 - val_loss: 0.4295 - val_accuracy: 0.9481\n",
      "Epoch 18/30\n",
      "842/842 [==============================] - 62s 74ms/step - loss: 0.0373 - accuracy: 0.9882 - val_loss: 0.4954 - val_accuracy: 0.9400\n",
      "Epoch 19/30\n",
      "842/842 [==============================] - 63s 75ms/step - loss: 0.0381 - accuracy: 0.9886 - val_loss: 0.3923 - val_accuracy: 0.9514\n",
      "Epoch 20/30\n",
      "842/842 [==============================] - 63s 75ms/step - loss: 0.0360 - accuracy: 0.9898 - val_loss: 0.4569 - val_accuracy: 0.9412\n",
      "Epoch 21/30\n",
      "842/842 [==============================] - 63s 74ms/step - loss: 0.0299 - accuracy: 0.9911 - val_loss: 0.4665 - val_accuracy: 0.9438\n",
      "Epoch 22/30\n",
      "842/842 [==============================] - 65s 77ms/step - loss: 0.0256 - accuracy: 0.9922 - val_loss: 0.5253 - val_accuracy: 0.9443\n",
      "Epoch 23/30\n",
      "842/842 [==============================] - 64s 76ms/step - loss: 0.0280 - accuracy: 0.9914 - val_loss: 0.4946 - val_accuracy: 0.9433\n",
      "Epoch 24/30\n",
      "842/842 [==============================] - 64s 76ms/step - loss: 0.0319 - accuracy: 0.9904 - val_loss: 0.4156 - val_accuracy: 0.9506\n",
      "Epoch 25/30\n",
      "842/842 [==============================] - 64s 76ms/step - loss: 0.0186 - accuracy: 0.9941 - val_loss: 0.4706 - val_accuracy: 0.9493\n",
      "Epoch 26/30\n",
      "842/842 [==============================] - 64s 76ms/step - loss: 0.0211 - accuracy: 0.9939 - val_loss: 0.5129 - val_accuracy: 0.9415\n",
      "Epoch 27/30\n",
      "842/842 [==============================] - 62s 74ms/step - loss: 0.0302 - accuracy: 0.9912 - val_loss: 0.5350 - val_accuracy: 0.9441\n",
      "Epoch 28/30\n",
      "842/842 [==============================] - 62s 74ms/step - loss: 0.0203 - accuracy: 0.9938 - val_loss: 0.4761 - val_accuracy: 0.9510\n",
      "\n",
      "Epoch 00028: ReduceLROnPlateau reducing learning rate to 4.999999873689376e-05.\n",
      "Epoch 29/30\n",
      "842/842 [==============================] - 64s 77ms/step - loss: 0.0057 - accuracy: 0.9981 - val_loss: 0.4571 - val_accuracy: 0.9542\n",
      "Epoch 30/30\n",
      "842/842 [==============================] - 66s 78ms/step - loss: 0.0041 - accuracy: 0.9985 - val_loss: 0.5306 - val_accuracy: 0.9501\n"
     ]
    },
    {
     "data": {
      "text/plain": [
       "<tensorflow.python.keras.callbacks.History at 0x23f0244e070>"
      ]
     },
     "execution_count": 19,
     "metadata": {},
     "output_type": "execute_result"
    }
   ],
   "source": [
    "reduce_lr = ReduceLROnPlateau(monitor='loss', factor=0.5, patience=3, verbose = 1)\n",
    "\n",
    "model_checkpoint = tf.keras.callbacks.ModelCheckpoint(\n",
    "    filepath='C:/Users/keena/Desktop/AIproj/Models/DenseNet121Adame30', # KEENAN PUT YOUR DIRECTORY with a /Model/<modelname> here\n",
    "    monitor='val_loss',\n",
    "    save_weights_only=False,\n",
    "    save_best_only=True)\n",
    "\n",
    "model.fit(x=train_generator, validation_data=validation_generator, epochs = 30, callbacks=[reduce_lr,model_checkpoint])"
   ]
  },
  {
   "cell_type": "code",
   "execution_count": null,
   "metadata": {},
   "outputs": [],
   "source": [
    "#Next model Adamax"
   ]
  },
  {
   "cell_type": "code",
   "execution_count": 20,
   "metadata": {},
   "outputs": [
    {
     "name": "stdout",
     "output_type": "stream",
     "text": [
      "Found 26925 images belonging to 60 classes.\n",
      "Found 11540 images belonging to 60 classes.\n"
     ]
    }
   ],
   "source": [
    "# loading training data\n",
    "train_datagen = ImageDataGenerator(preprocessing_function=preprocess_input,\n",
    "                                #    shear_range=0.2,\n",
    "                                  #  zoom_range=0.4,\n",
    "                                  #  rotation_range=30,\n",
    "                                   )\n",
    "\n",
    "valid_datagen = ImageDataGenerator(preprocessing_function=preprocess_input)\n",
    "# test_datagen = ImageDataGenerator(preprocessing_function=preprocess_input)\n",
    "\n",
    "train_generator = train_datagen.flow_from_directory(\n",
    "        'C:/Users/keena/Desktop/AIproj/train', # KEENAN PUT YOUR DIRECTORY with a /train here\n",
    "        target_size=(45, 45),\n",
    "        class_mode='categorical')\n",
    "\n",
    "validation_generator = valid_datagen.flow_from_directory(\n",
    "    'C:/Users/keena/Desktop/AIproj/valid', # KEENAN PUT YOUR DIRECTORY with a /valid here\n",
    "    shuffle=False,\n",
    "    target_size=(45, 45),\n",
    "    class_mode='categorical')"
   ]
  },
  {
   "cell_type": "code",
   "execution_count": 21,
   "metadata": {},
   "outputs": [],
   "source": [
    "model = Sequential()\n",
    "# create the base pre-trained model\n",
    "model.add(DenseNet121(input_shape=(45, 45,3), weights='imagenet', include_top=False)) #Keenan\n",
    "# add a global spatial average pooling layer\n",
    "model.add(GlobalAveragePooling2D()) # CHANGE THIS MAYBE YEAH\n",
    "# let's add a fully-connected layer\n",
    "model.add(Dense(1024, activation='relu'))\n",
    "# and a logistic layer -- let's say we have 60 classes\n",
    "model.add(Dense(len(train_generator.class_indices), activation='softmax'))"
   ]
  },
  {
   "cell_type": "code",
   "execution_count": 22,
   "metadata": {},
   "outputs": [],
   "source": [
    "# specify training loss function \n",
    "model.compile(loss='categorical_crossentropy',\n",
    "              optimizer=tf.keras.optimizers.Adamax(learning_rate=0.0001), # CHANGE THIS YEAH\n",
    "              metrics=['accuracy'])"
   ]
  },
  {
   "cell_type": "code",
   "execution_count": 23,
   "metadata": {},
   "outputs": [
    {
     "name": "stdout",
     "output_type": "stream",
     "text": [
      "Epoch 1/30\n",
      "842/842 [==============================] - 72s 78ms/step - loss: 1.5485 - accuracy: 0.6434 - val_loss: 0.5645 - val_accuracy: 0.8651\n",
      "INFO:tensorflow:Assets written to: C:/Users/keena/Desktop/AIproj/Models\\DenseNet121Adamaxe30\\assets\n",
      "Epoch 2/30\n",
      "842/842 [==============================] - 65s 78ms/step - loss: 0.4006 - accuracy: 0.8955 - val_loss: 0.3517 - val_accuracy: 0.9192\n",
      "INFO:tensorflow:Assets written to: C:/Users/keena/Desktop/AIproj/Models\\DenseNet121Adamaxe30\\assets\n",
      "Epoch 3/30\n",
      "842/842 [==============================] - 66s 79ms/step - loss: 0.2288 - accuracy: 0.9353 - val_loss: 0.3147 - val_accuracy: 0.9335\n",
      "INFO:tensorflow:Assets written to: C:/Users/keena/Desktop/AIproj/Models\\DenseNet121Adamaxe30\\assets\n",
      "Epoch 4/30\n",
      "842/842 [==============================] - 67s 79ms/step - loss: 0.1545 - accuracy: 0.9555 - val_loss: 0.2775 - val_accuracy: 0.9389\n",
      "INFO:tensorflow:Assets written to: C:/Users/keena/Desktop/AIproj/Models\\DenseNet121Adamaxe30\\assets\n",
      "Epoch 5/30\n",
      "842/842 [==============================] - 64s 76ms/step - loss: 0.1137 - accuracy: 0.9665 - val_loss: 0.2893 - val_accuracy: 0.9436\n",
      "Epoch 6/30\n",
      "842/842 [==============================] - 64s 76ms/step - loss: 0.0908 - accuracy: 0.9732 - val_loss: 0.2820 - val_accuracy: 0.9451\n",
      "Epoch 7/30\n",
      "842/842 [==============================] - 64s 76ms/step - loss: 0.0702 - accuracy: 0.9794 - val_loss: 0.2828 - val_accuracy: 0.9475\n",
      "Epoch 8/30\n",
      "842/842 [==============================] - 64s 77ms/step - loss: 0.0583 - accuracy: 0.9824 - val_loss: 0.3073 - val_accuracy: 0.9455\n",
      "Epoch 9/30\n",
      "842/842 [==============================] - 65s 78ms/step - loss: 0.0476 - accuracy: 0.9854 - val_loss: 0.2889 - val_accuracy: 0.9500\n",
      "Epoch 10/30\n",
      "842/842 [==============================] - 64s 76ms/step - loss: 0.0398 - accuracy: 0.9884 - val_loss: 0.2947 - val_accuracy: 0.9456\n",
      "Epoch 11/30\n",
      "842/842 [==============================] - 64s 76ms/step - loss: 0.0352 - accuracy: 0.9897 - val_loss: 0.2851 - val_accuracy: 0.9512\n",
      "Epoch 12/30\n",
      "842/842 [==============================] - 64s 76ms/step - loss: 0.0304 - accuracy: 0.9913 - val_loss: 0.3212 - val_accuracy: 0.9477\n",
      "Epoch 13/30\n",
      "842/842 [==============================] - 66s 78ms/step - loss: 0.0252 - accuracy: 0.9930 - val_loss: 0.3359 - val_accuracy: 0.9494\n",
      "Epoch 14/30\n",
      "842/842 [==============================] - 64s 76ms/step - loss: 0.0246 - accuracy: 0.9919 - val_loss: 0.3131 - val_accuracy: 0.9496\n",
      "Epoch 15/30\n",
      "842/842 [==============================] - 64s 76ms/step - loss: 0.0212 - accuracy: 0.9936 - val_loss: 0.3250 - val_accuracy: 0.9464\n",
      "Epoch 16/30\n",
      "842/842 [==============================] - 64s 76ms/step - loss: 0.0178 - accuracy: 0.9951 - val_loss: 0.3595 - val_accuracy: 0.9451\n",
      "Epoch 17/30\n",
      "842/842 [==============================] - 65s 77ms/step - loss: 0.0167 - accuracy: 0.9953 - val_loss: 0.3308 - val_accuracy: 0.9483\n",
      "Epoch 18/30\n",
      "842/842 [==============================] - 64s 76ms/step - loss: 0.0154 - accuracy: 0.9958 - val_loss: 0.3446 - val_accuracy: 0.9484\n",
      "Epoch 19/30\n",
      "842/842 [==============================] - 65s 77ms/step - loss: 0.0143 - accuracy: 0.9957 - val_loss: 0.3435 - val_accuracy: 0.9477\n",
      "Epoch 20/30\n",
      "842/842 [==============================] - 64s 76ms/step - loss: 0.0124 - accuracy: 0.9966 - val_loss: 0.3588 - val_accuracy: 0.9496\n",
      "Epoch 21/30\n",
      "842/842 [==============================] - 64s 77ms/step - loss: 0.0138 - accuracy: 0.9957 - val_loss: 0.3614 - val_accuracy: 0.9481\n",
      "Epoch 22/30\n",
      "842/842 [==============================] - 66s 78ms/step - loss: 0.0121 - accuracy: 0.9963 - val_loss: 0.3617 - val_accuracy: 0.9461\n",
      "Epoch 23/30\n",
      "842/842 [==============================] - 65s 77ms/step - loss: 0.0103 - accuracy: 0.9972 - val_loss: 0.3795 - val_accuracy: 0.9468\n",
      "Epoch 24/30\n",
      "842/842 [==============================] - 66s 78ms/step - loss: 0.0075 - accuracy: 0.9979 - val_loss: 0.3884 - val_accuracy: 0.9482\n",
      "Epoch 25/30\n",
      "842/842 [==============================] - 65s 78ms/step - loss: 0.0098 - accuracy: 0.9974 - val_loss: 0.3706 - val_accuracy: 0.9474\n",
      "Epoch 26/30\n",
      "842/842 [==============================] - 68s 81ms/step - loss: 0.0093 - accuracy: 0.9973 - val_loss: 0.3667 - val_accuracy: 0.9497\n",
      "Epoch 27/30\n",
      "842/842 [==============================] - 67s 79ms/step - loss: 0.0078 - accuracy: 0.9975 - val_loss: 0.3903 - val_accuracy: 0.9487\n",
      "\n",
      "Epoch 00027: ReduceLROnPlateau reducing learning rate to 4.999999873689376e-05.\n",
      "Epoch 28/30\n",
      "842/842 [==============================] - 67s 79ms/step - loss: 0.0060 - accuracy: 0.9983 - val_loss: 0.4008 - val_accuracy: 0.9490\n",
      "Epoch 29/30\n",
      "842/842 [==============================] - 68s 80ms/step - loss: 0.0039 - accuracy: 0.9992 - val_loss: 0.4091 - val_accuracy: 0.9497\n",
      "Epoch 30/30\n",
      "842/842 [==============================] - 67s 79ms/step - loss: 0.0042 - accuracy: 0.9989 - val_loss: 0.4104 - val_accuracy: 0.9498\n"
     ]
    },
    {
     "data": {
      "text/plain": [
       "<tensorflow.python.keras.callbacks.History at 0x23edbcfb0a0>"
      ]
     },
     "execution_count": 23,
     "metadata": {},
     "output_type": "execute_result"
    }
   ],
   "source": [
    "reduce_lr = ReduceLROnPlateau(monitor='loss', factor=0.5, patience=3, verbose = 1)\n",
    "\n",
    "model_checkpoint = tf.keras.callbacks.ModelCheckpoint(\n",
    "    filepath='C:/Users/keena/Desktop/AIproj/Models/DenseNet121Adamaxe30', # KEENAN PUT YOUR DIRECTORY with a /Model/<modelname> here\n",
    "    monitor='val_loss',\n",
    "    save_weights_only=False,\n",
    "    save_best_only=True)\n",
    "\n",
    "model.fit(x=train_generator, validation_data=validation_generator, epochs = 30, callbacks=[reduce_lr,model_checkpoint])"
   ]
  },
  {
   "cell_type": "code",
   "execution_count": null,
   "metadata": {},
   "outputs": [],
   "source": [
    "#Next Model SGD"
   ]
  },
  {
   "cell_type": "code",
   "execution_count": 24,
   "metadata": {},
   "outputs": [
    {
     "name": "stdout",
     "output_type": "stream",
     "text": [
      "Found 26925 images belonging to 60 classes.\n",
      "Found 11540 images belonging to 60 classes.\n"
     ]
    }
   ],
   "source": [
    "# loading training data\n",
    "train_datagen = ImageDataGenerator(preprocessing_function=preprocess_input,\n",
    "                                #    shear_range=0.2,\n",
    "                                  #  zoom_range=0.4,\n",
    "                                  #  rotation_range=30,\n",
    "                                   )\n",
    "\n",
    "valid_datagen = ImageDataGenerator(preprocessing_function=preprocess_input)\n",
    "# test_datagen = ImageDataGenerator(preprocessing_function=preprocess_input)\n",
    "\n",
    "train_generator = train_datagen.flow_from_directory(\n",
    "        'C:/Users/keena/Desktop/AIproj/train', # KEENAN PUT YOUR DIRECTORY with a /train here\n",
    "        target_size=(45, 45),\n",
    "        class_mode='categorical')\n",
    "\n",
    "validation_generator = valid_datagen.flow_from_directory(\n",
    "    'C:/Users/keena/Desktop/AIproj/valid', # KEENAN PUT YOUR DIRECTORY with a /valid here\n",
    "    shuffle=False,\n",
    "    target_size=(45, 45),\n",
    "    class_mode='categorical')"
   ]
  },
  {
   "cell_type": "code",
   "execution_count": 25,
   "metadata": {},
   "outputs": [],
   "source": [
    "model = Sequential()\n",
    "# create the base pre-trained model\n",
    "model.add(DenseNet121(input_shape=(45, 45,3), weights='imagenet', include_top=False)) #Keenan\n",
    "# add a global spatial average pooling layer\n",
    "model.add(GlobalAveragePooling2D()) # CHANGE THIS MAYBE YEAH\n",
    "# let's add a fully-connected layer\n",
    "model.add(Dense(1024, activation='relu'))\n",
    "# and a logistic layer -- let's say we have 60 classes\n",
    "model.add(Dense(len(train_generator.class_indices), activation='softmax'))"
   ]
  },
  {
   "cell_type": "code",
   "execution_count": 26,
   "metadata": {},
   "outputs": [],
   "source": [
    "# specify training loss function \n",
    "model.compile(loss='categorical_crossentropy',\n",
    "              optimizer=tf.keras.optimizers.SGD(learning_rate=0.0001), # CHANGE THIS YEAH\n",
    "              metrics=['accuracy'])"
   ]
  },
  {
   "cell_type": "code",
   "execution_count": 27,
   "metadata": {},
   "outputs": [
    {
     "name": "stdout",
     "output_type": "stream",
     "text": [
      "Epoch 1/30\n",
      "842/842 [==============================] - 68s 75ms/step - loss: 4.0498 - accuracy: 0.0774 - val_loss: 3.4937 - val_accuracy: 0.1990\n",
      "INFO:tensorflow:Assets written to: C:/Users/keena/Desktop/AIproj/Models\\DenseNet121SGDe30\\assets\n",
      "Epoch 2/30\n",
      "842/842 [==============================] - 61s 73ms/step - loss: 3.1808 - accuracy: 0.2802 - val_loss: 2.7385 - val_accuracy: 0.3946\n",
      "INFO:tensorflow:Assets written to: C:/Users/keena/Desktop/AIproj/Models\\DenseNet121SGDe30\\assets\n",
      "Epoch 3/30\n",
      "842/842 [==============================] - 61s 72ms/step - loss: 2.6049 - accuracy: 0.4321 - val_loss: 2.2312 - val_accuracy: 0.5180\n",
      "INFO:tensorflow:Assets written to: C:/Users/keena/Desktop/AIproj/Models\\DenseNet121SGDe30\\assets\n",
      "Epoch 4/30\n",
      "842/842 [==============================] - 63s 75ms/step - loss: 2.1703 - accuracy: 0.5345 - val_loss: 1.8479 - val_accuracy: 0.6022\n",
      "INFO:tensorflow:Assets written to: C:/Users/keena/Desktop/AIproj/Models\\DenseNet121SGDe30\\assets\n",
      "Epoch 5/30\n",
      "842/842 [==============================] - 62s 74ms/step - loss: 1.8432 - accuracy: 0.6039 - val_loss: 1.5686 - val_accuracy: 0.6599\n",
      "INFO:tensorflow:Assets written to: C:/Users/keena/Desktop/AIproj/Models\\DenseNet121SGDe30\\assets\n",
      "Epoch 6/30\n",
      "842/842 [==============================] - 59s 71ms/step - loss: 1.5877 - accuracy: 0.6560 - val_loss: 1.3508 - val_accuracy: 0.7085\n",
      "INFO:tensorflow:Assets written to: C:/Users/keena/Desktop/AIproj/Models\\DenseNet121SGDe30\\assets\n",
      "Epoch 7/30\n",
      "842/842 [==============================] - 59s 71ms/step - loss: 1.3784 - accuracy: 0.7041 - val_loss: 1.1770 - val_accuracy: 0.7464\n",
      "INFO:tensorflow:Assets written to: C:/Users/keena/Desktop/AIproj/Models\\DenseNet121SGDe30\\assets\n",
      "Epoch 8/30\n",
      "842/842 [==============================] - 60s 71ms/step - loss: 1.2208 - accuracy: 0.7352 - val_loss: 1.0446 - val_accuracy: 0.7715\n",
      "INFO:tensorflow:Assets written to: C:/Users/keena/Desktop/AIproj/Models\\DenseNet121SGDe30\\assets\n",
      "Epoch 9/30\n",
      "842/842 [==============================] - 60s 71ms/step - loss: 1.0883 - accuracy: 0.7604 - val_loss: 0.9397 - val_accuracy: 0.7908\n",
      "INFO:tensorflow:Assets written to: C:/Users/keena/Desktop/AIproj/Models\\DenseNet121SGDe30\\assets\n",
      "Epoch 10/30\n",
      "842/842 [==============================] - 60s 71ms/step - loss: 0.9863 - accuracy: 0.7808 - val_loss: 0.8563 - val_accuracy: 0.8098\n",
      "INFO:tensorflow:Assets written to: C:/Users/keena/Desktop/AIproj/Models\\DenseNet121SGDe30\\assets\n",
      "Epoch 11/30\n",
      "842/842 [==============================] - 60s 71ms/step - loss: 0.8977 - accuracy: 0.7979 - val_loss: 0.7856 - val_accuracy: 0.8217\n",
      "INFO:tensorflow:Assets written to: C:/Users/keena/Desktop/AIproj/Models\\DenseNet121SGDe30\\assets\n",
      "Epoch 12/30\n",
      "842/842 [==============================] - 60s 71ms/step - loss: 0.8256 - accuracy: 0.8120 - val_loss: 0.7280 - val_accuracy: 0.8351\n",
      "INFO:tensorflow:Assets written to: C:/Users/keena/Desktop/AIproj/Models\\DenseNet121SGDe30\\assets\n",
      "Epoch 13/30\n",
      "842/842 [==============================] - 60s 71ms/step - loss: 0.7692 - accuracy: 0.8214 - val_loss: 0.6851 - val_accuracy: 0.8438\n",
      "INFO:tensorflow:Assets written to: C:/Users/keena/Desktop/AIproj/Models\\DenseNet121SGDe30\\assets\n",
      "Epoch 14/30\n",
      "842/842 [==============================] - 60s 71ms/step - loss: 0.7148 - accuracy: 0.8315 - val_loss: 0.6364 - val_accuracy: 0.8529\n",
      "INFO:tensorflow:Assets written to: C:/Users/keena/Desktop/AIproj/Models\\DenseNet121SGDe30\\assets\n",
      "Epoch 15/30\n",
      "842/842 [==============================] - 60s 71ms/step - loss: 0.6694 - accuracy: 0.8416 - val_loss: 0.6028 - val_accuracy: 0.8601\n",
      "INFO:tensorflow:Assets written to: C:/Users/keena/Desktop/AIproj/Models\\DenseNet121SGDe30\\assets\n",
      "Epoch 16/30\n",
      "842/842 [==============================] - 61s 72ms/step - loss: 0.6212 - accuracy: 0.8531 - val_loss: 0.5711 - val_accuracy: 0.8684\n",
      "INFO:tensorflow:Assets written to: C:/Users/keena/Desktop/AIproj/Models\\DenseNet121SGDe30\\assets\n",
      "Epoch 17/30\n",
      "842/842 [==============================] - 64s 76ms/step - loss: 0.5876 - accuracy: 0.8603 - val_loss: 0.5442 - val_accuracy: 0.8726\n",
      "INFO:tensorflow:Assets written to: C:/Users/keena/Desktop/AIproj/Models\\DenseNet121SGDe30\\assets\n",
      "Epoch 18/30\n",
      "842/842 [==============================] - 63s 75ms/step - loss: 0.5547 - accuracy: 0.8657 - val_loss: 0.5213 - val_accuracy: 0.8782\n",
      "INFO:tensorflow:Assets written to: C:/Users/keena/Desktop/AIproj/Models\\DenseNet121SGDe30\\assets\n",
      "Epoch 19/30\n",
      "842/842 [==============================] - 64s 76ms/step - loss: 0.5269 - accuracy: 0.8744 - val_loss: 0.4996 - val_accuracy: 0.8830\n",
      "INFO:tensorflow:Assets written to: C:/Users/keena/Desktop/AIproj/Models\\DenseNet121SGDe30\\assets\n",
      "Epoch 20/30\n",
      "842/842 [==============================] - 64s 75ms/step - loss: 0.5015 - accuracy: 0.8796 - val_loss: 0.4800 - val_accuracy: 0.8878\n",
      "INFO:tensorflow:Assets written to: C:/Users/keena/Desktop/AIproj/Models\\DenseNet121SGDe30\\assets\n",
      "Epoch 21/30\n",
      "842/842 [==============================] - 63s 75ms/step - loss: 0.4771 - accuracy: 0.8837 - val_loss: 0.4680 - val_accuracy: 0.8900\n",
      "INFO:tensorflow:Assets written to: C:/Users/keena/Desktop/AIproj/Models\\DenseNet121SGDe30\\assets\n",
      "Epoch 22/30\n",
      "842/842 [==============================] - 66s 78ms/step - loss: 0.4596 - accuracy: 0.8885 - val_loss: 0.4511 - val_accuracy: 0.8940\n",
      "INFO:tensorflow:Assets written to: C:/Users/keena/Desktop/AIproj/Models\\DenseNet121SGDe30\\assets\n",
      "Epoch 23/30\n",
      "842/842 [==============================] - 65s 77ms/step - loss: 0.4355 - accuracy: 0.8945 - val_loss: 0.4352 - val_accuracy: 0.8953\n",
      "INFO:tensorflow:Assets written to: C:/Users/keena/Desktop/AIproj/Models\\DenseNet121SGDe30\\assets\n",
      "Epoch 24/30\n",
      "842/842 [==============================] - 63s 74ms/step - loss: 0.4159 - accuracy: 0.8978 - val_loss: 0.4246 - val_accuracy: 0.8992\n",
      "INFO:tensorflow:Assets written to: C:/Users/keena/Desktop/AIproj/Models\\DenseNet121SGDe30\\assets\n",
      "Epoch 25/30\n",
      "842/842 [==============================] - 62s 74ms/step - loss: 0.3934 - accuracy: 0.9043 - val_loss: 0.4141 - val_accuracy: 0.8990\n",
      "INFO:tensorflow:Assets written to: C:/Users/keena/Desktop/AIproj/Models\\DenseNet121SGDe30\\assets\n",
      "Epoch 26/30\n",
      "842/842 [==============================] - 63s 75ms/step - loss: 0.3834 - accuracy: 0.9050 - val_loss: 0.4025 - val_accuracy: 0.9020\n",
      "INFO:tensorflow:Assets written to: C:/Users/keena/Desktop/AIproj/Models\\DenseNet121SGDe30\\assets\n",
      "Epoch 27/30\n",
      "842/842 [==============================] - 63s 75ms/step - loss: 0.3709 - accuracy: 0.9104 - val_loss: 0.3935 - val_accuracy: 0.9042\n",
      "INFO:tensorflow:Assets written to: C:/Users/keena/Desktop/AIproj/Models\\DenseNet121SGDe30\\assets\n",
      "Epoch 28/30\n",
      "842/842 [==============================] - 63s 74ms/step - loss: 0.3591 - accuracy: 0.9106 - val_loss: 0.3869 - val_accuracy: 0.9054\n",
      "INFO:tensorflow:Assets written to: C:/Users/keena/Desktop/AIproj/Models\\DenseNet121SGDe30\\assets\n",
      "Epoch 29/30\n",
      "842/842 [==============================] - 63s 75ms/step - loss: 0.3399 - accuracy: 0.9154 - val_loss: 0.3790 - val_accuracy: 0.9077\n",
      "INFO:tensorflow:Assets written to: C:/Users/keena/Desktop/AIproj/Models\\DenseNet121SGDe30\\assets\n",
      "Epoch 30/30\n",
      "842/842 [==============================] - 63s 74ms/step - loss: 0.3310 - accuracy: 0.9195 - val_loss: 0.3694 - val_accuracy: 0.9094\n",
      "INFO:tensorflow:Assets written to: C:/Users/keena/Desktop/AIproj/Models\\DenseNet121SGDe30\\assets\n"
     ]
    },
    {
     "data": {
      "text/plain": [
       "<tensorflow.python.keras.callbacks.History at 0x23ec7ed6c70>"
      ]
     },
     "execution_count": 27,
     "metadata": {},
     "output_type": "execute_result"
    }
   ],
   "source": [
    "reduce_lr = ReduceLROnPlateau(monitor='loss', factor=0.5, patience=3, verbose = 1)\n",
    "\n",
    "model_checkpoint = tf.keras.callbacks.ModelCheckpoint(\n",
    "    filepath='C:/Users/keena/Desktop/AIproj/Models/DenseNet121SGDe30', # KEENAN PUT YOUR DIRECTORY with a /Model/<modelname> here\n",
    "    monitor='val_loss',\n",
    "    save_weights_only=False,\n",
    "    save_best_only=True)\n",
    "\n",
    "model.fit(x=train_generator, validation_data=validation_generator, epochs = 30, callbacks=[reduce_lr,model_checkpoint])"
   ]
  },
  {
   "cell_type": "code",
   "execution_count": null,
   "metadata": {},
   "outputs": [],
   "source": [
    "#Next Model DenseNet201"
   ]
  },
  {
   "cell_type": "code",
   "execution_count": 5,
   "metadata": {},
   "outputs": [
    {
     "name": "stdout",
     "output_type": "stream",
     "text": [
      "Found 26925 images belonging to 60 classes.\n",
      "Found 11540 images belonging to 60 classes.\n"
     ]
    }
   ],
   "source": [
    "# loading training data\n",
    "train_datagen = ImageDataGenerator(preprocessing_function=preprocess_input,\n",
    "                                #    shear_range=0.2,\n",
    "                                  #  zoom_range=0.4,\n",
    "                                  #  rotation_range=30,\n",
    "                                   )\n",
    "\n",
    "valid_datagen = ImageDataGenerator(preprocessing_function=preprocess_input)\n",
    "# test_datagen = ImageDataGenerator(preprocessing_function=preprocess_input)\n",
    "\n",
    "train_generator = train_datagen.flow_from_directory(\n",
    "        'C:/Users/keena/Desktop/AIproj/train', # KEENAN PUT YOUR DIRECTORY with a /train here\n",
    "        target_size=(45, 45),\n",
    "        class_mode='categorical')\n",
    "\n",
    "validation_generator = valid_datagen.flow_from_directory(\n",
    "    'C:/Users/keena/Desktop/AIproj/valid', # KEENAN PUT YOUR DIRECTORY with a /valid here\n",
    "    shuffle=False,\n",
    "    target_size=(45, 45),\n",
    "    class_mode='categorical')"
   ]
  },
  {
   "cell_type": "code",
   "execution_count": 8,
   "metadata": {},
   "outputs": [],
   "source": [
    "model = Sequential()\n",
    "# create the base pre-trained model\n",
    "model.add(DenseNet201(input_shape=(45, 45,3), weights='imagenet', include_top=False)) #Keenan\n",
    "# add a global spatial average pooling layer\n",
    "model.add(GlobalAveragePooling2D()) # CHANGE THIS MAYBE YEAH\n",
    "# let's add a fully-connected layer\n",
    "model.add(Dense(1024, activation='relu'))\n",
    "# and a logistic layer -- let's say we have 60 classes\n",
    "model.add(Dense(len(train_generator.class_indices), activation='softmax'))"
   ]
  },
  {
   "cell_type": "code",
   "execution_count": 9,
   "metadata": {},
   "outputs": [],
   "source": [
    "# specify training loss function \n",
    "model.compile(loss='categorical_crossentropy',\n",
    "              optimizer=tf.keras.optimizers.Adagrad(learning_rate=0.0001), # CHANGE THIS YEAH\n",
    "              metrics=['accuracy'])"
   ]
  },
  {
   "cell_type": "code",
   "execution_count": 10,
   "metadata": {},
   "outputs": [
    {
     "name": "stdout",
     "output_type": "stream",
     "text": [
      "Epoch 1/100\n",
      "842/842 [==============================] - 124s 125ms/step - loss: 3.7373 - accuracy: 0.1435 - val_loss: 3.1230 - val_accuracy: 0.3354\n",
      "INFO:tensorflow:Assets written to: C:/Users/keena/Desktop/AIproj/Models\\DenseNet201Adagrade100\\assets\n",
      "Epoch 2/100\n",
      "842/842 [==============================] - 99s 117ms/step - loss: 2.8760 - accuracy: 0.4177 - val_loss: 2.3633 - val_accuracy: 0.5380\n",
      "INFO:tensorflow:Assets written to: C:/Users/keena/Desktop/AIproj/Models\\DenseNet201Adagrade100\\assets\n",
      "Epoch 3/100\n",
      "842/842 [==============================] - 99s 118ms/step - loss: 2.2608 - accuracy: 0.5680 - val_loss: 1.8189 - val_accuracy: 0.6441\n",
      "INFO:tensorflow:Assets written to: C:/Users/keena/Desktop/AIproj/Models\\DenseNet201Adagrade100\\assets\n",
      "Epoch 4/100\n",
      "842/842 [==============================] - 101s 120ms/step - loss: 1.8093 - accuracy: 0.6497 - val_loss: 1.4448 - val_accuracy: 0.7051\n",
      "INFO:tensorflow:Assets written to: C:/Users/keena/Desktop/AIproj/Models\\DenseNet201Adagrade100\\assets\n",
      "Epoch 5/100\n",
      "842/842 [==============================] - 102s 121ms/step - loss: 1.4904 - accuracy: 0.7032 - val_loss: 1.1990 - val_accuracy: 0.7523\n",
      "INFO:tensorflow:Assets written to: C:/Users/keena/Desktop/AIproj/Models\\DenseNet201Adagrade100\\assets\n",
      "Epoch 6/100\n",
      "842/842 [==============================] - 103s 122ms/step - loss: 1.2550 - accuracy: 0.7457 - val_loss: 1.0128 - val_accuracy: 0.7817\n",
      "INFO:tensorflow:Assets written to: C:/Users/keena/Desktop/AIproj/Models\\DenseNet201Adagrade100\\assets\n",
      "Epoch 7/100\n",
      "842/842 [==============================] - 101s 119ms/step - loss: 1.1053 - accuracy: 0.7691 - val_loss: 0.8824 - val_accuracy: 0.8064\n",
      "INFO:tensorflow:Assets written to: C:/Users/keena/Desktop/AIproj/Models\\DenseNet201Adagrade100\\assets\n",
      "Epoch 8/100\n",
      "842/842 [==============================] - 100s 119ms/step - loss: 0.9711 - accuracy: 0.7914 - val_loss: 0.7845 - val_accuracy: 0.8207\n",
      "INFO:tensorflow:Assets written to: C:/Users/keena/Desktop/AIproj/Models\\DenseNet201Adagrade100\\assets\n",
      "Epoch 9/100\n",
      "842/842 [==============================] - 101s 119ms/step - loss: 0.8761 - accuracy: 0.8086 - val_loss: 0.7079 - val_accuracy: 0.8360\n",
      "INFO:tensorflow:Assets written to: C:/Users/keena/Desktop/AIproj/Models\\DenseNet201Adagrade100\\assets\n",
      "Epoch 10/100\n",
      "842/842 [==============================] - 101s 120ms/step - loss: 0.7881 - accuracy: 0.8242 - val_loss: 0.6448 - val_accuracy: 0.8474\n",
      "INFO:tensorflow:Assets written to: C:/Users/keena/Desktop/AIproj/Models\\DenseNet201Adagrade100\\assets\n",
      "Epoch 11/100\n",
      "842/842 [==============================] - 101s 121ms/step - loss: 0.7292 - accuracy: 0.8360 - val_loss: 0.5967 - val_accuracy: 0.8572\n",
      "INFO:tensorflow:Assets written to: C:/Users/keena/Desktop/AIproj/Models\\DenseNet201Adagrade100\\assets\n",
      "Epoch 12/100\n",
      "842/842 [==============================] - 100s 119ms/step - loss: 0.6753 - accuracy: 0.8459 - val_loss: 0.5550 - val_accuracy: 0.8661\n",
      "INFO:tensorflow:Assets written to: C:/Users/keena/Desktop/AIproj/Models\\DenseNet201Adagrade100\\assets\n",
      "Epoch 13/100\n",
      "842/842 [==============================] - 101s 120ms/step - loss: 0.6212 - accuracy: 0.8576 - val_loss: 0.5216 - val_accuracy: 0.8730\n",
      "INFO:tensorflow:Assets written to: C:/Users/keena/Desktop/AIproj/Models\\DenseNet201Adagrade100\\assets\n",
      "Epoch 14/100\n",
      "842/842 [==============================] - 100s 119ms/step - loss: 0.5762 - accuracy: 0.8666 - val_loss: 0.4990 - val_accuracy: 0.8783\n",
      "INFO:tensorflow:Assets written to: C:/Users/keena/Desktop/AIproj/Models\\DenseNet201Adagrade100\\assets\n",
      "Epoch 15/100\n",
      "842/842 [==============================] - 101s 120ms/step - loss: 0.5433 - accuracy: 0.8731 - val_loss: 0.4666 - val_accuracy: 0.8847\n",
      "INFO:tensorflow:Assets written to: C:/Users/keena/Desktop/AIproj/Models\\DenseNet201Adagrade100\\assets\n",
      "Epoch 16/100\n",
      "842/842 [==============================] - 101s 121ms/step - loss: 0.5097 - accuracy: 0.8804 - val_loss: 0.4468 - val_accuracy: 0.8905\n",
      "INFO:tensorflow:Assets written to: C:/Users/keena/Desktop/AIproj/Models\\DenseNet201Adagrade100\\assets\n",
      "Epoch 17/100\n",
      "842/842 [==============================] - 102s 121ms/step - loss: 0.4814 - accuracy: 0.8887 - val_loss: 0.4293 - val_accuracy: 0.8946\n",
      "INFO:tensorflow:Assets written to: C:/Users/keena/Desktop/AIproj/Models\\DenseNet201Adagrade100\\assets\n",
      "Epoch 18/100\n",
      "842/842 [==============================] - 101s 120ms/step - loss: 0.4593 - accuracy: 0.8919 - val_loss: 0.4115 - val_accuracy: 0.8973\n",
      "INFO:tensorflow:Assets written to: C:/Users/keena/Desktop/AIproj/Models\\DenseNet201Adagrade100\\assets\n",
      "Epoch 19/100\n",
      "842/842 [==============================] - 101s 120ms/step - loss: 0.4309 - accuracy: 0.8976 - val_loss: 0.3983 - val_accuracy: 0.9004\n",
      "INFO:tensorflow:Assets written to: C:/Users/keena/Desktop/AIproj/Models\\DenseNet201Adagrade100\\assets\n",
      "Epoch 20/100\n",
      "842/842 [==============================] - 102s 121ms/step - loss: 0.4143 - accuracy: 0.9037 - val_loss: 0.3868 - val_accuracy: 0.9043\n",
      "INFO:tensorflow:Assets written to: C:/Users/keena/Desktop/AIproj/Models\\DenseNet201Adagrade100\\assets\n",
      "Epoch 21/100\n",
      "842/842 [==============================] - 103s 122ms/step - loss: 0.3928 - accuracy: 0.9063 - val_loss: 0.3743 - val_accuracy: 0.9076\n",
      "INFO:tensorflow:Assets written to: C:/Users/keena/Desktop/AIproj/Models\\DenseNet201Adagrade100\\assets\n",
      "Epoch 22/100\n",
      "842/842 [==============================] - 101s 120ms/step - loss: 0.3823 - accuracy: 0.9077 - val_loss: 0.3648 - val_accuracy: 0.9089\n",
      "INFO:tensorflow:Assets written to: C:/Users/keena/Desktop/AIproj/Models\\DenseNet201Adagrade100\\assets\n",
      "Epoch 23/100\n",
      "842/842 [==============================] - 102s 121ms/step - loss: 0.3717 - accuracy: 0.9089 - val_loss: 0.3584 - val_accuracy: 0.9119\n",
      "INFO:tensorflow:Assets written to: C:/Users/keena/Desktop/AIproj/Models\\DenseNet201Adagrade100\\assets\n",
      "Epoch 24/100\n",
      "842/842 [==============================] - 101s 120ms/step - loss: 0.3560 - accuracy: 0.9134 - val_loss: 0.3505 - val_accuracy: 0.9129\n",
      "INFO:tensorflow:Assets written to: C:/Users/keena/Desktop/AIproj/Models\\DenseNet201Adagrade100\\assets\n",
      "Epoch 25/100\n",
      "842/842 [==============================] - 104s 123ms/step - loss: 0.3365 - accuracy: 0.9186 - val_loss: 0.3414 - val_accuracy: 0.9159\n",
      "INFO:tensorflow:Assets written to: C:/Users/keena/Desktop/AIproj/Models\\DenseNet201Adagrade100\\assets\n",
      "Epoch 26/100\n",
      "842/842 [==============================] - 103s 122ms/step - loss: 0.3269 - accuracy: 0.9203 - val_loss: 0.3332 - val_accuracy: 0.9174\n",
      "INFO:tensorflow:Assets written to: C:/Users/keena/Desktop/AIproj/Models\\DenseNet201Adagrade100\\assets\n",
      "Epoch 27/100\n",
      "842/842 [==============================] - 104s 123ms/step - loss: 0.3174 - accuracy: 0.9232 - val_loss: 0.3343 - val_accuracy: 0.9192\n",
      "Epoch 28/100\n",
      "842/842 [==============================] - 103s 122ms/step - loss: 0.3016 - accuracy: 0.9274 - val_loss: 0.3243 - val_accuracy: 0.9209\n",
      "INFO:tensorflow:Assets written to: C:/Users/keena/Desktop/AIproj/Models\\DenseNet201Adagrade100\\assets\n",
      "Epoch 29/100\n",
      "842/842 [==============================] - 102s 121ms/step - loss: 0.2936 - accuracy: 0.9290 - val_loss: 0.3224 - val_accuracy: 0.9211\n",
      "INFO:tensorflow:Assets written to: C:/Users/keena/Desktop/AIproj/Models\\DenseNet201Adagrade100\\assets\n",
      "Epoch 30/100\n",
      "842/842 [==============================] - 103s 122ms/step - loss: 0.2858 - accuracy: 0.9294 - val_loss: 0.3181 - val_accuracy: 0.9212\n",
      "INFO:tensorflow:Assets written to: C:/Users/keena/Desktop/AIproj/Models\\DenseNet201Adagrade100\\assets\n",
      "Epoch 31/100\n",
      "842/842 [==============================] - 102s 121ms/step - loss: 0.2764 - accuracy: 0.9315 - val_loss: 0.3167 - val_accuracy: 0.9224\n",
      "INFO:tensorflow:Assets written to: C:/Users/keena/Desktop/AIproj/Models\\DenseNet201Adagrade100\\assets\n",
      "Epoch 32/100\n",
      "842/842 [==============================] - 101s 120ms/step - loss: 0.2669 - accuracy: 0.9340 - val_loss: 0.3139 - val_accuracy: 0.9240\n",
      "INFO:tensorflow:Assets written to: C:/Users/keena/Desktop/AIproj/Models\\DenseNet201Adagrade100\\assets\n",
      "Epoch 33/100\n",
      "842/842 [==============================] - 109s 129ms/step - loss: 0.2631 - accuracy: 0.9341 - val_loss: 0.3081 - val_accuracy: 0.9244\n",
      "INFO:tensorflow:Assets written to: C:/Users/keena/Desktop/AIproj/Models\\DenseNet201Adagrade100\\assets\n",
      "Epoch 34/100\n",
      "842/842 [==============================] - 103s 122ms/step - loss: 0.2589 - accuracy: 0.9357 - val_loss: 0.3033 - val_accuracy: 0.9255\n",
      "INFO:tensorflow:Assets written to: C:/Users/keena/Desktop/AIproj/Models\\DenseNet201Adagrade100\\assets\n",
      "Epoch 35/100\n",
      "842/842 [==============================] - 100s 119ms/step - loss: 0.2465 - accuracy: 0.9400 - val_loss: 0.3023 - val_accuracy: 0.9263\n",
      "INFO:tensorflow:Assets written to: C:/Users/keena/Desktop/AIproj/Models\\DenseNet201Adagrade100\\assets\n",
      "Epoch 36/100\n",
      "842/842 [==============================] - 104s 124ms/step - loss: 0.2402 - accuracy: 0.9401 - val_loss: 0.2995 - val_accuracy: 0.9263\n",
      "INFO:tensorflow:Assets written to: C:/Users/keena/Desktop/AIproj/Models\\DenseNet201Adagrade100\\assets\n",
      "Epoch 37/100\n",
      "842/842 [==============================] - 106s 126ms/step - loss: 0.2376 - accuracy: 0.9394 - val_loss: 0.3002 - val_accuracy: 0.9274\n",
      "Epoch 38/100\n",
      "842/842 [==============================] - 106s 126ms/step - loss: 0.2296 - accuracy: 0.9417 - val_loss: 0.2933 - val_accuracy: 0.9282\n",
      "INFO:tensorflow:Assets written to: C:/Users/keena/Desktop/AIproj/Models\\DenseNet201Adagrade100\\assets\n",
      "Epoch 39/100\n",
      "842/842 [==============================] - 107s 127ms/step - loss: 0.2246 - accuracy: 0.9434 - val_loss: 0.2923 - val_accuracy: 0.9296\n",
      "INFO:tensorflow:Assets written to: C:/Users/keena/Desktop/AIproj/Models\\DenseNet201Adagrade100\\assets\n",
      "Epoch 40/100\n",
      "842/842 [==============================] - 108s 129ms/step - loss: 0.2192 - accuracy: 0.9462 - val_loss: 0.2911 - val_accuracy: 0.9303\n",
      "INFO:tensorflow:Assets written to: C:/Users/keena/Desktop/AIproj/Models\\DenseNet201Adagrade100\\assets\n",
      "Epoch 41/100\n",
      "842/842 [==============================] - 108s 128ms/step - loss: 0.2137 - accuracy: 0.9460 - val_loss: 0.2888 - val_accuracy: 0.9299\n",
      "INFO:tensorflow:Assets written to: C:/Users/keena/Desktop/AIproj/Models\\DenseNet201Adagrade100\\assets\n",
      "Epoch 42/100\n",
      "842/842 [==============================] - 110s 131ms/step - loss: 0.2100 - accuracy: 0.9497 - val_loss: 0.2880 - val_accuracy: 0.9314\n",
      "INFO:tensorflow:Assets written to: C:/Users/keena/Desktop/AIproj/Models\\DenseNet201Adagrade100\\assets\n",
      "Epoch 43/100\n",
      "842/842 [==============================] - 106s 126ms/step - loss: 0.2052 - accuracy: 0.9494 - val_loss: 0.2835 - val_accuracy: 0.9321\n",
      "INFO:tensorflow:Assets written to: C:/Users/keena/Desktop/AIproj/Models\\DenseNet201Adagrade100\\assets\n",
      "Epoch 44/100\n",
      "842/842 [==============================] - 104s 124ms/step - loss: 0.2020 - accuracy: 0.9497 - val_loss: 0.2849 - val_accuracy: 0.9322\n",
      "Epoch 45/100\n",
      "842/842 [==============================] - 104s 123ms/step - loss: 0.1985 - accuracy: 0.9508 - val_loss: 0.2832 - val_accuracy: 0.9312\n",
      "INFO:tensorflow:Assets written to: C:/Users/keena/Desktop/AIproj/Models\\DenseNet201Adagrade100\\assets\n",
      "Epoch 46/100\n",
      "842/842 [==============================] - 105s 125ms/step - loss: 0.1921 - accuracy: 0.9512 - val_loss: 0.2845 - val_accuracy: 0.9325\n",
      "Epoch 47/100\n",
      "842/842 [==============================] - 106s 125ms/step - loss: 0.1841 - accuracy: 0.9542 - val_loss: 0.2791 - val_accuracy: 0.9330\n",
      "INFO:tensorflow:Assets written to: C:/Users/keena/Desktop/AIproj/Models\\DenseNet201Adagrade100\\assets\n",
      "Epoch 48/100\n",
      "842/842 [==============================] - 105s 125ms/step - loss: 0.1867 - accuracy: 0.9539 - val_loss: 0.2820 - val_accuracy: 0.9326\n",
      "Epoch 49/100\n",
      "842/842 [==============================] - 106s 126ms/step - loss: 0.1840 - accuracy: 0.9537 - val_loss: 0.2785 - val_accuracy: 0.9344\n",
      "INFO:tensorflow:Assets written to: C:/Users/keena/Desktop/AIproj/Models\\DenseNet201Adagrade100\\assets\n",
      "Epoch 50/100\n",
      "842/842 [==============================] - 104s 124ms/step - loss: 0.1778 - accuracy: 0.9556 - val_loss: 0.2770 - val_accuracy: 0.9341\n",
      "INFO:tensorflow:Assets written to: C:/Users/keena/Desktop/AIproj/Models\\DenseNet201Adagrade100\\assets\n",
      "Epoch 51/100\n",
      "842/842 [==============================] - 106s 126ms/step - loss: 0.1708 - accuracy: 0.9579 - val_loss: 0.2782 - val_accuracy: 0.9339\n",
      "Epoch 52/100\n",
      "842/842 [==============================] - 107s 127ms/step - loss: 0.1743 - accuracy: 0.9571 - val_loss: 0.2747 - val_accuracy: 0.9354\n",
      "INFO:tensorflow:Assets written to: C:/Users/keena/Desktop/AIproj/Models\\DenseNet201Adagrade100\\assets\n",
      "Epoch 53/100\n",
      "842/842 [==============================] - 106s 126ms/step - loss: 0.1681 - accuracy: 0.9580 - val_loss: 0.2744 - val_accuracy: 0.9347\n",
      "INFO:tensorflow:Assets written to: C:/Users/keena/Desktop/AIproj/Models\\DenseNet201Adagrade100\\assets\n",
      "Epoch 54/100\n",
      "842/842 [==============================] - 108s 128ms/step - loss: 0.1620 - accuracy: 0.9594 - val_loss: 0.2743 - val_accuracy: 0.9350\n",
      "INFO:tensorflow:Assets written to: C:/Users/keena/Desktop/AIproj/Models\\DenseNet201Adagrade100\\assets\n",
      "Epoch 55/100\n",
      "842/842 [==============================] - 108s 129ms/step - loss: 0.1641 - accuracy: 0.9583 - val_loss: 0.2760 - val_accuracy: 0.9358\n",
      "Epoch 56/100\n",
      "842/842 [==============================] - 107s 127ms/step - loss: 0.1607 - accuracy: 0.9592 - val_loss: 0.2691 - val_accuracy: 0.9359\n",
      "INFO:tensorflow:Assets written to: C:/Users/keena/Desktop/AIproj/Models\\DenseNet201Adagrade100\\assets\n",
      "Epoch 57/100\n",
      "842/842 [==============================] - 107s 127ms/step - loss: 0.1586 - accuracy: 0.9599 - val_loss: 0.2707 - val_accuracy: 0.9367\n",
      "Epoch 58/100\n",
      "842/842 [==============================] - 106s 126ms/step - loss: 0.1558 - accuracy: 0.9598 - val_loss: 0.2706 - val_accuracy: 0.9371\n",
      "Epoch 59/100\n",
      "842/842 [==============================] - 105s 125ms/step - loss: 0.1499 - accuracy: 0.9621 - val_loss: 0.2680 - val_accuracy: 0.9368\n",
      "INFO:tensorflow:Assets written to: C:/Users/keena/Desktop/AIproj/Models\\DenseNet201Adagrade100\\assets\n",
      "Epoch 60/100\n",
      "842/842 [==============================] - 105s 124ms/step - loss: 0.1500 - accuracy: 0.9618 - val_loss: 0.2679 - val_accuracy: 0.9371\n",
      "INFO:tensorflow:Assets written to: C:/Users/keena/Desktop/AIproj/Models\\DenseNet201Adagrade100\\assets\n",
      "Epoch 61/100\n",
      "842/842 [==============================] - 102s 121ms/step - loss: 0.1468 - accuracy: 0.9637 - val_loss: 0.2687 - val_accuracy: 0.9372\n",
      "Epoch 62/100\n",
      "842/842 [==============================] - 101s 120ms/step - loss: 0.1436 - accuracy: 0.9638 - val_loss: 0.2701 - val_accuracy: 0.9379\n",
      "Epoch 63/100\n",
      "842/842 [==============================] - 101s 120ms/step - loss: 0.1418 - accuracy: 0.9633 - val_loss: 0.2685 - val_accuracy: 0.9385\n",
      "Epoch 64/100\n",
      "842/842 [==============================] - 101s 120ms/step - loss: 0.1408 - accuracy: 0.9653 - val_loss: 0.2674 - val_accuracy: 0.9382\n",
      "INFO:tensorflow:Assets written to: C:/Users/keena/Desktop/AIproj/Models\\DenseNet201Adagrade100\\assets\n",
      "Epoch 65/100\n",
      "842/842 [==============================] - 103s 122ms/step - loss: 0.1402 - accuracy: 0.9644 - val_loss: 0.2664 - val_accuracy: 0.9386\n",
      "INFO:tensorflow:Assets written to: C:/Users/keena/Desktop/AIproj/Models\\DenseNet201Adagrade100\\assets\n",
      "Epoch 66/100\n",
      "842/842 [==============================] - 103s 122ms/step - loss: 0.1354 - accuracy: 0.9655 - val_loss: 0.2677 - val_accuracy: 0.9390\n",
      "Epoch 67/100\n",
      "842/842 [==============================] - 101s 119ms/step - loss: 0.1317 - accuracy: 0.9674 - val_loss: 0.2678 - val_accuracy: 0.9385\n",
      "Epoch 68/100\n",
      "842/842 [==============================] - 102s 121ms/step - loss: 0.1302 - accuracy: 0.9684 - val_loss: 0.2688 - val_accuracy: 0.9392\n",
      "Epoch 69/100\n",
      "842/842 [==============================] - 105s 125ms/step - loss: 0.1301 - accuracy: 0.9675 - val_loss: 0.2673 - val_accuracy: 0.9398\n",
      "Epoch 70/100\n",
      "842/842 [==============================] - 104s 124ms/step - loss: 0.1288 - accuracy: 0.9670 - val_loss: 0.2640 - val_accuracy: 0.9394\n",
      "INFO:tensorflow:Assets written to: C:/Users/keena/Desktop/AIproj/Models\\DenseNet201Adagrade100\\assets\n",
      "Epoch 71/100\n",
      "842/842 [==============================] - 103s 123ms/step - loss: 0.1260 - accuracy: 0.9692 - val_loss: 0.2646 - val_accuracy: 0.9393\n",
      "Epoch 72/100\n",
      "842/842 [==============================] - 103s 122ms/step - loss: 0.1212 - accuracy: 0.9695 - val_loss: 0.2669 - val_accuracy: 0.9393\n",
      "Epoch 73/100\n",
      "842/842 [==============================] - 108s 128ms/step - loss: 0.1221 - accuracy: 0.9688 - val_loss: 0.2688 - val_accuracy: 0.9391\n",
      "Epoch 74/100\n"
     ]
    },
    {
     "name": "stdout",
     "output_type": "stream",
     "text": [
      "842/842 [==============================] - 104s 123ms/step - loss: 0.1222 - accuracy: 0.9692 - val_loss: 0.2639 - val_accuracy: 0.9396\n",
      "INFO:tensorflow:Assets written to: C:/Users/keena/Desktop/AIproj/Models\\DenseNet201Adagrade100\\assets\n",
      "Epoch 75/100\n",
      "842/842 [==============================] - 104s 123ms/step - loss: 0.1188 - accuracy: 0.9707 - val_loss: 0.2669 - val_accuracy: 0.9399\n",
      "Epoch 76/100\n",
      "842/842 [==============================] - 103s 123ms/step - loss: 0.1153 - accuracy: 0.9707 - val_loss: 0.2647 - val_accuracy: 0.9397\n",
      "Epoch 77/100\n",
      "842/842 [==============================] - 103s 123ms/step - loss: 0.1158 - accuracy: 0.9711 - val_loss: 0.2674 - val_accuracy: 0.9403\n",
      "Epoch 78/100\n",
      "842/842 [==============================] - 103s 123ms/step - loss: 0.1155 - accuracy: 0.9716 - val_loss: 0.2655 - val_accuracy: 0.9397\n",
      "Epoch 79/100\n",
      "842/842 [==============================] - 103s 123ms/step - loss: 0.1155 - accuracy: 0.9715 - val_loss: 0.2652 - val_accuracy: 0.9405\n",
      "\n",
      "Epoch 00079: ReduceLROnPlateau reducing learning rate to 4.999999873689376e-05.\n",
      "Epoch 80/100\n",
      "842/842 [==============================] - 103s 123ms/step - loss: 0.1125 - accuracy: 0.9712 - val_loss: 0.2628 - val_accuracy: 0.9404\n",
      "INFO:tensorflow:Assets written to: C:/Users/keena/Desktop/AIproj/Models\\DenseNet201Adagrade100\\assets\n",
      "Epoch 81/100\n",
      "842/842 [==============================] - 101s 120ms/step - loss: 0.1118 - accuracy: 0.9723 - val_loss: 0.2627 - val_accuracy: 0.9406\n",
      "INFO:tensorflow:Assets written to: C:/Users/keena/Desktop/AIproj/Models\\DenseNet201Adagrade100\\assets\n",
      "Epoch 82/100\n",
      "842/842 [==============================] - 101s 120ms/step - loss: 0.1063 - accuracy: 0.9744 - val_loss: 0.2622 - val_accuracy: 0.9402\n",
      "INFO:tensorflow:Assets written to: C:/Users/keena/Desktop/AIproj/Models\\DenseNet201Adagrade100\\assets\n",
      "Epoch 83/100\n",
      "842/842 [==============================] - 101s 120ms/step - loss: 0.1079 - accuracy: 0.9738 - val_loss: 0.2615 - val_accuracy: 0.9401\n",
      "INFO:tensorflow:Assets written to: C:/Users/keena/Desktop/AIproj/Models\\DenseNet201Adagrade100\\assets\n",
      "Epoch 84/100\n",
      "842/842 [==============================] - 101s 120ms/step - loss: 0.1079 - accuracy: 0.9737 - val_loss: 0.2609 - val_accuracy: 0.9402\n",
      "INFO:tensorflow:Assets written to: C:/Users/keena/Desktop/AIproj/Models\\DenseNet201Adagrade100\\assets\n",
      "Epoch 85/100\n",
      "842/842 [==============================] - 101s 120ms/step - loss: 0.1045 - accuracy: 0.9751 - val_loss: 0.2632 - val_accuracy: 0.9404\n",
      "Epoch 86/100\n",
      "842/842 [==============================] - 101s 120ms/step - loss: 0.1053 - accuracy: 0.9742 - val_loss: 0.2622 - val_accuracy: 0.9409\n",
      "Epoch 87/100\n",
      "842/842 [==============================] - 102s 121ms/step - loss: 0.1078 - accuracy: 0.9734 - val_loss: 0.2626 - val_accuracy: 0.9406\n",
      "Epoch 88/100\n",
      "842/842 [==============================] - 103s 122ms/step - loss: 0.1052 - accuracy: 0.9741 - val_loss: 0.2634 - val_accuracy: 0.9412\n",
      "\n",
      "Epoch 00088: ReduceLROnPlateau reducing learning rate to 2.499999936844688e-05.\n",
      "Epoch 89/100\n",
      "842/842 [==============================] - 103s 122ms/step - loss: 0.1006 - accuracy: 0.9763 - val_loss: 0.2624 - val_accuracy: 0.9413\n",
      "Epoch 90/100\n",
      "842/842 [==============================] - 101s 120ms/step - loss: 0.1004 - accuracy: 0.9761 - val_loss: 0.2628 - val_accuracy: 0.9411\n",
      "Epoch 91/100\n",
      "842/842 [==============================] - 100s 119ms/step - loss: 0.1010 - accuracy: 0.9751 - val_loss: 0.2662 - val_accuracy: 0.9408\n",
      "Epoch 92/100\n",
      "842/842 [==============================] - 102s 121ms/step - loss: 0.1003 - accuracy: 0.9755 - val_loss: 0.2616 - val_accuracy: 0.9410\n",
      "Epoch 93/100\n",
      "842/842 [==============================] - 101s 120ms/step - loss: 0.1009 - accuracy: 0.9744 - val_loss: 0.2622 - val_accuracy: 0.9411\n",
      "\n",
      "Epoch 00093: ReduceLROnPlateau reducing learning rate to 1.249999968422344e-05.\n",
      "Epoch 94/100\n",
      "842/842 [==============================] - 102s 121ms/step - loss: 0.1043 - accuracy: 0.9752 - val_loss: 0.2616 - val_accuracy: 0.9398\n",
      "Epoch 95/100\n",
      "842/842 [==============================] - 101s 120ms/step - loss: 0.1033 - accuracy: 0.9742 - val_loss: 0.2639 - val_accuracy: 0.9405\n",
      "Epoch 96/100\n",
      "842/842 [==============================] - 101s 120ms/step - loss: 0.1034 - accuracy: 0.9746 - val_loss: 0.2656 - val_accuracy: 0.9403\n",
      "\n",
      "Epoch 00096: ReduceLROnPlateau reducing learning rate to 6.24999984211172e-06.\n",
      "Epoch 97/100\n",
      "842/842 [==============================] - 101s 120ms/step - loss: 0.1028 - accuracy: 0.9745 - val_loss: 0.2622 - val_accuracy: 0.9407\n",
      "Epoch 98/100\n",
      "842/842 [==============================] - 101s 120ms/step - loss: 0.1032 - accuracy: 0.9755 - val_loss: 0.2633 - val_accuracy: 0.9408\n",
      "Epoch 99/100\n",
      "842/842 [==============================] - 101s 120ms/step - loss: 0.1021 - accuracy: 0.9750 - val_loss: 0.2618 - val_accuracy: 0.9406\n",
      "\n",
      "Epoch 00099: ReduceLROnPlateau reducing learning rate to 3.12499992105586e-06.\n",
      "Epoch 100/100\n",
      "842/842 [==============================] - 101s 120ms/step - loss: 0.1019 - accuracy: 0.9747 - val_loss: 0.2631 - val_accuracy: 0.9399\n"
     ]
    },
    {
     "data": {
      "text/plain": [
       "<tensorflow.python.keras.callbacks.History at 0x22222bd09d0>"
      ]
     },
     "execution_count": 10,
     "metadata": {},
     "output_type": "execute_result"
    }
   ],
   "source": [
    "reduce_lr = ReduceLROnPlateau(monitor='loss', factor=0.5, patience=3, verbose = 1)\n",
    "\n",
    "model_checkpoint = tf.keras.callbacks.ModelCheckpoint(\n",
    "    filepath='C:/Users/keena/Desktop/AIproj/Models/DenseNet201Adagrade100', # KEENAN PUT YOUR DIRECTORY with a /Model/<modelname> here\n",
    "    monitor='val_loss',\n",
    "    save_weights_only=False,\n",
    "    save_best_only=True)\n",
    "\n",
    "model.fit(x=train_generator, validation_data=validation_generator, epochs = 100, callbacks=[reduce_lr,model_checkpoint])"
   ]
  },
  {
   "cell_type": "code",
   "execution_count": null,
   "metadata": {},
   "outputs": [],
   "source": [
    "#Next model ADAM Adjusted"
   ]
  },
  {
   "cell_type": "code",
   "execution_count": 13,
   "metadata": {},
   "outputs": [
    {
     "name": "stdout",
     "output_type": "stream",
     "text": [
      "Found 26925 images belonging to 60 classes.\n",
      "Found 11540 images belonging to 60 classes.\n"
     ]
    }
   ],
   "source": [
    "# loading training data\n",
    "train_datagen = ImageDataGenerator(preprocessing_function=preprocess_input,\n",
    "                                #    shear_range=0.2,\n",
    "                                  #  zoom_range=0.4,\n",
    "                                  #  rotation_range=30,\n",
    "                                   )\n",
    "\n",
    "valid_datagen = ImageDataGenerator(preprocessing_function=preprocess_input)\n",
    "# test_datagen = ImageDataGenerator(preprocessing_function=preprocess_input)\n",
    "\n",
    "train_generator = train_datagen.flow_from_directory(\n",
    "        'C:/Users/keena/Desktop/AIproj/train', # KEENAN PUT YOUR DIRECTORY with a /train here\n",
    "        target_size=(45, 45),\n",
    "        class_mode='categorical')\n",
    "\n",
    "validation_generator = valid_datagen.flow_from_directory(\n",
    "    'C:/Users/keena/Desktop/AIproj/valid', # KEENAN PUT YOUR DIRECTORY with a /valid here\n",
    "    shuffle=False,\n",
    "    target_size=(45, 45),\n",
    "    class_mode='categorical')"
   ]
  },
  {
   "cell_type": "code",
   "execution_count": 14,
   "metadata": {},
   "outputs": [],
   "source": [
    "model = Sequential()\n",
    "# create the base pre-trained model\n",
    "model.add(DenseNet201(input_shape=(45, 45,3), weights='imagenet', include_top=False)) #Keenan\n",
    "# add a global spatial average pooling layer\n",
    "model.add(GlobalAveragePooling2D()) # CHANGE THIS MAYBE YEAH\n",
    "# let's add a fully-connected layer\n",
    "model.add(Dense(1024, activation='relu'))\n",
    "# and a logistic layer -- let's say we have 60 classes\n",
    "model.add(Dense(len(train_generator.class_indices), activation='softmax'))"
   ]
  },
  {
   "cell_type": "code",
   "execution_count": 15,
   "metadata": {},
   "outputs": [],
   "source": [
    "# specify training loss function \n",
    "model.compile(loss='categorical_crossentropy',\n",
    "              optimizer=tf.keras.optimizers.Adam(learning_rate=0.005), # CHANGE THIS YEAH\n",
    "              metrics=['accuracy'])"
   ]
  },
  {
   "cell_type": "code",
   "execution_count": 16,
   "metadata": {},
   "outputs": [
    {
     "name": "stdout",
     "output_type": "stream",
     "text": [
      "Epoch 1/30\n",
      "842/842 [==============================] - 124s 135ms/step - loss: 2.2318 - accuracy: 0.3916 - val_loss: 4.1776 - val_accuracy: 0.1161\n",
      "INFO:tensorflow:Assets written to: C:/Users/keena/Desktop/AIproj/Models\\DenseNet201Adamlr0.005e30\\assets\n",
      "Epoch 2/30\n",
      "842/842 [==============================] - 107s 127ms/step - loss: 1.2354 - accuracy: 0.6478 - val_loss: 3.4072 - val_accuracy: 0.2996\n",
      "INFO:tensorflow:Assets written to: C:/Users/keena/Desktop/AIproj/Models\\DenseNet201Adamlr0.005e30\\assets\n",
      "Epoch 3/30\n",
      "842/842 [==============================] - 108s 129ms/step - loss: 0.7301 - accuracy: 0.7902 - val_loss: 0.5714 - val_accuracy: 0.8346\n",
      "INFO:tensorflow:Assets written to: C:/Users/keena/Desktop/AIproj/Models\\DenseNet201Adamlr0.005e30\\assets\n",
      "Epoch 4/30\n",
      "842/842 [==============================] - 108s 128ms/step - loss: 0.5280 - accuracy: 0.8480 - val_loss: 0.8080 - val_accuracy: 0.7718\n",
      "Epoch 5/30\n",
      "842/842 [==============================] - 106s 126ms/step - loss: 0.6215 - accuracy: 0.8234 - val_loss: 0.5602 - val_accuracy: 0.8547\n",
      "INFO:tensorflow:Assets written to: C:/Users/keena/Desktop/AIproj/Models\\DenseNet201Adamlr0.005e30\\assets\n",
      "Epoch 6/30\n",
      "842/842 [==============================] - 107s 127ms/step - loss: 0.3361 - accuracy: 0.8990 - val_loss: 0.5751 - val_accuracy: 0.8679\n",
      "Epoch 7/30\n",
      "842/842 [==============================] - 105s 125ms/step - loss: 0.2783 - accuracy: 0.9148 - val_loss: 1.1014 - val_accuracy: 0.8757\n",
      "Epoch 8/30\n",
      "842/842 [==============================] - 101s 120ms/step - loss: 0.2448 - accuracy: 0.9241 - val_loss: 0.8442 - val_accuracy: 0.8747\n",
      "Epoch 9/30\n",
      "842/842 [==============================] - 101s 120ms/step - loss: 0.2324 - accuracy: 0.9272 - val_loss: 1.6531 - val_accuracy: 0.8861\n",
      "Epoch 10/30\n",
      "842/842 [==============================] - 101s 120ms/step - loss: 0.2100 - accuracy: 0.9348 - val_loss: 1.0519 - val_accuracy: 0.8782\n",
      "Epoch 11/30\n",
      "842/842 [==============================] - 100s 119ms/step - loss: 0.1981 - accuracy: 0.9358 - val_loss: 0.4988 - val_accuracy: 0.8921\n",
      "INFO:tensorflow:Assets written to: C:/Users/keena/Desktop/AIproj/Models\\DenseNet201Adamlr0.005e30\\assets\n",
      "Epoch 12/30\n",
      "842/842 [==============================] - 102s 121ms/step - loss: 0.1741 - accuracy: 0.9430 - val_loss: 0.4676 - val_accuracy: 0.8973\n",
      "INFO:tensorflow:Assets written to: C:/Users/keena/Desktop/AIproj/Models\\DenseNet201Adamlr0.005e30\\assets\n",
      "Epoch 13/30\n",
      "842/842 [==============================] - 104s 123ms/step - loss: 0.1731 - accuracy: 0.9448 - val_loss: 6.8456 - val_accuracy: 0.8326\n",
      "Epoch 14/30\n",
      "842/842 [==============================] - 105s 124ms/step - loss: 0.1578 - accuracy: 0.9489 - val_loss: 0.7713 - val_accuracy: 0.8999\n",
      "Epoch 15/30\n",
      "842/842 [==============================] - 105s 124ms/step - loss: 0.1506 - accuracy: 0.9518 - val_loss: 1.1098 - val_accuracy: 0.8863\n",
      "Epoch 16/30\n",
      "842/842 [==============================] - 106s 126ms/step - loss: 0.1393 - accuracy: 0.9554 - val_loss: 0.8551 - val_accuracy: 0.8833\n",
      "Epoch 17/30\n",
      "842/842 [==============================] - 107s 127ms/step - loss: 0.1392 - accuracy: 0.9552 - val_loss: 0.5361 - val_accuracy: 0.9033\n",
      "Epoch 18/30\n",
      "842/842 [==============================] - 106s 126ms/step - loss: 0.1262 - accuracy: 0.9591 - val_loss: 0.3907 - val_accuracy: 0.9286\n",
      "INFO:tensorflow:Assets written to: C:/Users/keena/Desktop/AIproj/Models\\DenseNet201Adamlr0.005e30\\assets\n",
      "Epoch 19/30\n",
      "842/842 [==============================] - 105s 125ms/step - loss: 0.1200 - accuracy: 0.9594 - val_loss: 0.6324 - val_accuracy: 0.8997\n",
      "Epoch 20/30\n",
      "842/842 [==============================] - 107s 127ms/step - loss: 0.1200 - accuracy: 0.9612 - val_loss: 0.6027 - val_accuracy: 0.8795\n",
      "Epoch 21/30\n",
      "842/842 [==============================] - 107s 127ms/step - loss: 0.1112 - accuracy: 0.9639 - val_loss: 0.5481 - val_accuracy: 0.8998\n",
      "Epoch 22/30\n",
      "842/842 [==============================] - 105s 125ms/step - loss: 0.1065 - accuracy: 0.9637 - val_loss: 0.4705 - val_accuracy: 0.9241\n",
      "Epoch 23/30\n",
      "842/842 [==============================] - 104s 124ms/step - loss: 0.1027 - accuracy: 0.9656 - val_loss: 0.5902 - val_accuracy: 0.8974\n",
      "Epoch 24/30\n",
      "842/842 [==============================] - 106s 126ms/step - loss: 0.1014 - accuracy: 0.9659 - val_loss: 0.4910 - val_accuracy: 0.9224\n",
      "Epoch 25/30\n",
      "842/842 [==============================] - 105s 125ms/step - loss: 0.0994 - accuracy: 0.9682 - val_loss: 0.4363 - val_accuracy: 0.9218\n",
      "Epoch 26/30\n",
      "842/842 [==============================] - 105s 125ms/step - loss: 0.0923 - accuracy: 0.9691 - val_loss: 0.4595 - val_accuracy: 0.9239\n",
      "Epoch 27/30\n",
      "842/842 [==============================] - 101s 120ms/step - loss: 0.0890 - accuracy: 0.9703 - val_loss: 0.4873 - val_accuracy: 0.9281\n",
      "Epoch 28/30\n",
      "842/842 [==============================] - 101s 120ms/step - loss: 0.0872 - accuracy: 0.9707 - val_loss: 0.5037 - val_accuracy: 0.9218\n",
      "Epoch 29/30\n",
      "842/842 [==============================] - 101s 120ms/step - loss: 0.0880 - accuracy: 0.9708 - val_loss: 0.6375 - val_accuracy: 0.9269\n",
      "Epoch 30/30\n",
      "842/842 [==============================] - 101s 120ms/step - loss: 0.0908 - accuracy: 0.9699 - val_loss: 0.4707 - val_accuracy: 0.9177\n"
     ]
    },
    {
     "data": {
      "text/plain": [
       "<tensorflow.python.keras.callbacks.History at 0x24ec1d0ff70>"
      ]
     },
     "execution_count": 16,
     "metadata": {},
     "output_type": "execute_result"
    }
   ],
   "source": [
    "reduce_lr = ReduceLROnPlateau(monitor='loss', factor=0.5, patience=3, verbose = 1)\n",
    "\n",
    "model_checkpoint = tf.keras.callbacks.ModelCheckpoint(\n",
    "    filepath='C:/Users/keena/Desktop/AIproj/Models/DenseNet201Adamlr0.005e30', # KEENAN PUT YOUR DIRECTORY with a /Model/<modelname> here\n",
    "    monitor='val_loss',\n",
    "    save_weights_only=False,\n",
    "    save_best_only=True)\n",
    "\n",
    "model.fit(x=train_generator, validation_data=validation_generator, epochs = 30, callbacks=[reduce_lr,model_checkpoint])"
   ]
  },
  {
   "cell_type": "code",
   "execution_count": null,
   "metadata": {},
   "outputs": [],
   "source": [
    "#Next ADAM beta1 0.95"
   ]
  },
  {
   "cell_type": "code",
   "execution_count": 17,
   "metadata": {},
   "outputs": [
    {
     "name": "stdout",
     "output_type": "stream",
     "text": [
      "Found 26925 images belonging to 60 classes.\n",
      "Found 11540 images belonging to 60 classes.\n"
     ]
    }
   ],
   "source": [
    "# loading training data\n",
    "train_datagen = ImageDataGenerator(preprocessing_function=preprocess_input,\n",
    "                                #    shear_range=0.2,\n",
    "                                  #  zoom_range=0.4,\n",
    "                                  #  rotation_range=30,\n",
    "                                   )\n",
    "\n",
    "valid_datagen = ImageDataGenerator(preprocessing_function=preprocess_input)\n",
    "# test_datagen = ImageDataGenerator(preprocessing_function=preprocess_input)\n",
    "\n",
    "train_generator = train_datagen.flow_from_directory(\n",
    "        'C:/Users/keena/Desktop/AIproj/train', # KEENAN PUT YOUR DIRECTORY with a /train here\n",
    "        target_size=(45, 45),\n",
    "        class_mode='categorical')\n",
    "\n",
    "validation_generator = valid_datagen.flow_from_directory(\n",
    "    'C:/Users/keena/Desktop/AIproj/valid', # KEENAN PUT YOUR DIRECTORY with a /valid here\n",
    "    shuffle=False,\n",
    "    target_size=(45, 45),\n",
    "    class_mode='categorical')"
   ]
  },
  {
   "cell_type": "code",
   "execution_count": 18,
   "metadata": {},
   "outputs": [],
   "source": [
    "model = Sequential()\n",
    "# create the base pre-trained model\n",
    "model.add(DenseNet201(input_shape=(45, 45,3), weights='imagenet', include_top=False)) #Keenan\n",
    "# add a global spatial average pooling layer\n",
    "model.add(GlobalAveragePooling2D()) # CHANGE THIS MAYBE YEAH\n",
    "# let's add a fully-connected layer\n",
    "model.add(Dense(1024, activation='relu'))\n",
    "# and a logistic layer -- let's say we have 60 classes\n",
    "model.add(Dense(len(train_generator.class_indices), activation='softmax'))"
   ]
  },
  {
   "cell_type": "code",
   "execution_count": 19,
   "metadata": {},
   "outputs": [],
   "source": [
    "# specify training loss function \n",
    "model.compile(loss='categorical_crossentropy',\n",
    "              optimizer=tf.keras.optimizers.Adam(beta_1=0.95), # CHANGE THIS YEAH\n",
    "              metrics=['accuracy'])"
   ]
  },
  {
   "cell_type": "code",
   "execution_count": 20,
   "metadata": {},
   "outputs": [
    {
     "name": "stdout",
     "output_type": "stream",
     "text": [
      "Epoch 1/30\n",
      "842/842 [==============================] - 118s 127ms/step - loss: 0.7723 - accuracy: 0.7965 - val_loss: 0.5896 - val_accuracy: 0.8842\n",
      "INFO:tensorflow:Assets written to: C:/Users/keena/Desktop/AIproj/Models\\DenseNet201Adambeta1_0.95e30\\assets\n",
      "Epoch 2/30\n",
      "842/842 [==============================] - 106s 126ms/step - loss: 0.3188 - accuracy: 0.9077 - val_loss: 0.4682 - val_accuracy: 0.8939\n",
      "INFO:tensorflow:Assets written to: C:/Users/keena/Desktop/AIproj/Models\\DenseNet201Adambeta1_0.95e30\\assets\n",
      "Epoch 3/30\n",
      "842/842 [==============================] - 102s 121ms/step - loss: 0.2402 - accuracy: 0.9286 - val_loss: 0.4466 - val_accuracy: 0.8871\n",
      "INFO:tensorflow:Assets written to: C:/Users/keena/Desktop/AIproj/Models\\DenseNet201Adambeta1_0.95e30\\assets\n",
      "Epoch 4/30\n",
      "842/842 [==============================] - 102s 121ms/step - loss: 0.2013 - accuracy: 0.9398 - val_loss: 0.3686 - val_accuracy: 0.9086\n",
      "INFO:tensorflow:Assets written to: C:/Users/keena/Desktop/AIproj/Models\\DenseNet201Adambeta1_0.95e30\\assets\n",
      "Epoch 5/30\n",
      "842/842 [==============================] - 102s 121ms/step - loss: 0.1830 - accuracy: 0.9449 - val_loss: 0.3592 - val_accuracy: 0.9257\n",
      "INFO:tensorflow:Assets written to: C:/Users/keena/Desktop/AIproj/Models\\DenseNet201Adambeta1_0.95e30\\assets\n",
      "Epoch 6/30\n",
      "842/842 [==============================] - 103s 122ms/step - loss: 0.1624 - accuracy: 0.9506 - val_loss: 0.3121 - val_accuracy: 0.9343\n",
      "INFO:tensorflow:Assets written to: C:/Users/keena/Desktop/AIproj/Models\\DenseNet201Adambeta1_0.95e30\\assets\n",
      "Epoch 7/30\n",
      "842/842 [==============================] - 107s 127ms/step - loss: 0.1508 - accuracy: 0.9525 - val_loss: 0.4514 - val_accuracy: 0.9218\n",
      "Epoch 8/30\n",
      "842/842 [==============================] - 105s 125ms/step - loss: 0.1622 - accuracy: 0.9499 - val_loss: 0.3117 - val_accuracy: 0.9317\n",
      "INFO:tensorflow:Assets written to: C:/Users/keena/Desktop/AIproj/Models\\DenseNet201Adambeta1_0.95e30\\assets\n",
      "Epoch 9/30\n",
      "842/842 [==============================] - 104s 123ms/step - loss: 0.1132 - accuracy: 0.9635 - val_loss: 0.3403 - val_accuracy: 0.9373\n",
      "Epoch 10/30\n",
      "842/842 [==============================] - 105s 125ms/step - loss: 0.1337 - accuracy: 0.9576 - val_loss: 0.6087 - val_accuracy: 0.9018\n",
      "Epoch 11/30\n",
      "842/842 [==============================] - 106s 126ms/step - loss: 0.1161 - accuracy: 0.9630 - val_loss: 0.2736 - val_accuracy: 0.9379\n",
      "INFO:tensorflow:Assets written to: C:/Users/keena/Desktop/AIproj/Models\\DenseNet201Adambeta1_0.95e30\\assets\n",
      "Epoch 12/30\n",
      "842/842 [==============================] - 108s 128ms/step - loss: 0.1017 - accuracy: 0.9672 - val_loss: 0.3681 - val_accuracy: 0.9254\n",
      "Epoch 13/30\n",
      "842/842 [==============================] - 105s 125ms/step - loss: 0.1031 - accuracy: 0.9662 - val_loss: 0.3804 - val_accuracy: 0.9416\n",
      "Epoch 14/30\n",
      "842/842 [==============================] - 109s 130ms/step - loss: 0.0811 - accuracy: 0.9734 - val_loss: 0.3772 - val_accuracy: 0.9375\n",
      "Epoch 15/30\n",
      "842/842 [==============================] - 109s 129ms/step - loss: 0.0925 - accuracy: 0.9702 - val_loss: 0.4321 - val_accuracy: 0.9334\n",
      "Epoch 16/30\n",
      "842/842 [==============================] - 110s 131ms/step - loss: 0.0764 - accuracy: 0.9749 - val_loss: 0.4129 - val_accuracy: 0.9386\n",
      "Epoch 17/30\n",
      "842/842 [==============================] - 104s 124ms/step - loss: 0.0751 - accuracy: 0.9750 - val_loss: 0.6819 - val_accuracy: 0.8738\n",
      "Epoch 18/30\n",
      "842/842 [==============================] - 108s 128ms/step - loss: 0.0723 - accuracy: 0.9758 - val_loss: 0.5107 - val_accuracy: 0.9273\n",
      "Epoch 19/30\n",
      "842/842 [==============================] - 109s 129ms/step - loss: 0.0937 - accuracy: 0.9722 - val_loss: 0.3914 - val_accuracy: 0.9450\n",
      "Epoch 20/30\n",
      "842/842 [==============================] - 109s 129ms/step - loss: 0.0559 - accuracy: 0.9809 - val_loss: 0.4100 - val_accuracy: 0.9448\n",
      "Epoch 21/30\n",
      "842/842 [==============================] - 109s 129ms/step - loss: 0.0704 - accuracy: 0.9779 - val_loss: 0.4701 - val_accuracy: 0.9367\n",
      "Epoch 22/30\n",
      "842/842 [==============================] - 111s 132ms/step - loss: 0.0606 - accuracy: 0.9798 - val_loss: 0.4970 - val_accuracy: 0.9394\n",
      "Epoch 23/30\n",
      "842/842 [==============================] - 109s 130ms/step - loss: 0.0523 - accuracy: 0.9829 - val_loss: 0.6451 - val_accuracy: 0.9359\n",
      "Epoch 24/30\n",
      "842/842 [==============================] - 104s 124ms/step - loss: 0.0540 - accuracy: 0.9827 - val_loss: 0.4886 - val_accuracy: 0.9373\n",
      "Epoch 25/30\n",
      "842/842 [==============================] - 107s 127ms/step - loss: 0.0497 - accuracy: 0.9835 - val_loss: 0.6269 - val_accuracy: 0.9348\n",
      "Epoch 26/30\n",
      "842/842 [==============================] - 106s 126ms/step - loss: 0.0481 - accuracy: 0.9845 - val_loss: 0.4785 - val_accuracy: 0.9378\n",
      "Epoch 27/30\n",
      "842/842 [==============================] - 107s 127ms/step - loss: 0.0610 - accuracy: 0.9808 - val_loss: 0.4875 - val_accuracy: 0.9332\n",
      "Epoch 28/30\n",
      "842/842 [==============================] - 106s 126ms/step - loss: 0.0362 - accuracy: 0.9882 - val_loss: 0.4340 - val_accuracy: 0.9468\n",
      "Epoch 29/30\n",
      "842/842 [==============================] - 105s 125ms/step - loss: 0.0409 - accuracy: 0.9874 - val_loss: 0.4627 - val_accuracy: 0.9477\n",
      "Epoch 30/30\n",
      "842/842 [==============================] - 104s 123ms/step - loss: 0.0401 - accuracy: 0.9875 - val_loss: 0.3791 - val_accuracy: 0.9496\n"
     ]
    },
    {
     "data": {
      "text/plain": [
       "<tensorflow.python.keras.callbacks.History at 0x24f7f02ae80>"
      ]
     },
     "execution_count": 20,
     "metadata": {},
     "output_type": "execute_result"
    }
   ],
   "source": [
    "reduce_lr = ReduceLROnPlateau(monitor='loss', factor=0.5, patience=3, verbose = 1)\n",
    "\n",
    "model_checkpoint = tf.keras.callbacks.ModelCheckpoint(\n",
    "    filepath='C:/Users/keena/Desktop/AIproj/Models/DenseNet201Adambeta1_0.95e30', # KEENAN PUT YOUR DIRECTORY with a /Model/<modelname> here\n",
    "    monitor='val_loss',\n",
    "    save_weights_only=False,\n",
    "    save_best_only=True)\n",
    "\n",
    "model.fit(x=train_generator, validation_data=validation_generator, epochs = 30, callbacks=[reduce_lr,model_checkpoint])"
   ]
  },
  {
   "cell_type": "code",
   "execution_count": null,
   "metadata": {},
   "outputs": [],
   "source": [
    "#Next ADAM Epsilon"
   ]
  },
  {
   "cell_type": "code",
   "execution_count": 21,
   "metadata": {},
   "outputs": [
    {
     "name": "stdout",
     "output_type": "stream",
     "text": [
      "Found 26925 images belonging to 60 classes.\n",
      "Found 11540 images belonging to 60 classes.\n"
     ]
    }
   ],
   "source": [
    "# loading training data\n",
    "train_datagen = ImageDataGenerator(preprocessing_function=preprocess_input,\n",
    "                                #    shear_range=0.2,\n",
    "                                  #  zoom_range=0.4,\n",
    "                                  #  rotation_range=30,\n",
    "                                   )\n",
    "\n",
    "valid_datagen = ImageDataGenerator(preprocessing_function=preprocess_input)\n",
    "# test_datagen = ImageDataGenerator(preprocessing_function=preprocess_input)\n",
    "\n",
    "train_generator = train_datagen.flow_from_directory(\n",
    "        'C:/Users/keena/Desktop/AIproj/train', # KEENAN PUT YOUR DIRECTORY with a /train here\n",
    "        target_size=(45, 45),\n",
    "        class_mode='categorical')\n",
    "\n",
    "validation_generator = valid_datagen.flow_from_directory(\n",
    "    'C:/Users/keena/Desktop/AIproj/valid', # KEENAN PUT YOUR DIRECTORY with a /valid here\n",
    "    shuffle=False,\n",
    "    target_size=(45, 45),\n",
    "    class_mode='categorical')"
   ]
  },
  {
   "cell_type": "code",
   "execution_count": 22,
   "metadata": {},
   "outputs": [],
   "source": [
    "model = Sequential()\n",
    "# create the base pre-trained model\n",
    "model.add(DenseNet201(input_shape=(45, 45,3), weights='imagenet', include_top=False)) #Keenan\n",
    "# add a global spatial average pooling layer\n",
    "model.add(GlobalAveragePooling2D()) # CHANGE THIS MAYBE YEAH\n",
    "# let's add a fully-connected layer\n",
    "model.add(Dense(1024, activation='relu'))\n",
    "# and a logistic layer -- let's say we have 60 classes\n",
    "model.add(Dense(len(train_generator.class_indices), activation='softmax'))"
   ]
  },
  {
   "cell_type": "code",
   "execution_count": 23,
   "metadata": {},
   "outputs": [],
   "source": [
    "# specify training loss function \n",
    "model.compile(loss='categorical_crossentropy',\n",
    "              optimizer=tf.keras.optimizers.Adam(epsilon=0.1), # CHANGE THIS YEAH\n",
    "              metrics=['accuracy'])"
   ]
  },
  {
   "cell_type": "code",
   "execution_count": 24,
   "metadata": {},
   "outputs": [
    {
     "name": "stdout",
     "output_type": "stream",
     "text": [
      "Epoch 1/30\n",
      "842/842 [==============================] - 122s 131ms/step - loss: 1.3048 - accuracy: 0.7031 - val_loss: 0.3230 - val_accuracy: 0.9185\n",
      "INFO:tensorflow:Assets written to: C:/Users/keena/Desktop/AIproj/Models\\DenseNet201Adambepsilon0.1e30\\assets\n",
      "Epoch 2/30\n",
      "842/842 [==============================] - 107s 127ms/step - loss: 0.2244 - accuracy: 0.9348 - val_loss: 0.3138 - val_accuracy: 0.9347\n",
      "INFO:tensorflow:Assets written to: C:/Users/keena/Desktop/AIproj/Models\\DenseNet201Adambepsilon0.1e30\\assets\n",
      "Epoch 3/30\n",
      "842/842 [==============================] - 106s 126ms/step - loss: 0.1359 - accuracy: 0.9588 - val_loss: 0.3107 - val_accuracy: 0.9360\n",
      "INFO:tensorflow:Assets written to: C:/Users/keena/Desktop/AIproj/Models\\DenseNet201Adambepsilon0.1e30\\assets\n",
      "Epoch 4/30\n",
      "842/842 [==============================] - 106s 125ms/step - loss: 0.0997 - accuracy: 0.9701 - val_loss: 0.2707 - val_accuracy: 0.9431\n",
      "INFO:tensorflow:Assets written to: C:/Users/keena/Desktop/AIproj/Models\\DenseNet201Adambepsilon0.1e30\\assets\n",
      "Epoch 5/30\n",
      "842/842 [==============================] - 110s 130ms/step - loss: 0.0753 - accuracy: 0.9755 - val_loss: 0.3049 - val_accuracy: 0.9477\n",
      "Epoch 6/30\n",
      "842/842 [==============================] - 110s 131ms/step - loss: 0.0568 - accuracy: 0.9811 - val_loss: 0.2990 - val_accuracy: 0.9473\n",
      "Epoch 7/30\n",
      "842/842 [==============================] - 108s 128ms/step - loss: 0.0470 - accuracy: 0.9846 - val_loss: 0.3027 - val_accuracy: 0.9491\n",
      "Epoch 8/30\n",
      "842/842 [==============================] - 108s 128ms/step - loss: 0.0404 - accuracy: 0.9869 - val_loss: 0.3257 - val_accuracy: 0.9464\n",
      "Epoch 9/30\n",
      "842/842 [==============================] - 107s 127ms/step - loss: 0.0304 - accuracy: 0.9902 - val_loss: 0.3182 - val_accuracy: 0.9498\n",
      "Epoch 10/30\n",
      "842/842 [==============================] - 109s 129ms/step - loss: 0.0322 - accuracy: 0.9893 - val_loss: 0.3332 - val_accuracy: 0.9459\n",
      "Epoch 11/30\n",
      "842/842 [==============================] - 108s 128ms/step - loss: 0.0251 - accuracy: 0.9917 - val_loss: 0.3513 - val_accuracy: 0.9462\n",
      "Epoch 12/30\n",
      "842/842 [==============================] - 107s 127ms/step - loss: 0.0233 - accuracy: 0.9923 - val_loss: 0.3519 - val_accuracy: 0.9470\n",
      "Epoch 13/30\n",
      "842/842 [==============================] - 107s 127ms/step - loss: 0.0178 - accuracy: 0.9944 - val_loss: 0.3373 - val_accuracy: 0.9508\n",
      "Epoch 14/30\n",
      "842/842 [==============================] - 107s 127ms/step - loss: 0.0156 - accuracy: 0.9953 - val_loss: 0.3372 - val_accuracy: 0.9514\n",
      "Epoch 15/30\n",
      "842/842 [==============================] - 108s 128ms/step - loss: 0.0163 - accuracy: 0.9949 - val_loss: 0.3632 - val_accuracy: 0.9486\n",
      "Epoch 16/30\n",
      "842/842 [==============================] - 106s 126ms/step - loss: 0.0123 - accuracy: 0.9963 - val_loss: 0.3603 - val_accuracy: 0.9503\n",
      "Epoch 17/30\n",
      "842/842 [==============================] - 107s 127ms/step - loss: 0.0137 - accuracy: 0.9961 - val_loss: 0.3663 - val_accuracy: 0.9493\n",
      "Epoch 18/30\n",
      "842/842 [==============================] - 108s 129ms/step - loss: 0.0102 - accuracy: 0.9970 - val_loss: 0.3922 - val_accuracy: 0.9447\n",
      "Epoch 19/30\n",
      "842/842 [==============================] - 106s 126ms/step - loss: 0.0079 - accuracy: 0.9978 - val_loss: 0.4065 - val_accuracy: 0.9478\n",
      "Epoch 20/30\n",
      "842/842 [==============================] - 108s 128ms/step - loss: 0.0084 - accuracy: 0.9974 - val_loss: 0.3839 - val_accuracy: 0.9501\n",
      "Epoch 21/30\n",
      "842/842 [==============================] - 109s 130ms/step - loss: 0.0090 - accuracy: 0.9973 - val_loss: 0.4322 - val_accuracy: 0.9512\n",
      "Epoch 22/30\n",
      "842/842 [==============================] - 108s 129ms/step - loss: 0.0089 - accuracy: 0.9974 - val_loss: 0.3978 - val_accuracy: 0.9503\n",
      "\n",
      "Epoch 00022: ReduceLROnPlateau reducing learning rate to 0.0005000000237487257.\n",
      "Epoch 23/30\n",
      "842/842 [==============================] - 108s 129ms/step - loss: 0.0047 - accuracy: 0.9987 - val_loss: 0.4025 - val_accuracy: 0.9526\n",
      "Epoch 24/30\n",
      "842/842 [==============================] - 109s 129ms/step - loss: 0.0034 - accuracy: 0.9991 - val_loss: 0.4096 - val_accuracy: 0.9524\n",
      "Epoch 25/30\n",
      "842/842 [==============================] - 107s 127ms/step - loss: 0.0029 - accuracy: 0.9992 - val_loss: 0.4086 - val_accuracy: 0.9530\n",
      "Epoch 26/30\n",
      "842/842 [==============================] - 106s 126ms/step - loss: 0.0029 - accuracy: 0.9992 - val_loss: 0.4092 - val_accuracy: 0.9521\n",
      "Epoch 27/30\n",
      "842/842 [==============================] - 107s 127ms/step - loss: 0.0028 - accuracy: 0.9992 - val_loss: 0.4111 - val_accuracy: 0.9513\n",
      "Epoch 28/30\n",
      "842/842 [==============================] - 107s 127ms/step - loss: 0.0024 - accuracy: 0.9993 - val_loss: 0.4013 - val_accuracy: 0.9526\n",
      "Epoch 29/30\n",
      "842/842 [==============================] - 107s 128ms/step - loss: 0.0022 - accuracy: 0.9994 - val_loss: 0.4283 - val_accuracy: 0.9503\n",
      "Epoch 30/30\n",
      "842/842 [==============================] - 108s 128ms/step - loss: 0.0023 - accuracy: 0.9996 - val_loss: 0.4231 - val_accuracy: 0.9519\n"
     ]
    },
    {
     "data": {
      "text/plain": [
       "<tensorflow.python.keras.callbacks.History at 0x24e58ea2280>"
      ]
     },
     "execution_count": 24,
     "metadata": {},
     "output_type": "execute_result"
    }
   ],
   "source": [
    "reduce_lr = ReduceLROnPlateau(monitor='loss', factor=0.5, patience=3, verbose = 1)\n",
    "\n",
    "model_checkpoint = tf.keras.callbacks.ModelCheckpoint(\n",
    "    filepath='C:/Users/keena/Desktop/AIproj/Models/DenseNet201Adambepsilon0.1e30', # KEENAN PUT YOUR DIRECTORY with a /Model/<modelname> here\n",
    "    monitor='val_loss',\n",
    "    save_weights_only=False,\n",
    "    save_best_only=True)\n",
    "\n",
    "model.fit(x=train_generator, validation_data=validation_generator, epochs = 30, callbacks=[reduce_lr,model_checkpoint])"
   ]
  },
  {
   "cell_type": "code",
   "execution_count": null,
   "metadata": {},
   "outputs": [],
   "source": [
    "#Next Epsilon 1"
   ]
  },
  {
   "cell_type": "code",
   "execution_count": 25,
   "metadata": {},
   "outputs": [
    {
     "name": "stdout",
     "output_type": "stream",
     "text": [
      "Found 26925 images belonging to 60 classes.\n",
      "Found 11540 images belonging to 60 classes.\n"
     ]
    }
   ],
   "source": [
    "# loading training data\n",
    "train_datagen = ImageDataGenerator(preprocessing_function=preprocess_input,\n",
    "                                #    shear_range=0.2,\n",
    "                                  #  zoom_range=0.4,\n",
    "                                  #  rotation_range=30,\n",
    "                                   )\n",
    "\n",
    "valid_datagen = ImageDataGenerator(preprocessing_function=preprocess_input)\n",
    "# test_datagen = ImageDataGenerator(preprocessing_function=preprocess_input)\n",
    "\n",
    "train_generator = train_datagen.flow_from_directory(\n",
    "        'C:/Users/keena/Desktop/AIproj/train', # KEENAN PUT YOUR DIRECTORY with a /train here\n",
    "        target_size=(45, 45),\n",
    "        class_mode='categorical')\n",
    "\n",
    "validation_generator = valid_datagen.flow_from_directory(\n",
    "    'C:/Users/keena/Desktop/AIproj/valid', # KEENAN PUT YOUR DIRECTORY with a /valid here\n",
    "    shuffle=False,\n",
    "    target_size=(45, 45),\n",
    "    class_mode='categorical')"
   ]
  },
  {
   "cell_type": "code",
   "execution_count": 26,
   "metadata": {},
   "outputs": [],
   "source": [
    "model = Sequential()\n",
    "# create the base pre-trained model\n",
    "model.add(DenseNet201(input_shape=(45, 45,3), weights='imagenet', include_top=False)) #Keenan\n",
    "# add a global spatial average pooling layer\n",
    "model.add(GlobalAveragePooling2D()) # CHANGE THIS MAYBE YEAH\n",
    "# let's add a fully-connected layer\n",
    "model.add(Dense(1024, activation='relu'))\n",
    "# and a logistic layer -- let's say we have 60 classes\n",
    "model.add(Dense(len(train_generator.class_indices), activation='softmax'))"
   ]
  },
  {
   "cell_type": "code",
   "execution_count": 27,
   "metadata": {},
   "outputs": [],
   "source": [
    "# specify training loss function \n",
    "model.compile(loss='categorical_crossentropy',\n",
    "              optimizer=tf.keras.optimizers.Adam(epsilon=1), # CHANGE THIS YEAH\n",
    "              metrics=['accuracy'])"
   ]
  },
  {
   "cell_type": "code",
   "execution_count": 28,
   "metadata": {},
   "outputs": [
    {
     "name": "stdout",
     "output_type": "stream",
     "text": [
      "Epoch 1/30\n",
      "842/842 [==============================] - 122s 132ms/step - loss: 3.2124 - accuracy: 0.3023 - val_loss: 1.8125 - val_accuracy: 0.6260\n",
      "INFO:tensorflow:Assets written to: C:/Users/keena/Desktop/AIproj/Models\\DenseNet201Adambepsilon1e30\\assets\n",
      "Epoch 2/30\n",
      "842/842 [==============================] - 106s 126ms/step - loss: 1.2509 - accuracy: 0.7439 - val_loss: 0.6981 - val_accuracy: 0.8405\n",
      "INFO:tensorflow:Assets written to: C:/Users/keena/Desktop/AIproj/Models\\DenseNet201Adambepsilon1e30\\assets\n",
      "Epoch 3/30\n",
      "842/842 [==============================] - 111s 132ms/step - loss: 0.6036 - accuracy: 0.8599 - val_loss: 0.4361 - val_accuracy: 0.8945\n",
      "INFO:tensorflow:Assets written to: C:/Users/keena/Desktop/AIproj/Models\\DenseNet201Adambepsilon1e30\\assets\n",
      "Epoch 4/30\n",
      "842/842 [==============================] - 113s 135ms/step - loss: 0.3859 - accuracy: 0.9043 - val_loss: 0.3462 - val_accuracy: 0.9175\n",
      "INFO:tensorflow:Assets written to: C:/Users/keena/Desktop/AIproj/Models\\DenseNet201Adambepsilon1e30\\assets\n",
      "Epoch 5/30\n",
      "842/842 [==============================] - 108s 128ms/step - loss: 0.2756 - accuracy: 0.9291 - val_loss: 0.3005 - val_accuracy: 0.9247\n",
      "INFO:tensorflow:Assets written to: C:/Users/keena/Desktop/AIproj/Models\\DenseNet201Adambepsilon1e30\\assets\n",
      "Epoch 6/30\n",
      "842/842 [==============================] - 113s 134ms/step - loss: 0.2174 - accuracy: 0.9443 - val_loss: 0.2753 - val_accuracy: 0.9353\n",
      "INFO:tensorflow:Assets written to: C:/Users/keena/Desktop/AIproj/Models\\DenseNet201Adambepsilon1e30\\assets\n",
      "Epoch 7/30\n",
      "842/842 [==============================] - 111s 132ms/step - loss: 0.1766 - accuracy: 0.9530 - val_loss: 0.2594 - val_accuracy: 0.9407\n",
      "INFO:tensorflow:Assets written to: C:/Users/keena/Desktop/AIproj/Models\\DenseNet201Adambepsilon1e30\\assets\n",
      "Epoch 8/30\n",
      "842/842 [==============================] - 114s 135ms/step - loss: 0.1496 - accuracy: 0.9603 - val_loss: 0.2595 - val_accuracy: 0.9408\n",
      "Epoch 9/30\n",
      "842/842 [==============================] - 113s 134ms/step - loss: 0.1306 - accuracy: 0.9671 - val_loss: 0.2582 - val_accuracy: 0.9431\n",
      "INFO:tensorflow:Assets written to: C:/Users/keena/Desktop/AIproj/Models\\DenseNet201Adambepsilon1e30\\assets\n",
      "Epoch 10/30\n",
      "842/842 [==============================] - 108s 128ms/step - loss: 0.1083 - accuracy: 0.9721 - val_loss: 0.2711 - val_accuracy: 0.9425\n",
      "Epoch 11/30\n",
      "842/842 [==============================] - 108s 128ms/step - loss: 0.0958 - accuracy: 0.9756 - val_loss: 0.2661 - val_accuracy: 0.9445\n",
      "Epoch 12/30\n",
      "842/842 [==============================] - 108s 128ms/step - loss: 0.0837 - accuracy: 0.9787 - val_loss: 0.2609 - val_accuracy: 0.9461\n",
      "Epoch 13/30\n",
      "842/842 [==============================] - 107s 128ms/step - loss: 0.0717 - accuracy: 0.9820 - val_loss: 0.2568 - val_accuracy: 0.9477\n",
      "INFO:tensorflow:Assets written to: C:/Users/keena/Desktop/AIproj/Models\\DenseNet201Adambepsilon1e30\\assets\n",
      "Epoch 14/30\n",
      "842/842 [==============================] - 107s 127ms/step - loss: 0.0676 - accuracy: 0.9832 - val_loss: 0.2690 - val_accuracy: 0.9466\n",
      "Epoch 15/30\n",
      "842/842 [==============================] - 107s 128ms/step - loss: 0.0604 - accuracy: 0.9856 - val_loss: 0.2713 - val_accuracy: 0.9469\n",
      "Epoch 16/30\n",
      "842/842 [==============================] - 108s 128ms/step - loss: 0.0536 - accuracy: 0.9872 - val_loss: 0.2701 - val_accuracy: 0.9465\n",
      "Epoch 17/30\n",
      "842/842 [==============================] - 107s 128ms/step - loss: 0.0489 - accuracy: 0.9886 - val_loss: 0.2753 - val_accuracy: 0.9479\n",
      "Epoch 18/30\n",
      "842/842 [==============================] - 107s 128ms/step - loss: 0.0442 - accuracy: 0.9891 - val_loss: 0.2583 - val_accuracy: 0.9487\n",
      "Epoch 19/30\n",
      "842/842 [==============================] - 107s 127ms/step - loss: 0.0422 - accuracy: 0.9897 - val_loss: 0.2655 - val_accuracy: 0.9469\n",
      "Epoch 20/30\n",
      "842/842 [==============================] - 107s 127ms/step - loss: 0.0401 - accuracy: 0.9906 - val_loss: 0.2651 - val_accuracy: 0.9481\n",
      "Epoch 21/30\n",
      "842/842 [==============================] - 107s 128ms/step - loss: 0.0383 - accuracy: 0.9909 - val_loss: 0.2691 - val_accuracy: 0.9501\n",
      "Epoch 22/30\n",
      "842/842 [==============================] - 107s 127ms/step - loss: 0.0333 - accuracy: 0.9922 - val_loss: 0.2791 - val_accuracy: 0.9484\n",
      "Epoch 23/30\n",
      "842/842 [==============================] - 108s 128ms/step - loss: 0.0308 - accuracy: 0.9931 - val_loss: 0.2780 - val_accuracy: 0.9478\n",
      "Epoch 24/30\n",
      "842/842 [==============================] - 107s 127ms/step - loss: 0.0285 - accuracy: 0.9934 - val_loss: 0.2880 - val_accuracy: 0.9479\n",
      "Epoch 25/30\n",
      "842/842 [==============================] - 108s 128ms/step - loss: 0.0272 - accuracy: 0.9938 - val_loss: 0.2904 - val_accuracy: 0.9481\n",
      "Epoch 26/30\n",
      "842/842 [==============================] - 107s 127ms/step - loss: 0.0252 - accuracy: 0.9945 - val_loss: 0.2978 - val_accuracy: 0.9482\n",
      "Epoch 27/30\n",
      "842/842 [==============================] - 108s 128ms/step - loss: 0.0222 - accuracy: 0.9952 - val_loss: 0.2887 - val_accuracy: 0.9488\n",
      "Epoch 28/30\n",
      "842/842 [==============================] - 108s 128ms/step - loss: 0.0219 - accuracy: 0.9951 - val_loss: 0.3038 - val_accuracy: 0.9476\n",
      "Epoch 29/30\n",
      "842/842 [==============================] - 107s 127ms/step - loss: 0.0203 - accuracy: 0.9962 - val_loss: 0.2931 - val_accuracy: 0.9496\n",
      "Epoch 30/30\n",
      "842/842 [==============================] - 107s 127ms/step - loss: 0.0178 - accuracy: 0.9959 - val_loss: 0.3106 - val_accuracy: 0.9477\n"
     ]
    },
    {
     "data": {
      "text/plain": [
       "<tensorflow.python.keras.callbacks.History at 0x24f052dea00>"
      ]
     },
     "execution_count": 28,
     "metadata": {},
     "output_type": "execute_result"
    }
   ],
   "source": [
    "reduce_lr = ReduceLROnPlateau(monitor='loss', factor=0.5, patience=3, verbose = 1)\n",
    "\n",
    "model_checkpoint = tf.keras.callbacks.ModelCheckpoint(\n",
    "    filepath='C:/Users/keena/Desktop/AIproj/Models/DenseNet201Adambepsilon1e30', # KEENAN PUT YOUR DIRECTORY with a /Model/<modelname> here\n",
    "    monitor='val_loss',\n",
    "    save_weights_only=False,\n",
    "    save_best_only=True)\n",
    "\n",
    "model.fit(x=train_generator, validation_data=validation_generator, epochs = 30, callbacks=[reduce_lr,model_checkpoint])"
   ]
  },
  {
   "cell_type": "code",
   "execution_count": null,
   "metadata": {},
   "outputs": [],
   "source": [
    "#Combined Epsilon 1 with beta1"
   ]
  },
  {
   "cell_type": "code",
   "execution_count": 29,
   "metadata": {},
   "outputs": [
    {
     "name": "stdout",
     "output_type": "stream",
     "text": [
      "Found 26925 images belonging to 60 classes.\n",
      "Found 11540 images belonging to 60 classes.\n"
     ]
    }
   ],
   "source": [
    "# loading training data\n",
    "train_datagen = ImageDataGenerator(preprocessing_function=preprocess_input,\n",
    "                                #    shear_range=0.2,\n",
    "                                  #  zoom_range=0.4,\n",
    "                                  #  rotation_range=30,\n",
    "                                   )\n",
    "\n",
    "valid_datagen = ImageDataGenerator(preprocessing_function=preprocess_input)\n",
    "# test_datagen = ImageDataGenerator(preprocessing_function=preprocess_input)\n",
    "\n",
    "train_generator = train_datagen.flow_from_directory(\n",
    "        'C:/Users/keena/Desktop/AIproj/train', # KEENAN PUT YOUR DIRECTORY with a /train here\n",
    "        target_size=(45, 45),\n",
    "        class_mode='categorical')\n",
    "\n",
    "validation_generator = valid_datagen.flow_from_directory(\n",
    "    'C:/Users/keena/Desktop/AIproj/valid', # KEENAN PUT YOUR DIRECTORY with a /valid here\n",
    "    shuffle=False,\n",
    "    target_size=(45, 45),\n",
    "    class_mode='categorical')"
   ]
  },
  {
   "cell_type": "code",
   "execution_count": 30,
   "metadata": {},
   "outputs": [],
   "source": [
    "model = Sequential()\n",
    "# create the base pre-trained model\n",
    "model.add(DenseNet201(input_shape=(45, 45,3), weights='imagenet', include_top=False)) #Keenan\n",
    "# add a global spatial average pooling layer\n",
    "model.add(GlobalAveragePooling2D()) # CHANGE THIS MAYBE YEAH\n",
    "# let's add a fully-connected layer\n",
    "model.add(Dense(1024, activation='relu'))\n",
    "# and a logistic layer -- let's say we have 60 classes\n",
    "model.add(Dense(len(train_generator.class_indices), activation='softmax'))"
   ]
  },
  {
   "cell_type": "code",
   "execution_count": 31,
   "metadata": {},
   "outputs": [],
   "source": [
    "# specify training loss function \n",
    "model.compile(loss='categorical_crossentropy',\n",
    "              optimizer=tf.keras.optimizers.Adam(beta_1=0.95, epsilon=1), # CHANGE THIS YEAH\n",
    "              metrics=['accuracy'])"
   ]
  },
  {
   "cell_type": "code",
   "execution_count": 32,
   "metadata": {},
   "outputs": [
    {
     "name": "stdout",
     "output_type": "stream",
     "text": [
      "Epoch 1/30\n",
      "842/842 [==============================] - 122s 131ms/step - loss: 3.1887 - accuracy: 0.3038 - val_loss: 1.8107 - val_accuracy: 0.6360\n",
      "INFO:tensorflow:Assets written to: C:/Users/keena/Desktop/AIproj/Models\\DenseNet201Adambepsilon1beta1_0.95e30\\assets\n",
      "Epoch 2/30\n",
      "842/842 [==============================] - 111s 132ms/step - loss: 1.2445 - accuracy: 0.7423 - val_loss: 0.6905 - val_accuracy: 0.8450\n",
      "INFO:tensorflow:Assets written to: C:/Users/keena/Desktop/AIproj/Models\\DenseNet201Adambepsilon1beta1_0.95e30\\assets\n",
      "Epoch 3/30\n",
      "842/842 [==============================] - 107s 128ms/step - loss: 0.5871 - accuracy: 0.8636 - val_loss: 0.4267 - val_accuracy: 0.8981\n",
      "INFO:tensorflow:Assets written to: C:/Users/keena/Desktop/AIproj/Models\\DenseNet201Adambepsilon1beta1_0.95e30\\assets\n",
      "Epoch 4/30\n",
      "842/842 [==============================] - 110s 131ms/step - loss: 0.3762 - accuracy: 0.9066 - val_loss: 0.3366 - val_accuracy: 0.9205\n",
      "INFO:tensorflow:Assets written to: C:/Users/keena/Desktop/AIproj/Models\\DenseNet201Adambepsilon1beta1_0.95e30\\assets\n",
      "Epoch 5/30\n",
      "842/842 [==============================] - 118s 140ms/step - loss: 0.2755 - accuracy: 0.9314 - val_loss: 0.3047 - val_accuracy: 0.9312\n",
      "INFO:tensorflow:Assets written to: C:/Users/keena/Desktop/AIproj/Models\\DenseNet201Adambepsilon1beta1_0.95e30\\assets\n",
      "Epoch 6/30\n",
      "842/842 [==============================] - 113s 134ms/step - loss: 0.2196 - accuracy: 0.9417 - val_loss: 0.2822 - val_accuracy: 0.9367\n",
      "INFO:tensorflow:Assets written to: C:/Users/keena/Desktop/AIproj/Models\\DenseNet201Adambepsilon1beta1_0.95e30\\assets\n",
      "Epoch 7/30\n",
      "842/842 [==============================] - 112s 133ms/step - loss: 0.1788 - accuracy: 0.9538 - val_loss: 0.2825 - val_accuracy: 0.9385\n",
      "Epoch 8/30\n",
      "842/842 [==============================] - 115s 136ms/step - loss: 0.1478 - accuracy: 0.9608 - val_loss: 0.2715 - val_accuracy: 0.9412\n",
      "INFO:tensorflow:Assets written to: C:/Users/keena/Desktop/AIproj/Models\\DenseNet201Adambepsilon1beta1_0.95e30\\assets\n",
      "Epoch 9/30\n",
      "842/842 [==============================] - 114s 135ms/step - loss: 0.1297 - accuracy: 0.9652 - val_loss: 0.2556 - val_accuracy: 0.9454\n",
      "INFO:tensorflow:Assets written to: C:/Users/keena/Desktop/AIproj/Models\\DenseNet201Adambepsilon1beta1_0.95e30\\assets\n",
      "Epoch 10/30\n",
      "842/842 [==============================] - 115s 137ms/step - loss: 0.1101 - accuracy: 0.9708 - val_loss: 0.2541 - val_accuracy: 0.9466\n",
      "INFO:tensorflow:Assets written to: C:/Users/keena/Desktop/AIproj/Models\\DenseNet201Adambepsilon1beta1_0.95e30\\assets\n",
      "Epoch 11/30\n",
      "842/842 [==============================] - 116s 137ms/step - loss: 0.0964 - accuracy: 0.9747 - val_loss: 0.2628 - val_accuracy: 0.9467\n",
      "Epoch 12/30\n",
      "842/842 [==============================] - 116s 137ms/step - loss: 0.0872 - accuracy: 0.9777 - val_loss: 0.2601 - val_accuracy: 0.9480\n",
      "Epoch 13/30\n",
      "842/842 [==============================] - 115s 136ms/step - loss: 0.0730 - accuracy: 0.9806 - val_loss: 0.2592 - val_accuracy: 0.9471\n",
      "Epoch 14/30\n",
      "842/842 [==============================] - 115s 137ms/step - loss: 0.0698 - accuracy: 0.9820 - val_loss: 0.2663 - val_accuracy: 0.9457\n",
      "Epoch 15/30\n",
      "842/842 [==============================] - 113s 134ms/step - loss: 0.0604 - accuracy: 0.9844 - val_loss: 0.2622 - val_accuracy: 0.9502\n",
      "Epoch 16/30\n",
      "842/842 [==============================] - 117s 139ms/step - loss: 0.0562 - accuracy: 0.9851 - val_loss: 0.2644 - val_accuracy: 0.9480\n",
      "Epoch 17/30\n",
      "842/842 [==============================] - 115s 136ms/step - loss: 0.0509 - accuracy: 0.9873 - val_loss: 0.2631 - val_accuracy: 0.9507\n",
      "Epoch 18/30\n",
      "842/842 [==============================] - 114s 136ms/step - loss: 0.0459 - accuracy: 0.9894 - val_loss: 0.2679 - val_accuracy: 0.9494\n",
      "Epoch 19/30\n",
      "842/842 [==============================] - 113s 135ms/step - loss: 0.0425 - accuracy: 0.9899 - val_loss: 0.2794 - val_accuracy: 0.9485\n",
      "Epoch 20/30\n",
      "842/842 [==============================] - 112s 133ms/step - loss: 0.0390 - accuracy: 0.9912 - val_loss: 0.2746 - val_accuracy: 0.9495\n",
      "Epoch 21/30\n",
      "842/842 [==============================] - 111s 131ms/step - loss: 0.0356 - accuracy: 0.9922 - val_loss: 0.2777 - val_accuracy: 0.9483\n",
      "Epoch 22/30\n",
      "842/842 [==============================] - 110s 131ms/step - loss: 0.0321 - accuracy: 0.9931 - val_loss: 0.2776 - val_accuracy: 0.9491\n",
      "Epoch 23/30\n",
      "842/842 [==============================] - 113s 134ms/step - loss: 0.0307 - accuracy: 0.9932 - val_loss: 0.2713 - val_accuracy: 0.9499\n",
      "Epoch 24/30\n",
      "842/842 [==============================] - 113s 134ms/step - loss: 0.0283 - accuracy: 0.9935 - val_loss: 0.2844 - val_accuracy: 0.9484\n",
      "Epoch 25/30\n",
      "842/842 [==============================] - 112s 133ms/step - loss: 0.0270 - accuracy: 0.9941 - val_loss: 0.2795 - val_accuracy: 0.9492\n",
      "Epoch 26/30\n",
      "842/842 [==============================] - 110s 131ms/step - loss: 0.0245 - accuracy: 0.9946 - val_loss: 0.2897 - val_accuracy: 0.9495\n",
      "Epoch 27/30\n",
      "842/842 [==============================] - 110s 130ms/step - loss: 0.0245 - accuracy: 0.9943 - val_loss: 0.2893 - val_accuracy: 0.9497\n",
      "Epoch 28/30\n",
      "842/842 [==============================] - 110s 130ms/step - loss: 0.0212 - accuracy: 0.9957 - val_loss: 0.3090 - val_accuracy: 0.9464\n",
      "Epoch 29/30\n",
      "842/842 [==============================] - 117s 139ms/step - loss: 0.0194 - accuracy: 0.9958 - val_loss: 0.2948 - val_accuracy: 0.9497\n",
      "Epoch 30/30\n",
      "842/842 [==============================] - 116s 138ms/step - loss: 0.0192 - accuracy: 0.9960 - val_loss: 0.2906 - val_accuracy: 0.9499\n"
     ]
    },
    {
     "data": {
      "text/plain": [
       "<tensorflow.python.keras.callbacks.History at 0x24f1343f130>"
      ]
     },
     "execution_count": 32,
     "metadata": {},
     "output_type": "execute_result"
    }
   ],
   "source": [
    "reduce_lr = ReduceLROnPlateau(monitor='loss', factor=0.5, patience=3, verbose = 1)\n",
    "\n",
    "model_checkpoint = tf.keras.callbacks.ModelCheckpoint(\n",
    "    filepath='C:/Users/keena/Desktop/AIproj/Models/DenseNet201Adambepsilon1beta1_0.95e30', # KEENAN PUT YOUR DIRECTORY with a /Model/<modelname> here\n",
    "    monitor='val_loss',\n",
    "    save_weights_only=False,\n",
    "    save_best_only=True)\n",
    "\n",
    "model.fit(x=train_generator, validation_data=validation_generator, epochs = 30, callbacks=[reduce_lr,model_checkpoint])"
   ]
  },
  {
   "cell_type": "code",
   "execution_count": 13,
   "metadata": {},
   "outputs": [],
   "source": [
    "#Part 4 Diamond is Unbreakable"
   ]
  },
  {
   "cell_type": "code",
   "execution_count": 6,
   "metadata": {},
   "outputs": [
    {
     "name": "stdout",
     "output_type": "stream",
     "text": [
      "Found 26925 images belonging to 60 classes.\n",
      "Found 11540 images belonging to 60 classes.\n"
     ]
    }
   ],
   "source": [
    "# loading training data\n",
    "# train_datagen = ImageDataGenerator(preprocessing_function=preprocess_input,\n",
    "#                                 #    shear_range=0.2,\n",
    "#                                   #  zoom_range=0.4,\n",
    "#                                   #  rotation_range=30,\n",
    "#                                    )\n",
    "\n",
    "train_datagen = ImageDataGenerator(preprocessing_function=preprocess_input,\n",
    "                                  rotation_range=30, brightness_range = [0.2,1]  \n",
    "                                   )\n",
    "\n",
    "\n",
    "valid_datagen = ImageDataGenerator(preprocessing_function=preprocess_input)\n",
    "# test_datagen = ImageDataGenerator(preprocessing_function=preprocess_input)\n",
    "\n",
    "train_generator = train_datagen.flow_from_directory(\n",
    "        'C:/Users/keena/Desktop/AIproj/train', # KEENAN PUT YOUR DIRECTORY with a /train here\n",
    "        target_size=(45, 45),\n",
    "        class_mode='categorical')\n",
    "\n",
    "validation_generator = valid_datagen.flow_from_directory(\n",
    "    'C:/Users/keena/Desktop/AIproj/valid', # KEENAN PUT YOUR DIRECTORY with a /valid here\n",
    "    shuffle=False,\n",
    "    target_size=(45, 45),\n",
    "    class_mode='categorical')"
   ]
  },
  {
   "cell_type": "code",
   "execution_count": 7,
   "metadata": {},
   "outputs": [],
   "source": [
    "model = Sequential()\n",
    "# create the base pre-trained model\n",
    "model.add(DenseNet201(input_shape=(45, 45,3), weights='imagenet', include_top=False)) #Keenan\n",
    "# add a global spatial average pooling layer\n",
    "model.add(GlobalAveragePooling2D()) # CHANGE THIS MAYBE YEAH\n",
    "# let's add a fully-connected layer\n",
    "model.add(Dense(1024, activation='relu'))\n",
    "# and a logistic layer -- let's say we have 60 classes\n",
    "model.add(Dense(len(train_generator.class_indices), activation='softmax'))"
   ]
  },
  {
   "cell_type": "code",
   "execution_count": 8,
   "metadata": {},
   "outputs": [],
   "source": [
    "# specify training loss function \n",
    "model.compile(loss='categorical_crossentropy',\n",
    "              optimizer=tf.keras.optimizers.Adam(epsilon=1), # CHANGE THIS YEAH\n",
    "              metrics=['accuracy'])"
   ]
  },
  {
   "cell_type": "code",
   "execution_count": 9,
   "metadata": {
    "scrolled": true
   },
   "outputs": [
    {
     "name": "stdout",
     "output_type": "stream",
     "text": [
      "Epoch 1/30\n",
      "842/842 [==============================] - 127s 133ms/step - loss: 3.6695 - accuracy: 0.1542 - val_loss: 2.6044 - val_accuracy: 0.4390\n",
      "INFO:tensorflow:Assets written to: C:/Users/keena/Desktop/AIproj/Models\\DenseNet201DiamondisUnbreakablee30\\assets\n",
      "Epoch 2/30\n",
      "842/842 [==============================] - 102s 121ms/step - loss: 1.9717 - accuracy: 0.5558 - val_loss: 1.1701 - val_accuracy: 0.7167\n",
      "INFO:tensorflow:Assets written to: C:/Users/keena/Desktop/AIproj/Models\\DenseNet201DiamondisUnbreakablee30\\assets\n",
      "Epoch 3/30\n",
      "842/842 [==============================] - 101s 120ms/step - loss: 1.0337 - accuracy: 0.7461 - val_loss: 0.6483 - val_accuracy: 0.8424\n",
      "INFO:tensorflow:Assets written to: C:/Users/keena/Desktop/AIproj/Models\\DenseNet201DiamondisUnbreakablee30\\assets\n",
      "Epoch 4/30\n",
      "842/842 [==============================] - 102s 121ms/step - loss: 0.6827 - accuracy: 0.8235 - val_loss: 0.4695 - val_accuracy: 0.8772\n",
      "INFO:tensorflow:Assets written to: C:/Users/keena/Desktop/AIproj/Models\\DenseNet201DiamondisUnbreakablee30\\assets\n",
      "Epoch 5/30\n",
      "842/842 [==============================] - 100s 119ms/step - loss: 0.5127 - accuracy: 0.8622 - val_loss: 0.3995 - val_accuracy: 0.8931\n",
      "INFO:tensorflow:Assets written to: C:/Users/keena/Desktop/AIproj/Models\\DenseNet201DiamondisUnbreakablee30\\assets\n",
      "Epoch 6/30\n",
      "842/842 [==============================] - 101s 120ms/step - loss: 0.4231 - accuracy: 0.8856 - val_loss: 0.3353 - val_accuracy: 0.9122\n",
      "INFO:tensorflow:Assets written to: C:/Users/keena/Desktop/AIproj/Models\\DenseNet201DiamondisUnbreakablee30\\assets\n",
      "Epoch 7/30\n",
      "842/842 [==============================] - 102s 121ms/step - loss: 0.3609 - accuracy: 0.9001 - val_loss: 0.2983 - val_accuracy: 0.9235\n",
      "INFO:tensorflow:Assets written to: C:/Users/keena/Desktop/AIproj/Models\\DenseNet201DiamondisUnbreakablee30\\assets\n",
      "Epoch 8/30\n",
      "842/842 [==============================] - 102s 121ms/step - loss: 0.3162 - accuracy: 0.9103 - val_loss: 0.2913 - val_accuracy: 0.9232\n",
      "INFO:tensorflow:Assets written to: C:/Users/keena/Desktop/AIproj/Models\\DenseNet201DiamondisUnbreakablee30\\assets\n",
      "Epoch 9/30\n",
      "842/842 [==============================] - 103s 122ms/step - loss: 0.2874 - accuracy: 0.9177 - val_loss: 0.2707 - val_accuracy: 0.9302\n",
      "INFO:tensorflow:Assets written to: C:/Users/keena/Desktop/AIproj/Models\\DenseNet201DiamondisUnbreakablee30\\assets\n",
      "Epoch 10/30\n",
      "842/842 [==============================] - 102s 121ms/step - loss: 0.2601 - accuracy: 0.9240 - val_loss: 0.2740 - val_accuracy: 0.9313\n",
      "Epoch 11/30\n",
      "842/842 [==============================] - 103s 123ms/step - loss: 0.2423 - accuracy: 0.9301 - val_loss: 0.2820 - val_accuracy: 0.9328\n",
      "Epoch 12/30\n",
      "842/842 [==============================] - 103s 122ms/step - loss: 0.2186 - accuracy: 0.9347 - val_loss: 0.2754 - val_accuracy: 0.9289\n",
      "Epoch 13/30\n",
      "842/842 [==============================] - 104s 123ms/step - loss: 0.2004 - accuracy: 0.9412 - val_loss: 0.2722 - val_accuracy: 0.9341\n",
      "Epoch 14/30\n",
      "842/842 [==============================] - 103s 122ms/step - loss: 0.1898 - accuracy: 0.9432 - val_loss: 0.2706 - val_accuracy: 0.9320\n",
      "INFO:tensorflow:Assets written to: C:/Users/keena/Desktop/AIproj/Models\\DenseNet201DiamondisUnbreakablee30\\assets\n",
      "Epoch 15/30\n",
      "842/842 [==============================] - 101s 120ms/step - loss: 0.1825 - accuracy: 0.9438 - val_loss: 0.2586 - val_accuracy: 0.9367\n",
      "INFO:tensorflow:Assets written to: C:/Users/keena/Desktop/AIproj/Models\\DenseNet201DiamondisUnbreakablee30\\assets\n",
      "Epoch 16/30\n",
      "842/842 [==============================] - 104s 124ms/step - loss: 0.1701 - accuracy: 0.9465 - val_loss: 0.2602 - val_accuracy: 0.9384\n",
      "Epoch 17/30\n",
      "842/842 [==============================] - 102s 121ms/step - loss: 0.1629 - accuracy: 0.9502 - val_loss: 0.2543 - val_accuracy: 0.9359\n",
      "INFO:tensorflow:Assets written to: C:/Users/keena/Desktop/AIproj/Models\\DenseNet201DiamondisUnbreakablee30\\assets\n",
      "Epoch 18/30\n",
      "842/842 [==============================] - 104s 123ms/step - loss: 0.1545 - accuracy: 0.9519 - val_loss: 0.2463 - val_accuracy: 0.9425\n",
      "INFO:tensorflow:Assets written to: C:/Users/keena/Desktop/AIproj/Models\\DenseNet201DiamondisUnbreakablee30\\assets\n",
      "Epoch 19/30\n",
      "842/842 [==============================] - 102s 121ms/step - loss: 0.1456 - accuracy: 0.9567 - val_loss: 0.2647 - val_accuracy: 0.9373\n",
      "Epoch 20/30\n",
      "842/842 [==============================] - 102s 121ms/step - loss: 0.1422 - accuracy: 0.9563 - val_loss: 0.2580 - val_accuracy: 0.9393\n",
      "Epoch 21/30\n",
      "842/842 [==============================] - 102s 121ms/step - loss: 0.1319 - accuracy: 0.9604 - val_loss: 0.2552 - val_accuracy: 0.9435\n",
      "Epoch 22/30\n",
      "842/842 [==============================] - 101s 120ms/step - loss: 0.1296 - accuracy: 0.9596 - val_loss: 0.2554 - val_accuracy: 0.9424\n",
      "Epoch 23/30\n",
      "842/842 [==============================] - 100s 119ms/step - loss: 0.1276 - accuracy: 0.9603 - val_loss: 0.2598 - val_accuracy: 0.9420\n",
      "Epoch 24/30\n",
      "842/842 [==============================] - 100s 119ms/step - loss: 0.1221 - accuracy: 0.9619 - val_loss: 0.2497 - val_accuracy: 0.9445\n",
      "Epoch 25/30\n",
      "842/842 [==============================] - 101s 120ms/step - loss: 0.1131 - accuracy: 0.9649 - val_loss: 0.2510 - val_accuracy: 0.9447\n",
      "Epoch 26/30\n",
      "842/842 [==============================] - 103s 122ms/step - loss: 0.1121 - accuracy: 0.9636 - val_loss: 0.2494 - val_accuracy: 0.9435\n",
      "Epoch 27/30\n",
      "842/842 [==============================] - 102s 121ms/step - loss: 0.1082 - accuracy: 0.9652 - val_loss: 0.2631 - val_accuracy: 0.9419\n",
      "Epoch 28/30\n",
      "842/842 [==============================] - 102s 122ms/step - loss: 0.1057 - accuracy: 0.9668 - val_loss: 0.2532 - val_accuracy: 0.9423\n",
      "Epoch 29/30\n",
      "842/842 [==============================] - 102s 122ms/step - loss: 0.1031 - accuracy: 0.9668 - val_loss: 0.2583 - val_accuracy: 0.9461\n",
      "Epoch 30/30\n",
      "842/842 [==============================] - 102s 121ms/step - loss: 0.1003 - accuracy: 0.9678 - val_loss: 0.2465 - val_accuracy: 0.9444\n"
     ]
    },
    {
     "data": {
      "text/plain": [
       "<tensorflow.python.keras.callbacks.History at 0x1aa6e882be0>"
      ]
     },
     "execution_count": 9,
     "metadata": {},
     "output_type": "execute_result"
    }
   ],
   "source": [
    "reduce_lr = ReduceLROnPlateau(monitor='loss', factor=0.5, patience=3, verbose = 1)\n",
    "\n",
    "model_checkpoint = tf.keras.callbacks.ModelCheckpoint(\n",
    "    filepath='C:/Users/keena/Desktop/AIproj/Models/DenseNet201DiamondisUnbreakablee30', # KEENAN PUT YOUR DIRECTORY with a /Model/<modelname> here\n",
    "    monitor='val_loss',\n",
    "    save_weights_only=False,\n",
    "    save_best_only=True)\n",
    "\n",
    "model.fit(x=train_generator, validation_data=validation_generator, epochs = 30, callbacks=[reduce_lr,model_checkpoint])"
   ]
  },
  {
   "cell_type": "code",
   "execution_count": null,
   "metadata": {},
   "outputs": [],
   "source": [
    "#Top 5"
   ]
  },
  {
   "cell_type": "code",
   "execution_count": 9,
   "metadata": {},
   "outputs": [],
   "source": [
    "model = tf.keras.models.load_model('C:/Users/keena/Desktop/AIproj/Models/DenseNet121Adadeltae30')"
   ]
  },
  {
   "cell_type": "code",
   "execution_count": 12,
   "metadata": {},
   "outputs": [
    {
     "name": "stdout",
     "output_type": "stream",
     "text": [
      "Found 5082 images belonging to 60 classes.\n"
     ]
    }
   ],
   "source": [
    "test_datagen = ImageDataGenerator(preprocessing_function=preprocess_input)\n",
    "test_generator = test_datagen.flow_from_directory(\n",
    "    'C:/Users/keena/Desktop/AIproj/test',\n",
    "    shuffle=False,\n",
    "    target_size=(45, 45),\n",
    "    class_mode='categorical')"
   ]
  },
  {
   "cell_type": "code",
   "execution_count": 13,
   "metadata": {},
   "outputs": [
    {
     "name": "stdout",
     "output_type": "stream",
     "text": [
      "0.25600157418339237 0.3370720188902007 0.39472648563557655 0.4313262495080677 0.47146792601338056\n"
     ]
    }
   ],
   "source": [
    "test_generator.classes\n",
    "test_generator.class_indices\n",
    "test_generator.filenames\n",
    "\n",
    "top1 = 0\n",
    "top2 = 0\n",
    "top3 = 0\n",
    "top4 = 0\n",
    "top5 = 0\n",
    "predict = model.predict(test_generator)\n",
    "\n",
    "for i in range(len(predict)):\n",
    "  result = np.argsort(-predict[i])\n",
    "  truth = test_generator.classes[i]\n",
    "  if truth in result[:5]: top5 += 1  \n",
    "  if truth in result[:4]: top4 += 1  \n",
    "  if truth in result[:3]: top3 += 1\n",
    "  if truth in result[:2]: top2 += 1\n",
    "  if truth in result[:1]: top1 += 1\n",
    "\n",
    "top1 = top1/len(predict)\n",
    "top2 = top2/len(predict)\n",
    "top3 = top3/len(predict)\n",
    "top4 = top4/len(predict)\n",
    "top5 = top5/len(predict)\n",
    "print(top1, top2, top3,top4,top5)"
   ]
  },
  {
   "cell_type": "code",
   "execution_count": null,
   "metadata": {},
   "outputs": [],
   "source": []
  },
  {
   "cell_type": "code",
   "execution_count": 14,
   "metadata": {},
   "outputs": [],
   "source": [
    "model = tf.keras.models.load_model('C:/Users/keena/Desktop/AIproj/Models/DenseNet121Adagrade30')"
   ]
  },
  {
   "cell_type": "code",
   "execution_count": 15,
   "metadata": {},
   "outputs": [
    {
     "name": "stdout",
     "output_type": "stream",
     "text": [
      "Found 5082 images belonging to 60 classes.\n"
     ]
    }
   ],
   "source": [
    "test_datagen = ImageDataGenerator(preprocessing_function=preprocess_input)\n",
    "test_generator = test_datagen.flow_from_directory(\n",
    "    'C:/Users/keena/Desktop/AIproj/test',\n",
    "    shuffle=False,\n",
    "    target_size=(45, 45),\n",
    "    class_mode='categorical')"
   ]
  },
  {
   "cell_type": "code",
   "execution_count": 16,
   "metadata": {},
   "outputs": [
    {
     "name": "stdout",
     "output_type": "stream",
     "text": [
      "0.8659976387249114 0.9332939787485242 0.9567099567099567 0.9677292404565132 0.9716646989374262\n"
     ]
    }
   ],
   "source": [
    "test_generator.classes\n",
    "test_generator.class_indices\n",
    "test_generator.filenames\n",
    "\n",
    "top1 = 0\n",
    "top2 = 0\n",
    "top3 = 0\n",
    "top4 = 0\n",
    "top5 = 0\n",
    "predict = model.predict(test_generator)\n",
    "\n",
    "for i in range(len(predict)):\n",
    "  result = np.argsort(-predict[i])\n",
    "  truth = test_generator.classes[i]\n",
    "  if truth in result[:5]: top5 += 1  \n",
    "  if truth in result[:4]: top4 += 1  \n",
    "  if truth in result[:3]: top3 += 1\n",
    "  if truth in result[:2]: top2 += 1\n",
    "  if truth in result[:1]: top1 += 1\n",
    "\n",
    "top1 = top1/len(predict)\n",
    "top2 = top2/len(predict)\n",
    "top3 = top3/len(predict)\n",
    "top4 = top4/len(predict)\n",
    "top5 = top5/len(predict)\n",
    "print(top1, top2, top3,top4,top5)"
   ]
  },
  {
   "cell_type": "code",
   "execution_count": null,
   "metadata": {},
   "outputs": [],
   "source": []
  },
  {
   "cell_type": "code",
   "execution_count": 17,
   "metadata": {},
   "outputs": [],
   "source": [
    "model = tf.keras.models.load_model('C:/Users/keena/Desktop/AIproj/Models/DenseNet121Adamaxe30')"
   ]
  },
  {
   "cell_type": "code",
   "execution_count": 18,
   "metadata": {},
   "outputs": [
    {
     "name": "stdout",
     "output_type": "stream",
     "text": [
      "Found 5082 images belonging to 60 classes.\n"
     ]
    }
   ],
   "source": [
    "test_datagen = ImageDataGenerator(preprocessing_function=preprocess_input)\n",
    "test_generator = test_datagen.flow_from_directory(\n",
    "    'C:/Users/keena/Desktop/AIproj/test',\n",
    "    shuffle=False,\n",
    "    target_size=(45, 45),\n",
    "    class_mode='categorical')"
   ]
  },
  {
   "cell_type": "code",
   "execution_count": 19,
   "metadata": {},
   "outputs": [
    {
     "name": "stdout",
     "output_type": "stream",
     "text": [
      "0.9281778827233372 0.9683195592286501 0.9797323888232979 0.9854388036206218 0.9887839433293979\n"
     ]
    }
   ],
   "source": [
    "test_generator.classes\n",
    "test_generator.class_indices\n",
    "test_generator.filenames\n",
    "\n",
    "top1 = 0\n",
    "top2 = 0\n",
    "top3 = 0\n",
    "top4 = 0\n",
    "top5 = 0\n",
    "predict = model.predict(test_generator)\n",
    "\n",
    "for i in range(len(predict)):\n",
    "  result = np.argsort(-predict[i])\n",
    "  truth = test_generator.classes[i]\n",
    "  if truth in result[:5]: top5 += 1  \n",
    "  if truth in result[:4]: top4 += 1  \n",
    "  if truth in result[:3]: top3 += 1\n",
    "  if truth in result[:2]: top2 += 1\n",
    "  if truth in result[:1]: top1 += 1\n",
    "\n",
    "top1 = top1/len(predict)\n",
    "top2 = top2/len(predict)\n",
    "top3 = top3/len(predict)\n",
    "top4 = top4/len(predict)\n",
    "top5 = top5/len(predict)\n",
    "print(top1, top2, top3,top4,top5)"
   ]
  },
  {
   "cell_type": "code",
   "execution_count": null,
   "metadata": {},
   "outputs": [],
   "source": []
  },
  {
   "cell_type": "code",
   "execution_count": 20,
   "metadata": {},
   "outputs": [],
   "source": [
    "model = tf.keras.models.load_model('C:/Users/keena/Desktop/AIproj/Models/DenseNet121Adame30')"
   ]
  },
  {
   "cell_type": "code",
   "execution_count": 21,
   "metadata": {},
   "outputs": [
    {
     "name": "stdout",
     "output_type": "stream",
     "text": [
      "Found 5082 images belonging to 60 classes.\n"
     ]
    }
   ],
   "source": [
    "test_datagen = ImageDataGenerator(preprocessing_function=preprocess_input)\n",
    "test_generator = test_datagen.flow_from_directory(\n",
    "    'C:/Users/keena/Desktop/AIproj/test',\n",
    "    shuffle=False,\n",
    "    target_size=(45, 45),\n",
    "    class_mode='categorical')"
   ]
  },
  {
   "cell_type": "code",
   "execution_count": 22,
   "metadata": {},
   "outputs": [
    {
     "name": "stdout",
     "output_type": "stream",
     "text": [
      "0.918732782369146 0.9620228256591893 0.9763872491145218 0.9813065722156631 0.983667847304211\n"
     ]
    }
   ],
   "source": [
    "test_generator.classes\n",
    "test_generator.class_indices\n",
    "test_generator.filenames\n",
    "\n",
    "top1 = 0\n",
    "top2 = 0\n",
    "top3 = 0\n",
    "top4 = 0\n",
    "top5 = 0\n",
    "predict = model.predict(test_generator)\n",
    "\n",
    "for i in range(len(predict)):\n",
    "  result = np.argsort(-predict[i])\n",
    "  truth = test_generator.classes[i]\n",
    "  if truth in result[:5]: top5 += 1  \n",
    "  if truth in result[:4]: top4 += 1  \n",
    "  if truth in result[:3]: top3 += 1\n",
    "  if truth in result[:2]: top2 += 1\n",
    "  if truth in result[:1]: top1 += 1\n",
    "\n",
    "top1 = top1/len(predict)\n",
    "top2 = top2/len(predict)\n",
    "top3 = top3/len(predict)\n",
    "top4 = top4/len(predict)\n",
    "top5 = top5/len(predict)\n",
    "print(top1, top2, top3,top4,top5)"
   ]
  },
  {
   "cell_type": "code",
   "execution_count": null,
   "metadata": {},
   "outputs": [],
   "source": []
  },
  {
   "cell_type": "code",
   "execution_count": 23,
   "metadata": {},
   "outputs": [],
   "source": [
    "model = tf.keras.models.load_model('C:/Users/keena/Desktop/AIproj/Models/DenseNet121SGDe30')"
   ]
  },
  {
   "cell_type": "code",
   "execution_count": 24,
   "metadata": {},
   "outputs": [
    {
     "name": "stdout",
     "output_type": "stream",
     "text": [
      "Found 5082 images belonging to 60 classes.\n"
     ]
    }
   ],
   "source": [
    "test_datagen = ImageDataGenerator(preprocessing_function=preprocess_input)\n",
    "test_generator = test_datagen.flow_from_directory(\n",
    "    'C:/Users/keena/Desktop/AIproj/test',\n",
    "    shuffle=False,\n",
    "    target_size=(45, 45),\n",
    "    class_mode='categorical')"
   ]
  },
  {
   "cell_type": "code",
   "execution_count": 25,
   "metadata": {},
   "outputs": [
    {
     "name": "stdout",
     "output_type": "stream",
     "text": [
      "0.9025974025974026 0.9551357733175915 0.9702872884691066 0.9757969303423849 0.9801259346713892\n"
     ]
    }
   ],
   "source": [
    "test_generator.classes\n",
    "test_generator.class_indices\n",
    "test_generator.filenames\n",
    "\n",
    "top1 = 0\n",
    "top2 = 0\n",
    "top3 = 0\n",
    "top4 = 0\n",
    "top5 = 0\n",
    "predict = model.predict(test_generator)\n",
    "\n",
    "for i in range(len(predict)):\n",
    "  result = np.argsort(-predict[i])\n",
    "  truth = test_generator.classes[i]\n",
    "  if truth in result[:5]: top5 += 1  \n",
    "  if truth in result[:4]: top4 += 1  \n",
    "  if truth in result[:3]: top3 += 1\n",
    "  if truth in result[:2]: top2 += 1\n",
    "  if truth in result[:1]: top1 += 1\n",
    "\n",
    "top1 = top1/len(predict)\n",
    "top2 = top2/len(predict)\n",
    "top3 = top3/len(predict)\n",
    "top4 = top4/len(predict)\n",
    "top5 = top5/len(predict)\n",
    "print(top1, top2, top3,top4,top5)"
   ]
  },
  {
   "cell_type": "code",
   "execution_count": null,
   "metadata": {},
   "outputs": [],
   "source": []
  },
  {
   "cell_type": "code",
   "execution_count": 26,
   "metadata": {},
   "outputs": [],
   "source": [
    "model = tf.keras.models.load_model('C:/Users/keena/Desktop/AIproj/Models/DenseNet201Adambepsilon0.1e30')"
   ]
  },
  {
   "cell_type": "code",
   "execution_count": 27,
   "metadata": {},
   "outputs": [
    {
     "name": "stdout",
     "output_type": "stream",
     "text": [
      "Found 5082 images belonging to 60 classes.\n"
     ]
    }
   ],
   "source": [
    "test_datagen = ImageDataGenerator(preprocessing_function=preprocess_input)\n",
    "test_generator = test_datagen.flow_from_directory(\n",
    "    'C:/Users/keena/Desktop/AIproj/test',\n",
    "    shuffle=False,\n",
    "    target_size=(45, 45),\n",
    "    class_mode='categorical')"
   ]
  },
  {
   "cell_type": "code",
   "execution_count": 28,
   "metadata": {},
   "outputs": [
    {
     "name": "stdout",
     "output_type": "stream",
     "text": [
      "0.9307359307359307 0.974616292798111 0.9844549390003935 0.9895710350255805 0.9919323101141283\n"
     ]
    }
   ],
   "source": [
    "test_generator.classes\n",
    "test_generator.class_indices\n",
    "test_generator.filenames\n",
    "\n",
    "top1 = 0\n",
    "top2 = 0\n",
    "top3 = 0\n",
    "top4 = 0\n",
    "top5 = 0\n",
    "predict = model.predict(test_generator)\n",
    "\n",
    "for i in range(len(predict)):\n",
    "  result = np.argsort(-predict[i])\n",
    "  truth = test_generator.classes[i]\n",
    "  if truth in result[:5]: top5 += 1  \n",
    "  if truth in result[:4]: top4 += 1  \n",
    "  if truth in result[:3]: top3 += 1\n",
    "  if truth in result[:2]: top2 += 1\n",
    "  if truth in result[:1]: top1 += 1\n",
    "\n",
    "top1 = top1/len(predict)\n",
    "top2 = top2/len(predict)\n",
    "top3 = top3/len(predict)\n",
    "top4 = top4/len(predict)\n",
    "top5 = top5/len(predict)\n",
    "print(top1, top2, top3,top4,top5)"
   ]
  },
  {
   "cell_type": "code",
   "execution_count": null,
   "metadata": {},
   "outputs": [],
   "source": []
  },
  {
   "cell_type": "code",
   "execution_count": 29,
   "metadata": {},
   "outputs": [],
   "source": [
    "model = tf.keras.models.load_model('C:/Users/keena/Desktop/AIproj/Models/DenseNet201Adambepsilon1e30')"
   ]
  },
  {
   "cell_type": "code",
   "execution_count": 30,
   "metadata": {},
   "outputs": [
    {
     "name": "stdout",
     "output_type": "stream",
     "text": [
      "Found 5082 images belonging to 60 classes.\n"
     ]
    }
   ],
   "source": [
    "test_datagen = ImageDataGenerator(preprocessing_function=preprocess_input)\n",
    "test_generator = test_datagen.flow_from_directory(\n",
    "    'C:/Users/keena/Desktop/AIproj/test',\n",
    "    shuffle=False,\n",
    "    target_size=(45, 45),\n",
    "    class_mode='categorical')"
   ]
  },
  {
   "cell_type": "code",
   "execution_count": 31,
   "metadata": {},
   "outputs": [
    {
     "name": "stdout",
     "output_type": "stream",
     "text": [
      "0.9348681621408894 0.9775678866587958 0.9872097599370326 0.9899645808736718 0.9917355371900827\n"
     ]
    }
   ],
   "source": [
    "test_generator.classes\n",
    "test_generator.class_indices\n",
    "test_generator.filenames\n",
    "\n",
    "top1 = 0\n",
    "top2 = 0\n",
    "top3 = 0\n",
    "top4 = 0\n",
    "top5 = 0\n",
    "predict = model.predict(test_generator)\n",
    "\n",
    "for i in range(len(predict)):\n",
    "  result = np.argsort(-predict[i])\n",
    "  truth = test_generator.classes[i]\n",
    "  if truth in result[:5]: top5 += 1  \n",
    "  if truth in result[:4]: top4 += 1  \n",
    "  if truth in result[:3]: top3 += 1\n",
    "  if truth in result[:2]: top2 += 1\n",
    "  if truth in result[:1]: top1 += 1\n",
    "\n",
    "top1 = top1/len(predict)\n",
    "top2 = top2/len(predict)\n",
    "top3 = top3/len(predict)\n",
    "top4 = top4/len(predict)\n",
    "top5 = top5/len(predict)\n",
    "print(top1, top2, top3,top4,top5)"
   ]
  },
  {
   "cell_type": "code",
   "execution_count": null,
   "metadata": {},
   "outputs": [],
   "source": []
  },
  {
   "cell_type": "code",
   "execution_count": 35,
   "metadata": {},
   "outputs": [],
   "source": [
    "model = tf.keras.models.load_model('C:/Users/keena/Desktop/AIproj/Models/DenseNet201Adambeta1_0.95e30')"
   ]
  },
  {
   "cell_type": "code",
   "execution_count": 36,
   "metadata": {},
   "outputs": [
    {
     "name": "stdout",
     "output_type": "stream",
     "text": [
      "Found 5082 images belonging to 60 classes.\n"
     ]
    }
   ],
   "source": [
    "test_datagen = ImageDataGenerator(preprocessing_function=preprocess_input)\n",
    "test_generator = test_datagen.flow_from_directory(\n",
    "    'C:/Users/keena/Desktop/AIproj/test',\n",
    "    shuffle=False,\n",
    "    target_size=(45, 45),\n",
    "    class_mode='categorical')"
   ]
  },
  {
   "cell_type": "code",
   "execution_count": 37,
   "metadata": {},
   "outputs": [
    {
     "name": "stdout",
     "output_type": "stream",
     "text": [
      "0.9403778040141676 0.97737111373475 0.98642266824085 0.9907516725698544 0.9921290830381739\n"
     ]
    }
   ],
   "source": [
    "test_generator.classes\n",
    "test_generator.class_indices\n",
    "test_generator.filenames\n",
    "\n",
    "top1 = 0\n",
    "top2 = 0\n",
    "top3 = 0\n",
    "top4 = 0\n",
    "top5 = 0\n",
    "predict = model.predict(test_generator)\n",
    "\n",
    "for i in range(len(predict)):\n",
    "  result = np.argsort(-predict[i])\n",
    "  truth = test_generator.classes[i]\n",
    "  if truth in result[:5]: top5 += 1  \n",
    "  if truth in result[:4]: top4 += 1  \n",
    "  if truth in result[:3]: top3 += 1\n",
    "  if truth in result[:2]: top2 += 1\n",
    "  if truth in result[:1]: top1 += 1\n",
    "\n",
    "top1 = top1/len(predict)\n",
    "top2 = top2/len(predict)\n",
    "top3 = top3/len(predict)\n",
    "top4 = top4/len(predict)\n",
    "top5 = top5/len(predict)\n",
    "print(top1, top2, top3,top4,top5)"
   ]
  },
  {
   "cell_type": "code",
   "execution_count": null,
   "metadata": {},
   "outputs": [],
   "source": []
  },
  {
   "cell_type": "code",
   "execution_count": 40,
   "metadata": {},
   "outputs": [],
   "source": [
    "model = tf.keras.models.load_model('C:/Users/keena/Desktop/AIproj/Models/DenseNet201Adambepsilon1beta1_0.95e30')"
   ]
  },
  {
   "cell_type": "code",
   "execution_count": 41,
   "metadata": {},
   "outputs": [
    {
     "name": "stdout",
     "output_type": "stream",
     "text": [
      "Found 5082 images belonging to 60 classes.\n"
     ]
    }
   ],
   "source": [
    "test_datagen = ImageDataGenerator(preprocessing_function=preprocess_input)\n",
    "test_generator = test_datagen.flow_from_directory(\n",
    "    'C:/Users/keena/Desktop/AIproj/test',\n",
    "    shuffle=False,\n",
    "    target_size=(45, 45),\n",
    "    class_mode='categorical')"
   ]
  },
  {
   "cell_type": "code",
   "execution_count": 42,
   "metadata": {},
   "outputs": [
    {
     "name": "stdout",
     "output_type": "stream",
     "text": [
      "0.935064935064935 0.9777646595828414 0.9852420306965761 0.9885871704053523 0.9917355371900827\n"
     ]
    }
   ],
   "source": [
    "test_generator.classes\n",
    "test_generator.class_indices\n",
    "test_generator.filenames\n",
    "\n",
    "top1 = 0\n",
    "top2 = 0\n",
    "top3 = 0\n",
    "top4 = 0\n",
    "top5 = 0\n",
    "predict = model.predict(test_generator)\n",
    "\n",
    "for i in range(len(predict)):\n",
    "  result = np.argsort(-predict[i])\n",
    "  truth = test_generator.classes[i]\n",
    "  if truth in result[:5]: top5 += 1  \n",
    "  if truth in result[:4]: top4 += 1  \n",
    "  if truth in result[:3]: top3 += 1\n",
    "  if truth in result[:2]: top2 += 1\n",
    "  if truth in result[:1]: top1 += 1\n",
    "\n",
    "top1 = top1/len(predict)\n",
    "top2 = top2/len(predict)\n",
    "top3 = top3/len(predict)\n",
    "top4 = top4/len(predict)\n",
    "top5 = top5/len(predict)\n",
    "print(top1, top2, top3,top4,top5)"
   ]
  },
  {
   "cell_type": "code",
   "execution_count": null,
   "metadata": {},
   "outputs": [],
   "source": []
  },
  {
   "cell_type": "code",
   "execution_count": 43,
   "metadata": {},
   "outputs": [],
   "source": [
    "model = tf.keras.models.load_model('C:/Users/keena/Desktop/AIproj/Models/DenseNet201Adamlr0.005e30')"
   ]
  },
  {
   "cell_type": "code",
   "execution_count": 44,
   "metadata": {},
   "outputs": [
    {
     "name": "stdout",
     "output_type": "stream",
     "text": [
      "Found 5082 images belonging to 60 classes.\n"
     ]
    }
   ],
   "source": [
    "test_datagen = ImageDataGenerator(preprocessing_function=preprocess_input)\n",
    "test_generator = test_datagen.flow_from_directory(\n",
    "    'C:/Users/keena/Desktop/AIproj/test',\n",
    "    shuffle=False,\n",
    "    target_size=(45, 45),\n",
    "    class_mode='categorical')"
   ]
  },
  {
   "cell_type": "code",
   "execution_count": 45,
   "metadata": {},
   "outputs": [
    {
     "name": "stdout",
     "output_type": "stream",
     "text": [
      "0.9319165682802046 0.9754033844942935 0.9824872097599371 0.9866194411648957 0.9895710350255805\n"
     ]
    }
   ],
   "source": [
    "test_generator.classes\n",
    "test_generator.class_indices\n",
    "test_generator.filenames\n",
    "\n",
    "top1 = 0\n",
    "top2 = 0\n",
    "top3 = 0\n",
    "top4 = 0\n",
    "top5 = 0\n",
    "predict = model.predict(test_generator)\n",
    "\n",
    "for i in range(len(predict)):\n",
    "  result = np.argsort(-predict[i])\n",
    "  truth = test_generator.classes[i]\n",
    "  if truth in result[:5]: top5 += 1  \n",
    "  if truth in result[:4]: top4 += 1  \n",
    "  if truth in result[:3]: top3 += 1\n",
    "  if truth in result[:2]: top2 += 1\n",
    "  if truth in result[:1]: top1 += 1\n",
    "\n",
    "top1 = top1/len(predict)\n",
    "top2 = top2/len(predict)\n",
    "top3 = top3/len(predict)\n",
    "top4 = top4/len(predict)\n",
    "top5 = top5/len(predict)\n",
    "print(top1, top2, top3,top4,top5)"
   ]
  },
  {
   "cell_type": "code",
   "execution_count": null,
   "metadata": {},
   "outputs": [],
   "source": []
  },
  {
   "cell_type": "code",
   "execution_count": 46,
   "metadata": {},
   "outputs": [],
   "source": [
    "model = tf.keras.models.load_model('C:/Users/keena/Desktop/AIproj/Models/DenseNet201DiamondisUnbreakablee30')"
   ]
  },
  {
   "cell_type": "code",
   "execution_count": 47,
   "metadata": {},
   "outputs": [
    {
     "name": "stdout",
     "output_type": "stream",
     "text": [
      "Found 5082 images belonging to 60 classes.\n"
     ]
    }
   ],
   "source": [
    "test_datagen = ImageDataGenerator(preprocessing_function=preprocess_input)\n",
    "test_generator = test_datagen.flow_from_directory(\n",
    "    'C:/Users/keena/Desktop/AIproj/test',\n",
    "    shuffle=False,\n",
    "    target_size=(45, 45),\n",
    "    class_mode='categorical')"
   ]
  },
  {
   "cell_type": "code",
   "execution_count": 48,
   "metadata": {},
   "outputs": [
    {
     "name": "stdout",
     "output_type": "stream",
     "text": [
      "0.9393939393939394 0.9765840220385675 0.9866194411648957 0.9895710350255805 0.9905548996458088\n"
     ]
    }
   ],
   "source": [
    "test_generator.classes\n",
    "test_generator.class_indices\n",
    "test_generator.filenames\n",
    "\n",
    "top1 = 0\n",
    "top2 = 0\n",
    "top3 = 0\n",
    "top4 = 0\n",
    "top5 = 0\n",
    "predict = model.predict(test_generator)\n",
    "\n",
    "for i in range(len(predict)):\n",
    "  result = np.argsort(-predict[i])\n",
    "  truth = test_generator.classes[i]\n",
    "  if truth in result[:5]: top5 += 1  \n",
    "  if truth in result[:4]: top4 += 1  \n",
    "  if truth in result[:3]: top3 += 1\n",
    "  if truth in result[:2]: top2 += 1\n",
    "  if truth in result[:1]: top1 += 1\n",
    "\n",
    "top1 = top1/len(predict)\n",
    "top2 = top2/len(predict)\n",
    "top3 = top3/len(predict)\n",
    "top4 = top4/len(predict)\n",
    "top5 = top5/len(predict)\n",
    "print(top1, top2, top3,top4,top5)"
   ]
  },
  {
   "cell_type": "code",
   "execution_count": 50,
   "metadata": {},
   "outputs": [],
   "source": [
    "from matplotlib import pyplot as plt"
   ]
  },
  {
   "cell_type": "code",
   "execution_count": 54,
   "metadata": {},
   "outputs": [
    {
     "name": "stdout",
     "output_type": "stream",
     "text": [
      "30\n",
      "30\n"
     ]
    },
    {
     "data": {
      "image/png": "[encoded data removed]",
      "text/plain": [
       "<Figure size 1440x720 with 1 Axes>"
      ]
     },
     "metadata": {
      "needs_background": "light"
     },
     "output_type": "display_data"
    }
   ],
   "source": [
    "# Round 2 Training Loss VS Validation Loss Densenet201 \n",
    " \n",
    "train_loss = np.array([3.2124,1.2509, 0.6036,0.3859,0.2756,0.2174, 0.1766, 0.1496, 0.1306, 0.1083, 0.0958,0.0837,0.0717,0.0676,0.0604,0.0536, 0.0489,0.0442,0.0422,0.0401,0.0383,0.0333,0.0308,0.0285,0.0272,0.0252,0.0222,0.0219,0.0203,0.0178]).astype(np.double)  \n",
    "val_loss = np.array([1.8125,0.6981,0.4361,0.3462,0.3005,0.2753,0.2594,0.2595,0.2582,0.2711,0.2661,0.2609,0.2568,0.2690,0.2713,0.2701,0.2753,0.2583,0.2655,0.2651,0.2691,0.2791,0.2780,0.2880,0.2904,0.297,0.2887,0.3038,0.2931,0.3106 ]).astype(np.double) \n",
    "\n",
    "print(len(train_loss))\n",
    "print(len(val_loss))\n",
    "      \n",
    "xlabel = [] \n",
    "for i in range(30): \n",
    "    xlabel.append(str(i+1)) \n",
    " \n",
    " \n",
    "plt.figure(figsize = (20, 10))  \n",
    "plt.plot(xlabel, train_loss , \"o-\", label = 'Training Loss')  \n",
    "plt.plot(xlabel, val_loss , \"o-\", label = 'Validation Loss')  \n",
    "plt.xlabel(\"Epochs\")  \n",
    "plt.ylabel(\"Loss\")  \n",
    "plt.legend(loc=\"upper left\")  \n",
    "plt.rc('font', size=15)  \n",
    "plt.title('Round 3 Best Model (Densenet201 Adam Epsilon 1) Training and Validation Loss') \n",
    "plt.show()"
   ]
  },
  {
   "cell_type": "code",
   "execution_count": null,
   "metadata": {},
   "outputs": [],
   "source": []
  },
  {
   "cell_type": "code",
   "execution_count": 55,
   "metadata": {},
   "outputs": [
    {
     "name": "stdout",
     "output_type": "stream",
     "text": [
      "30\n",
      "30\n"
     ]
    },
    {
     "data": {
      "image/png": "[encoded data removed]",
      "text/plain": [
       "<Figure size 1440x720 with 1 Axes>"
      ]
     },
     "metadata": {
      "needs_background": "light"
     },
     "output_type": "display_data"
    }
   ],
   "source": [
    "# Round 2 Training Loss VS Validation Loss Densenet201 \n",
    " \n",
    "train_loss = np.array([3.6695,1.9717,1.0337,0.6827,0.5127,0.4231,0.3609,0.3162,0.2874,0.2601,0.2423,0.2186,0.2004,0.1898,0.1825,0.1701,0.1629,0.1545,0.1456,0.142,0.1319,0.1296,0.1276,0.1221,0.1131,0.1121,0.1082,0.1057,0.1031,0.1003]).astype(np.double)  \n",
    "val_loss = np.array([2.6044,1.1701,0.6483,0.4695,0.3995,0.3353,0.2983,0.2913,0.2707,0.2740,0.2820,0.2754,0.2722,0.2706,0.2586,0.2602,0.2543,0.2463,0.2647,0.2580,0.2552,0.2554,0.2598,0.2497,0.2510,0.2494,0.2631,0.2532,0.2583, 0.2465 ]).astype(np.double) \n",
    " \n",
    "print(len(train_loss))\n",
    "print(len(val_loss))\n",
    "xlabel = [] \n",
    "for i in range(30): \n",
    "    xlabel.append(str(i+1)) \n",
    " \n",
    " \n",
    "plt.figure(figsize = (20, 10))  \n",
    "plt.plot(xlabel, train_loss , \"o-\", label = 'Training Loss')  \n",
    "plt.plot(xlabel, val_loss , \"o-\", label = 'Validation Loss')  \n",
    "plt.xlabel(\"Epochs\")  \n",
    "plt.ylabel(\"Loss\")  \n",
    "plt.legend(loc=\"upper left\")  \n",
    "plt.rc('font', size=15)  \n",
    "plt.title('Round 4 Best Model (Densenet201 Adam Epsilon 1 with Rotation) Training and Validation Loss') \n",
    "plt.show()"
   ]
  },
  {
   "cell_type": "code",
   "execution_count": null,
   "metadata": {},
   "outputs": [],
   "source": []
  },
  {
   "cell_type": "code",
   "execution_count": 56,
   "metadata": {},
   "outputs": [
    {
     "name": "stdout",
     "output_type": "stream",
     "text": [
      "30\n",
      "30\n"
     ]
    },
    {
     "data": {
      "text/plain": [
       "Text(0.5, 1.0, 'Round 2 Best Model (Densenet121 Adamax) Training and Validation Loss')"
      ]
     },
     "execution_count": 56,
     "metadata": {},
     "output_type": "execute_result"
    },
    {
     "data": {
      "image/png": "[encoded data removed]",
      "text/plain": [
       "<Figure size 1440x720 with 1 Axes>"
      ]
     },
     "metadata": {
      "needs_background": "light"
     },
     "output_type": "display_data"
    }
   ],
   "source": [
    "# Round 2 Training Loss VS Validation Loss Densenet201 \n",
    " \n",
    "train_loss = np.array([1.5485,0.4006,0.2288,0.1545,0.1137,0.0908,0.0702,0.0583,0.0476,0.0398,0.0352,0.0304,0.0252,0.0246,0.0212,0.0178,0.0167,0.0154,0.0143,0.0124,0.0138,0.0121,0.0103,0.0075,0.0098,0.0093,0.0078,0.006,0.0039,0.0042]).astype(np.double)  \n",
    "val_loss = np.array([0.5645,0.3517,0.3147,0.2775,0.2893,0.2820,0.2828,0.3073,0.2889,0.2947,0.2851,0.3212,0.3359,0.3131,0.3250,0.3595,0.3308,0.3446,0.3435,0.3588,0.3614,0.3617,0.3795,0.3884,0.3706,0.3667,0.3903,0.4008,0.4091,0.4104]).astype(np.double) \n",
    " \n",
    "print(len(train_loss))\n",
    "print(len(val_loss))\n",
    "xlabel = [] \n",
    "for i in range(30): \n",
    "    xlabel.append(str(i+1)) \n",
    " \n",
    " \n",
    "plt.figure(figsize = (20, 10))  \n",
    "plt.plot(xlabel, train_loss , \"o-\", label = 'Training Loss')  \n",
    "plt.plot(xlabel, val_loss , \"o-\", label = 'Validation Loss')  \n",
    "plt.xlabel(\"Epochs\")  \n",
    "plt.ylabel(\"Loss\")  \n",
    "plt.legend(loc=\"upper left\")  \n",
    "plt.rc('font', size=15)  \n",
    "plt.title('Round 2 Best Model (Densenet121 Adamax) Training and Validation Loss') "
   ]
  },
  {
   "cell_type": "code",
   "execution_count": null,
   "metadata": {},
   "outputs": [],
   "source": []
  },
  {
   "cell_type": "code",
   "execution_count": null,
   "metadata": {},
   "outputs": [],
   "source": []
  }
 ],
 "metadata": {
  "colab": {
   "collapsed_sections": [],
   "name": "Classification.ipynb",
   "provenance": []
  },
  "kernelspec": {
   "display_name": "Python 3",
   "language": "python",
   "name": "python3"
  },
  "language_info": {
   "codemirror_mode": {
    "name": "ipython",
    "version": 3
   },
   "file_extension": ".py",
   "mimetype": "text/x-python",
   "name": "python",
   "nbconvert_exporter": "python",
   "pygments_lexer": "ipython3",
   "version": "3.8.8"
  }
 },
 "nbformat": 4,
 "nbformat_minor": 4
}
