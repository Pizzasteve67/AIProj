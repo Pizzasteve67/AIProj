{
 "cells": [
  {
   "cell_type": "markdown",
   "metadata": {
    "id": "0zk2IXCXojzO"
   },
   "source": [
    "# KNN\n",
    "Adapted from https://www.pyimagesearch.com/2016/08/08/k-nn-classifier-for-image-classification/"
   ]
  },
  {
   "cell_type": "code",
   "execution_count": 1,
   "metadata": {
    "id": "tw27MvcYok0n"
   },
   "outputs": [],
   "source": [
    "from sklearn.neighbors import KNeighborsClassifier\n",
    "from imutils import paths\n",
    "import numpy as np\n",
    "import imutils\n",
    "import cv2\n",
    "import os\n",
    "from sklearn.metrics import classification_report, confusion_matrix "
   ]
  },
  {
   "cell_type": "markdown",
   "metadata": {
    "id": "7zF7uin-LKmo"
   },
   "source": [
    "## Preparing the data"
   ]
  },
  {
   "cell_type": "code",
   "execution_count": 2,
   "metadata": {
    "id": "jKnMpThapah-"
   },
   "outputs": [],
   "source": [
    "# flatten the image into a list of raw pixel intensities\n",
    "def image_to_feature_vector(image):\n",
    "\treturn image.flatten()\n",
    " \n",
    "# extract a 3D color histogram from the HSV color space using the supplied number of `bins` per channel \n",
    "def extract_color_histogram(image, bins=(8, 8, 8)):\n",
    "\thsv = cv2.cvtColor(image, cv2.COLOR_BGR2HSV)\n",
    "\thist = cv2.calcHist([hsv], [0, 1, 2], None, bins, [0, 180, 0, 256, 0, 256])\n",
    "\tcv2.normalize(hist, hist) # normalizing the histogram \n",
    "\treturn hist.flatten() # return the flattened histogram as the feature vector"
   ]
  },
  {
   "cell_type": "code",
   "execution_count": 3,
   "metadata": {
    "colab": {
     "base_uri": "https://localhost:8080/"
    },
    "id": "fD3CWpfeon92",
    "outputId": "160f5732-d127-44b8-f555-37427cb96912"
   },
   "outputs": [
    {
     "name": "stdout",
     "output_type": "stream",
     "text": [
      "[INFO] describing images...\n",
      "[INFO] describing images...\n",
      "[INFO] describing images...\n"
     ]
    }
   ],
   "source": [
    "# grab the list of images that we'll be describing (Add your directory here)\n",
    "print(\"[INFO] describing images...\")\n",
    "trainimagePaths = list(paths.list_images('C:/Users/seeyo/Downloads/Symbols/train'))\n",
    "# initialize the raw pixel intensities matrix, the features matrix, and labels list\n",
    "train=[]\n",
    "trainrawImages = []\n",
    "trainfeatures = []\n",
    "trainlabels = []\n",
    "\n",
    "# grab the list of images that we'll be describing (Add your directory here)\n",
    "print(\"[INFO] describing images...\")\n",
    "validimagePaths = list(paths.list_images('C:/Users/seeyo/Downloads/Symbols/valid'))\n",
    "# initialize the raw pixel intensities matrix, the features matrix, and labels list\n",
    "valid = []\n",
    "validrawImages = []\n",
    "validfeatures = []\n",
    "validlabels = []\n",
    "\n",
    "# grab the list of images that we'll be describing (Add your directory here)\n",
    "print(\"[INFO] describing images...\")\n",
    "testimagePaths = list(paths.list_images('C:/Users/seeyo/Downloads/Symbols/test'))\n",
    "# initialize the raw pixel intensities matrix, the features matrix, and labels list\n",
    "test = []\n",
    "testrawImages = []\n",
    "testfeatures = []\n",
    "testlabels = []"
   ]
  },
  {
   "cell_type": "markdown",
   "metadata": {
    "id": "ni5DQh0DLQvS"
   },
   "source": [
    "### Train"
   ]
  },
  {
   "cell_type": "code",
   "execution_count": 4,
   "metadata": {
    "colab": {
     "base_uri": "https://localhost:8080/"
    },
    "id": "J61awSX9oqP-",
    "outputId": "86a4b8f0-0da6-44f9-d5c1-542d93872c78"
   },
   "outputs": [
    {
     "name": "stdout",
     "output_type": "stream",
     "text": [
      "[INFO] processed 1000/26925\n",
      "[INFO] processed 2000/26925\n",
      "[INFO] processed 3000/26925\n",
      "[INFO] processed 4000/26925\n",
      "[INFO] processed 5000/26925\n",
      "[INFO] processed 6000/26925\n",
      "[INFO] processed 7000/26925\n",
      "[INFO] processed 8000/26925\n",
      "[INFO] processed 9000/26925\n",
      "[INFO] processed 10000/26925\n",
      "[INFO] processed 11000/26925\n",
      "[INFO] processed 12000/26925\n",
      "[INFO] processed 13000/26925\n",
      "[INFO] processed 14000/26925\n",
      "[INFO] processed 15000/26925\n",
      "[INFO] processed 16000/26925\n",
      "[INFO] processed 17000/26925\n",
      "[INFO] processed 18000/26925\n",
      "[INFO] processed 19000/26925\n",
      "[INFO] processed 20000/26925\n",
      "[INFO] processed 21000/26925\n",
      "[INFO] processed 22000/26925\n",
      "[INFO] processed 23000/26925\n",
      "[INFO] processed 24000/26925\n",
      "[INFO] processed 25000/26925\n",
      "[INFO] processed 26000/26925\n"
     ]
    }
   ],
   "source": [
    "for (i, imagePath) in enumerate(trainimagePaths):\n",
    "\t# load the image and extract the class label (assuming that our path as the format: /path/to/dataset/{class}.{image_num}.jpg\n",
    "\timage = cv2.imread(imagePath)\n",
    "\tlabel = imagePath.split(os.path.sep)[-2].split(\".\")[0]\n",
    "\n",
    "    # extract raw pixel intensity \"features\", followed by a color histogram to characterize the color distribution of the pixels in the image\n",
    "\tpixels = image_to_feature_vector(image)\n",
    "\thist = extract_color_histogram(image)\n",
    " \n",
    "\t# update the raw images, features, and labels matricies, respectively\n",
    "\ttrainrawImages.append(pixels)\n",
    "\ttrainfeatures.append(hist)\n",
    "\ttrainlabels.append(label)\n",
    "\ttrain.append(image)\n",
    "\t# show an update every 1,000 images\n",
    "\tif i > 0 and i % 1000 == 0:\n",
    "\t\tprint(\"[INFO] processed {}/{}\".format(i, len(trainimagePaths)))"
   ]
  },
  {
   "cell_type": "markdown",
   "metadata": {
    "id": "EKnqll4pLSs-"
   },
   "source": [
    "### Valid"
   ]
  },
  {
   "cell_type": "code",
   "execution_count": 5,
   "metadata": {
    "colab": {
     "base_uri": "https://localhost:8080/"
    },
    "id": "j7xC1oWywDb_",
    "outputId": "8974df28-3bd3-4f5e-e68a-792727af5e98"
   },
   "outputs": [
    {
     "name": "stdout",
     "output_type": "stream",
     "text": [
      "[INFO] processed 1000/11540\n",
      "[INFO] processed 2000/11540\n",
      "[INFO] processed 3000/11540\n",
      "[INFO] processed 4000/11540\n",
      "[INFO] processed 5000/11540\n",
      "[INFO] processed 6000/11540\n",
      "[INFO] processed 7000/11540\n",
      "[INFO] processed 8000/11540\n",
      "[INFO] processed 9000/11540\n",
      "[INFO] processed 10000/11540\n",
      "[INFO] processed 11000/11540\n"
     ]
    }
   ],
   "source": [
    "for (i, imagePath) in enumerate(validimagePaths):\n",
    "\t# load the image and extract the class label (assuming that our path as the format: /path/to/dataset/{class}.{image_num}.jpg\n",
    "\timage = cv2.imread(imagePath)\n",
    "\tlabel = imagePath.split(os.path.sep)[-2].split(\".\")[0]\n",
    "\n",
    "\t# extract raw pixel intensity \"features\", followed by a color histogram to characterize the color distribution of the pixels in the image\n",
    "\tpixels = image_to_feature_vector(image)\n",
    "\thist = extract_color_histogram(image)\n",
    " \n",
    "\t# update the raw images, features, and labels matricies, respectively\n",
    "\tvalidrawImages.append(pixels)\n",
    "\tvalidfeatures.append(hist)\n",
    "\tvalidlabels.append(label)\n",
    "\tvalid.append(image)\n",
    "\t# show an update every 1,000 images\n",
    "\tif i > 0 and i % 1000 == 0:\n",
    "\t\tprint(\"[INFO] processed {}/{}\".format(i, len(validimagePaths)))"
   ]
  },
  {
   "cell_type": "markdown",
   "metadata": {
    "id": "HZmhBLTTLVeA"
   },
   "source": [
    "### Test"
   ]
  },
  {
   "cell_type": "code",
   "execution_count": 6,
   "metadata": {
    "id": "OfI9nG0E0dIz"
   },
   "outputs": [
    {
     "name": "stdout",
     "output_type": "stream",
     "text": [
      "[INFO] processed 1000/5082\n",
      "[INFO] processed 2000/5082\n",
      "[INFO] processed 3000/5082\n",
      "[INFO] processed 4000/5082\n",
      "[INFO] processed 5000/5082\n"
     ]
    }
   ],
   "source": [
    "for (i, imagePath) in enumerate(testimagePaths):\n",
    "\t# load the image and extract the class label (assuming that our path as the format: /path/to/dataset/{class}.{image_num}.jpg\n",
    "\timage = cv2.imread(imagePath)\n",
    "\tlabel = imagePath.split(os.path.sep)[-2].split(\".\")[0]\n",
    "\n",
    "\t# extract raw pixel intensity \"features\", followed by a color histogram to characterize the color distribution of the pixels in the image\n",
    "\tpixels = image_to_feature_vector(image)\n",
    "\thist = extract_color_histogram(image)\n",
    " \n",
    "\t# update the raw images, features, and labels matricies, respectively\n",
    "\ttestrawImages.append(pixels)\n",
    "\ttestfeatures.append(hist)\n",
    "\ttestlabels.append(label)\n",
    "\ttest.append(image)\n",
    "\t# show an update every 1,000 images\n",
    "\tif i > 0 and i % 1000 == 0:\n",
    "\t\tprint(\"[INFO] processed {}/{}\".format(i, len(testimagePaths)))"
   ]
  },
  {
   "cell_type": "markdown",
   "metadata": {
    "id": "4s17AmFOLX4O"
   },
   "source": [
    "### Memory space"
   ]
  },
  {
   "cell_type": "code",
   "execution_count": 7,
   "metadata": {
    "colab": {
     "base_uri": "https://localhost:8080/"
    },
    "id": "RfVOgb0cosKe",
    "outputId": "220a446d-519b-4958-eb6e-cd3e7d45ba8e"
   },
   "outputs": [
    {
     "name": "stdout",
     "output_type": "stream",
     "text": [
      "[INFO] pixels matrix: 159.74MB\n",
      "[INFO] features matrix: 53.85MB\n"
     ]
    }
   ],
   "source": [
    "# show some information on the memory consumed by the raw images\n",
    "# matrix and features matrix\n",
    "trainrawImages = np.array(trainrawImages)\n",
    "trainfeatures = np.array(trainfeatures)\n",
    "trainlabels = np.array(trainlabels)\n",
    "\n",
    "validrawImages = np.array(validrawImages)\n",
    "validfeatures = np.array(validfeatures)\n",
    "validlabels = np.array(validlabels)\n",
    "\n",
    "print(\"[INFO] pixels matrix: {:.2f}MB\".format(trainrawImages.nbytes / (1024 * 1000.0)))\n",
    "print(\"[INFO] features matrix: {:.2f}MB\".format(trainfeatures.nbytes / (1024 * 1000.0)))"
   ]
  },
  {
   "cell_type": "markdown",
   "metadata": {
    "id": "CoSVHbzDhleM"
   },
   "source": [
    "## Train on raw images\n",
    "\n",
    "Hyperparameter here! change n_neighbors to vary between 3, 15, 30, 45, and 60"
   ]
  },
  {
   "cell_type": "code",
   "execution_count": 32,
   "metadata": {
    "colab": {
     "base_uri": "https://localhost:8080/"
    },
    "id": "vQDQ819-ovg2",
    "outputId": "d69d8e51-0369-4004-b758-360839e057e5"
   },
   "outputs": [
    {
     "name": "stdout",
     "output_type": "stream",
     "text": [
      "[INFO] Raw pixel accuracy...\n",
      "[INFO] raw pixel valid accuracy: 8.31%\n"
     ]
    }
   ],
   "source": [
    "# train and evaluate a k-NN classifer on the raw pixel intensities\n",
    "print(\"[INFO] Raw pixel accuracy...\")\n",
    "knn_rawmodel = KNeighborsClassifier(n_neighbors=60) # Change this\n",
    "knn_rawmodel.fit(trainrawImages, trainlabels)\n",
    "acc = knn_rawmodel.score(validrawImages, validlabels)\n",
    "print(\"[INFO] raw pixel valid accuracy: {:.2f}%\".format(acc * 100))\n",
    "\n",
    "valid_rawpred = knn_rawmodel.predict(validrawImages)\n",
    "# valid_rawpred"
   ]
  },
  {
   "cell_type": "code",
   "execution_count": 33,
   "metadata": {
    "id": "KmZ6cPhN1MXq"
   },
   "outputs": [
    {
     "name": "stdout",
     "output_type": "stream",
     "text": [
      "[INFO] raw pixel test accuracy: 8.62%\n"
     ]
    }
   ],
   "source": [
    "acc = knn_rawmodel.score(testrawImages, testlabels)\n",
    "print(\"[INFO] raw pixel test accuracy: {:.2f}%\".format(acc * 100))\n",
    "\n",
    "test_rawpred = knn_rawmodel.predict(testrawImages)\n",
    "# test_rawpred"
   ]
  },
  {
   "cell_type": "code",
   "execution_count": 34,
   "metadata": {
    "id": "Ba0-PJo_JAem"
   },
   "outputs": [
    {
     "name": "stdout",
     "output_type": "stream",
     "text": [
      "[[ 7  0  0 ...  0  0  0]\n",
      " [ 4 99  0 ...  0  0  0]\n",
      " [ 0  0 99 ...  0  0  0]\n",
      " ...\n",
      " [ 8  2  1 ...  0  0  0]\n",
      " [ 8  1  0 ...  0  0  0]\n",
      " [ 7  0  2 ...  0  0  0]]\n",
      "              precision    recall  f1-score   support\n",
      "\n",
      "           !       0.02      0.47      0.04        15\n",
      "           (       0.42      0.71      0.53       140\n",
      "           )       0.39      0.71      0.50       140\n",
      "           +       0.00      0.00      0.00       140\n",
      "           -       0.45      0.81      0.58       140\n",
      "           0       0.00      0.00      0.00       140\n",
      "           1       0.33      0.41      0.37       140\n",
      "           2       0.00      0.00      0.00       140\n",
      "           3       0.00      0.00      0.00       140\n",
      "           4       0.00      0.00      0.00       140\n",
      "           5       0.00      0.00      0.00       124\n",
      "           6       0.00      0.00      0.00        95\n",
      "           7       0.00      0.00      0.00       106\n",
      "           8       0.00      0.00      0.00        89\n",
      "           9       0.00      0.00      0.00       101\n",
      "           =       0.50      0.01      0.01       140\n",
      "           F       1.00      0.03      0.06        30\n",
      "           [       0.71      0.15      0.25        33\n",
      "           ]       0.18      0.09      0.12        33\n",
      "           a       0.00      0.00      0.00       140\n",
      "       alpha       0.00      0.00      0.00       124\n",
      "           b       0.67      0.01      0.03       140\n",
      "        beta       0.00      0.00      0.00        60\n",
      "        bigA       0.00      0.00      0.00        62\n",
      "        bigB       0.00      0.00      0.00        45\n",
      "        bigC       0.00      0.00      0.00        45\n",
      "           c       0.00      0.00      0.00       129\n",
      "         cos       0.00      0.00      0.00       140\n",
      "           d       0.00      0.00      0.00       140\n",
      "         div       0.00      0.00      0.00        17\n",
      "           e       0.00      0.00      0.00       140\n",
      "           g       0.00      0.00      0.00        31\n",
      "       gamma       0.00      0.00      0.00        14\n",
      "         geq       0.00      0.00      0.00        31\n",
      "           i       0.18      0.11      0.14       140\n",
      "       infty       0.00      0.00      0.00        46\n",
      "         int       0.33      0.10      0.15        60\n",
      "           j       0.00      0.00      0.00        32\n",
      "           k       0.00      0.00      0.00       140\n",
      "       ldots       0.01      1.00      0.02        28\n",
      "         leq       0.00      0.00      0.00        43\n",
      "         lim       0.00      0.00      0.00        86\n",
      "         log       0.00      0.00      0.00        37\n",
      "          lt       0.00      0.00      0.00        22\n",
      "           n       0.00      0.00      0.00       140\n",
      "         neq       0.00      0.00      0.00        24\n",
      "         phi       0.00      0.00      0.00        19\n",
      "          pi       0.00      0.00      0.00        86\n",
      "          pm       0.00      0.00      0.00        24\n",
      "  rightarrow       0.00      0.00      0.00        91\n",
      "         sin       0.00      0.00      0.00       140\n",
      "         sum       0.00      0.00      0.00        68\n",
      "         tan       0.00      0.00      0.00        17\n",
      "       theta       0.00      0.00      0.00        40\n",
      "       times       0.00      0.00      0.00        62\n",
      "           x       0.00      0.00      0.00       140\n",
      "           y       0.00      0.00      0.00       140\n",
      "           z       0.00      0.00      0.00       137\n",
      "           {       0.00      0.00      0.00        18\n",
      "           }       0.00      0.00      0.00        18\n",
      "\n",
      "    accuracy                           0.09      5082\n",
      "   macro avg       0.09      0.08      0.05      5082\n",
      "weighted avg       0.10      0.09      0.06      5082\n",
      "\n"
     ]
    },
    {
     "name": "stderr",
     "output_type": "stream",
     "text": [
      "C:\\Users\\seeyo\\anaconda3\\lib\\site-packages\\sklearn\\metrics\\_classification.py:1245: UndefinedMetricWarning: Precision and F-score are ill-defined and being set to 0.0 in labels with no predicted samples. Use `zero_division` parameter to control this behavior.\n",
      "  _warn_prf(average, modifier, msg_start, len(result))\n",
      "C:\\Users\\seeyo\\anaconda3\\lib\\site-packages\\sklearn\\metrics\\_classification.py:1245: UndefinedMetricWarning: Precision and F-score are ill-defined and being set to 0.0 in labels with no predicted samples. Use `zero_division` parameter to control this behavior.\n",
      "  _warn_prf(average, modifier, msg_start, len(result))\n",
      "C:\\Users\\seeyo\\anaconda3\\lib\\site-packages\\sklearn\\metrics\\_classification.py:1245: UndefinedMetricWarning: Precision and F-score are ill-defined and being set to 0.0 in labels with no predicted samples. Use `zero_division` parameter to control this behavior.\n",
      "  _warn_prf(average, modifier, msg_start, len(result))\n"
     ]
    }
   ],
   "source": [
    "print(confusion_matrix(testlabels,test_rawpred))\n",
    "print(classification_report(testlabels,test_rawpred))#Output"
   ]
  },
  {
   "cell_type": "markdown",
   "metadata": {
    "id": "_hCR5DOThoXS"
   },
   "source": [
    "## Train on histogram\n",
    "\n",
    "Hyperparameter here! change n_neighbors to vary between 3, 15, 30, 45, and 60"
   ]
  },
  {
   "cell_type": "code",
   "execution_count": 35,
   "metadata": {
    "id": "-t0y4r-6owwW"
   },
   "outputs": [
    {
     "name": "stdout",
     "output_type": "stream",
     "text": [
      "[INFO] Histogram accuracy...\n",
      "[INFO] histogram valid accuracy: 9.98%\n"
     ]
    }
   ],
   "source": [
    "# train and evaluate a k-NN classifer on the histogram\n",
    "# representations\n",
    "print(\"[INFO] Histogram accuracy...\")\n",
    "knn_histmodel = KNeighborsClassifier(n_neighbors=60) # Change this\n",
    "knn_histmodel.fit(trainfeatures, trainlabels)\n",
    "acc = knn_histmodel.score(validfeatures, validlabels)\n",
    "print(\"[INFO] histogram valid accuracy: {:.2f}%\".format(acc * 100))\n",
    "\n",
    "# valid_histpred = knn_histmodel.predict(validfeatures)"
   ]
  },
  {
   "cell_type": "code",
   "execution_count": 36,
   "metadata": {
    "id": "M6-j1Of91Zlr"
   },
   "outputs": [
    {
     "name": "stdout",
     "output_type": "stream",
     "text": [
      "[INFO] histogram test accuracy: 10.17%\n"
     ]
    }
   ],
   "source": [
    "acc = knn_histmodel.score(testfeatures, testlabels)\n",
    "print(\"[INFO] histogram test accuracy: {:.2f}%\".format(acc * 100))\n",
    "test_histpred = knn_histmodel.predict(testfeatures)\n",
    "# test_histpred"
   ]
  },
  {
   "cell_type": "code",
   "execution_count": 37,
   "metadata": {
    "id": "yPPpfoWNEtkJ"
   },
   "outputs": [
    {
     "name": "stdout",
     "output_type": "stream",
     "text": [
      "[[ 7  1  0 ...  0  0  0]\n",
      " [ 0 54 13 ...  0  0  0]\n",
      " [ 0 37 17 ...  0  0  0]\n",
      " ...\n",
      " [ 0  0  0 ...  6  0  0]\n",
      " [ 0  1  2 ...  0  0  0]\n",
      " [ 0  4  1 ...  0  0  0]]\n",
      "              precision    recall  f1-score   support\n",
      "\n",
      "           !       0.17      0.47      0.25        15\n",
      "           (       0.33      0.39      0.35       140\n",
      "           )       0.29      0.12      0.17       140\n",
      "           +       0.07      0.18      0.11       140\n",
      "           -       0.36      0.85      0.51       140\n",
      "           0       0.08      0.10      0.09       140\n",
      "           1       0.04      0.01      0.02       140\n",
      "           2       0.00      0.00      0.00       140\n",
      "           3       0.07      0.13      0.09       140\n",
      "           4       0.05      0.11      0.07       140\n",
      "           5       0.00      0.00      0.00       124\n",
      "           6       0.02      0.04      0.03        95\n",
      "           7       0.04      0.03      0.03       106\n",
      "           8       0.05      0.12      0.07        89\n",
      "           9       0.03      0.06      0.04       101\n",
      "           =       0.11      0.10      0.10       140\n",
      "           F       0.00      0.00      0.00        30\n",
      "           [       0.00      0.00      0.00        33\n",
      "           ]       0.00      0.00      0.00        33\n",
      "           a       0.09      0.16      0.12       140\n",
      "       alpha       0.04      0.04      0.04       124\n",
      "           b       0.05      0.09      0.06       140\n",
      "        beta       0.00      0.00      0.00        60\n",
      "        bigA       0.00      0.00      0.00        62\n",
      "        bigB       0.00      0.00      0.00        45\n",
      "        bigC       0.07      0.16      0.10        45\n",
      "           c       0.10      0.04      0.06       129\n",
      "         cos       0.01      0.01      0.01       140\n",
      "           d       0.02      0.05      0.03       140\n",
      "         div       0.00      0.00      0.00        17\n",
      "           e       0.00      0.00      0.00       140\n",
      "           g       0.00      0.00      0.00        31\n",
      "       gamma       0.00      0.00      0.00        14\n",
      "         geq       0.00      0.00      0.00        31\n",
      "           i       0.47      0.29      0.35       140\n",
      "       infty       0.01      0.02      0.02        46\n",
      "         int       0.13      0.47      0.20        60\n",
      "           j       0.00      0.00      0.00        32\n",
      "           k       0.00      0.00      0.00       140\n",
      "       ldots       0.83      0.71      0.77        28\n",
      "         leq       0.00      0.00      0.00        43\n",
      "         lim       0.00      0.00      0.00        86\n",
      "         log       0.15      0.30      0.20        37\n",
      "          lt       0.00      0.00      0.00        22\n",
      "           n       0.09      0.05      0.06       140\n",
      "         neq       0.00      0.00      0.00        24\n",
      "         phi       0.00      0.00      0.00        19\n",
      "          pi       0.07      0.07      0.07        86\n",
      "          pm       0.00      0.00      0.00        24\n",
      "  rightarrow       0.00      0.00      0.00        91\n",
      "         sin       0.03      0.06      0.04       140\n",
      "         sum       0.09      0.12      0.10        68\n",
      "         tan       0.00      0.00      0.00        17\n",
      "       theta       0.05      0.23      0.09        40\n",
      "       times       0.00      0.00      0.00        62\n",
      "           x       0.02      0.01      0.01       140\n",
      "           y       0.07      0.02      0.03       140\n",
      "           z       0.12      0.04      0.06       137\n",
      "           {       0.00      0.00      0.00        18\n",
      "           }       0.00      0.00      0.00        18\n",
      "\n",
      "    accuracy                           0.10      5082\n",
      "   macro avg       0.07      0.09      0.07      5082\n",
      "weighted avg       0.08      0.10      0.08      5082\n",
      "\n"
     ]
    },
    {
     "name": "stderr",
     "output_type": "stream",
     "text": [
      "C:\\Users\\seeyo\\anaconda3\\lib\\site-packages\\sklearn\\metrics\\_classification.py:1245: UndefinedMetricWarning: Precision and F-score are ill-defined and being set to 0.0 in labels with no predicted samples. Use `zero_division` parameter to control this behavior.\n",
      "  _warn_prf(average, modifier, msg_start, len(result))\n",
      "C:\\Users\\seeyo\\anaconda3\\lib\\site-packages\\sklearn\\metrics\\_classification.py:1245: UndefinedMetricWarning: Precision and F-score are ill-defined and being set to 0.0 in labels with no predicted samples. Use `zero_division` parameter to control this behavior.\n",
      "  _warn_prf(average, modifier, msg_start, len(result))\n",
      "C:\\Users\\seeyo\\anaconda3\\lib\\site-packages\\sklearn\\metrics\\_classification.py:1245: UndefinedMetricWarning: Precision and F-score are ill-defined and being set to 0.0 in labels with no predicted samples. Use `zero_division` parameter to control this behavior.\n",
      "  _warn_prf(average, modifier, msg_start, len(result))\n"
     ]
    }
   ],
   "source": [
    "print(confusion_matrix(testlabels,test_histpred))\n",
    "print(classification_report(testlabels,test_histpred))"
   ]
  },
  {
   "cell_type": "markdown",
   "metadata": {
    "id": "uzcEgdHYoZ3e"
   },
   "source": [
    "# SVM  \n",
    "Hyperparameters\n",
    "* Gamma\n",
    "* C (small c: cost of misclassification low, large: cost of misclassification high)\n",
    "* Kernel (linear, RBF, polynomial)"
   ]
  },
  {
   "cell_type": "code",
   "execution_count": 8,
   "metadata": {
    "id": "fTS3LDaHoOt4"
   },
   "outputs": [],
   "source": [
    "# Standard scientific Python imports\n",
    "import matplotlib.pyplot as plt\n",
    "\n",
    "# Import classifiers and performance metrics\n",
    "from sklearn import svm\n",
    "from sklearn.metrics import accuracy_score, classification_report, confusion_matrix \n",
    "from sklearn.model_selection import GridSearchCV"
   ]
  },
  {
   "cell_type": "code",
   "execution_count": 9,
   "metadata": {
    "id": "htxTp8scoX3R"
   },
   "outputs": [
    {
     "data": {
      "image/png": "[encoded data removed]",
      "text/plain": [
       "<Figure size 720x216 with 4 Axes>"
      ]
     },
     "metadata": {
      "needs_background": "light"
     },
     "output_type": "display_data"
    }
   ],
   "source": [
    "_, axes = plt.subplots(nrows=1, ncols=4, figsize=(10, 3))\n",
    "for ax, image, label in zip(axes, train, trainlabels):\n",
    "    ax.set_axis_off()\n",
    "    ax.imshow(image, cmap=plt.cm.gray_r, interpolation='nearest')\n",
    "    ax.set_title('Training: %s' % label)"
   ]
  },
  {
   "cell_type": "code",
   "execution_count": 10,
   "metadata": {
    "id": "UkAssF9R7Xj1"
   },
   "outputs": [],
   "source": [
    "param_grid={'C':[0.1],'gamma':[0.0001],'kernel':['rbf']}\n",
    "svc=svm.SVC(probability=True)\n",
    "svm_model=GridSearchCV(svc,param_grid)"
   ]
  },
  {
   "cell_type": "markdown",
   "metadata": {
    "id": "uVf-jrgJ8PXS"
   },
   "source": [
    "## Train on raw images"
   ]
  },
  {
   "cell_type": "code",
   "execution_count": null,
   "metadata": {
    "id": "GK59tXyX7drp"
   },
   "outputs": [],
   "source": [
    "svm_model.fit(trainrawImages, trainlabels)\n",
    "svm_model.best_params_"
   ]
  },
  {
   "cell_type": "code",
   "execution_count": null,
   "metadata": {
    "id": "szVMy83T7zt7"
   },
   "outputs": [],
   "source": [
    "valid_pred=svm_model.predict(validrawImages)\n",
    "print(f\"The SVM model on valid set is {accuracy_score(valid_pred,validlabels)*100}% accurate\")"
   ]
  },
  {
   "cell_type": "code",
   "execution_count": null,
   "metadata": {
    "id": "8HPTSuAk8gXK"
   },
   "outputs": [],
   "source": [
    "test_pred=svm_model.predict(testrawImages)\n",
    "print(\"The predicted Data is :\")\n",
    "# print(test_pred)\n",
    "print(\"\\nThe actual data is:\")\n",
    "# print(np.array(testlabels))\n",
    "print(f\"The SVM model on test set is {accuracy_score(test_pred,testlabels)*100}% accurate\")"
   ]
  },
  {
   "cell_type": "code",
   "execution_count": null,
   "metadata": {
    "id": "HoZZpzQKEHkW"
   },
   "outputs": [],
   "source": [
    "print(confusion_matrix(testlabels,test_pred))\n",
    "print(classification_report(testlabels,test_pred))#Output"
   ]
  },
  {
   "cell_type": "code",
   "execution_count": null,
   "metadata": {},
   "outputs": [],
   "source": []
  }
 ],
 "metadata": {
  "colab": {
   "collapsed_sections": [],
   "name": "Copy of ML_Classification.ipynb",
   "provenance": [],
   "toc_visible": true
  },
  "kernelspec": {
   "display_name": "Python 3",
   "language": "python",
   "name": "python3"
  },
  "language_info": {
   "codemirror_mode": {
    "name": "ipython",
    "version": 3
   },
   "file_extension": ".py",
   "mimetype": "text/x-python",
   "name": "python",
   "nbconvert_exporter": "python",
   "pygments_lexer": "ipython3",
   "version": "3.8.8"
  }
 },
 "nbformat": 4,
 "nbformat_minor": 1
}
