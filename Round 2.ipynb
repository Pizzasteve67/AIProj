{
 "cells": [
  {
   "cell_type": "code",
   "execution_count": null,
   "id": "5ecaed2f",
   "metadata": {},
   "outputs": [],
   "source": [
    "import tensorflow as tf\n",
    "print(tf.__version__)\n",
    "print(tf.config.list_physical_devices())\n",
    "\n",
    "print( tf.test.is_gpu_available())\n",
    "tf.config.list_physical_devices('GPU')\n",
    "#print(\"Num GPUs Available: \", len(tf.config.experimental.list_physical_devices('GPU')))"
   ]
  },
  {
   "cell_type": "code",
   "execution_count": null,
   "id": "a08f0b92",
   "metadata": {},
   "outputs": [],
   "source": [
    "import tensorflow as tf\n",
    "print(\"Num GPUs Available: \", len(tf.config.list_physical_devices('GPU')))"
   ]
  },
  {
   "cell_type": "code",
   "execution_count": null,
   "id": "8d1a59d7",
   "metadata": {},
   "outputs": [],
   "source": [
    "import os\n",
    "import numpy as np\n",
    "import tensorflow as tf\n",
    "from tensorflow.keras.models import Sequential\n",
    "from tensorflow.keras.layers import Activation, Dropout, Flatten, Dense\n",
    "from tensorflow.keras.preprocessing.image import ImageDataGenerator\n",
    "from tensorflow.keras.layers import Convolution2D, MaxPooling2D, ZeroPadding2D\n",
    "from tensorflow.keras.optimizers import RMSprop, Adadelta, Adagrad, Adam, Adamax, Ftrl, Nadam, Optimizer, SGD # KEENAN CHOOSE\n",
    "from tensorflow.keras.applications.vgg16 import VGG16\n",
    "from tensorflow.python.keras.layers import Dense, Flatten, GlobalAveragePooling2D\n",
    "from tensorflow.keras import optimizers\n",
    "from tensorflow.keras import applications\n",
    "from tensorflow.keras.models import Model\n",
    "from tensorflow.keras.callbacks import ReduceLROnPlateau"
   ]
  },
  {
   "cell_type": "code",
   "execution_count": null,
   "id": "008a63a3",
   "metadata": {},
   "outputs": [],
   "source": [
    "#from tensorflow.keras.applications.resnet import preprocess_input\n",
    "# from tensorflow.keras.applications.inception_v3 import preprocess_input\n",
    "from tensorflow.keras.applications.densenet import preprocess_input"
   ]
  },
  {
   "cell_type": "code",
   "execution_count": null,
   "id": "4235dfbb",
   "metadata": {},
   "outputs": [],
   "source": [
    "# loading training data\n",
    "train_datagen = ImageDataGenerator(preprocessing_function=preprocess_input,\n",
    "                                #    shear_range=0.2,\n",
    "                                  #  zoom_range=0.4,\n",
    "                                  #  rotation_range=30,\n",
    "                                   )\n",
    "\n",
    "valid_datagen = ImageDataGenerator(preprocessing_function=preprocess_input)\n",
    "# test_datagen = ImageDataGenerator(preprocessing_function=preprocess_input)\n",
    "\n",
    "train_generator = train_datagen.flow_from_directory(\n",
    "        'C:/Users/keena/Desktop/AIproj/train', # KEENAN PUT YOUR DIRECTORY with a /train here\n",
    "        target_size=(45, 45),\n",
    "        class_mode='categorical')\n",
    "\n",
    "validation_generator = valid_datagen.flow_from_directory(\n",
    "    'C:/Users/keena/Desktop/AIproj/valid', # KEENAN PUT YOUR DIRECTORY with a /valid here\n",
    "    shuffle=False,\n",
    "    target_size=(45, 45),\n",
    "    class_mode='categorical')"
   ]
  },
  {
   "cell_type": "code",
   "execution_count": null,
   "id": "d7908297",
   "metadata": {},
   "outputs": [],
   "source": [
    "from tensorflow.keras.applications import ResNet152, ResNet50, InceptionV3, DenseNet121, DenseNet201 # KEENAN DONT INCEPTION"
   ]
  },
  {
   "cell_type": "code",
   "execution_count": null,
   "id": "72a06168",
   "metadata": {},
   "outputs": [],
   "source": [
    "#Next model Adadelta"
   ]
  },
  {
   "cell_type": "code",
   "execution_count": null,
   "id": "aa19331e",
   "metadata": {},
   "outputs": [],
   "source": [
    "model = Sequential()\n",
    "# create the base pre-trained model\n",
    "model.add(DenseNet121(input_shape=(45, 45,3), weights='imagenet', include_top=False)) #Keenan\n",
    "# add a global spatial average pooling layer\n",
    "model.add(GlobalAveragePooling2D()) # CHANGE THIS MAYBE YEAH\n",
    "# let's add a fully-connected layer\n",
    "model.add(Dense(1024, activation='relu'))\n",
    "# and a logistic layer -- let's say we have 60 classes\n",
    "model.add(Dense(len(train_generator.class_indices), activation='softmax'))"
   ]
  },
  {
   "cell_type": "code",
   "execution_count": null,
   "id": "9e23ebbb",
   "metadata": {},
   "outputs": [],
   "source": [
    "# specify training loss function \n",
    "model.compile(loss='categorical_crossentropy',\n",
    "              optimizer=tf.keras.optimizers.Adadelta(learning_rate=0.0001), # CHANGE THIS YEAH\n",
    "              metrics=['accuracy'])"
   ]
  },
  {
   "cell_type": "code",
   "execution_count": null,
   "id": "397ad97e",
   "metadata": {},
   "outputs": [],
   "source": [
    "reduce_lr = ReduceLROnPlateau(monitor='loss', factor=0.5, patience=3, verbose = 1)\n",
    "\n",
    "model_checkpoint = tf.keras.callbacks.ModelCheckpoint(\n",
    "    filepath='C:/Users/keena/Desktop/AIproj/Models/DenseNet121Adadeltae30', # KEENAN PUT YOUR DIRECTORY with a /Model/<modelname> here\n",
    "    monitor='val_loss',\n",
    "    save_weights_only=False,\n",
    "    save_best_only=True)\n",
    "\n",
    "model.fit(x=train_generator, validation_data=validation_generator, epochs = 30, callbacks=[reduce_lr,model_checkpoint])"
   ]
  },
  {
   "cell_type": "code",
   "execution_count": null,
   "id": "fc61d498",
   "metadata": {},
   "outputs": [],
   "source": [
    "test_datagen = ImageDataGenerator(preprocessing_function=preprocess_input)\n",
    "test_generator = test_datagen.flow_from_directory(\n",
    "    '/home/jovyan/Symbols/test',\n",
    "    shuffle=False,\n",
    "    target_size=(45, 45),\n",
    "    class_mode='categorical')"
   ]
  },
  {
   "cell_type": "code",
   "execution_count": null,
   "id": "fc1b6851",
   "metadata": {},
   "outputs": [],
   "source": [
    "#from tensorflow.keras.applications.resnet import preprocess_input\n",
    "# from tensorflow.keras.applications.inception_v3 import preprocess_input\n",
    "from tensorflow.keras.applications.densenet import preprocess_input"
   ]
  },
  {
   "cell_type": "code",
   "execution_count": null,
   "id": "1baeedd5",
   "metadata": {},
   "outputs": [],
   "source": [
    "#Next model Adagrad"
   ]
  },
  {
   "cell_type": "code",
   "execution_count": null,
   "id": "f1f70d3f",
   "metadata": {},
   "outputs": [],
   "source": [
    "# loading training data\n",
    "train_datagen = ImageDataGenerator(preprocessing_function=preprocess_input,\n",
    "                                #    shear_range=0.2,\n",
    "                                  #  zoom_range=0.4,\n",
    "                                  #  rotation_range=30,\n",
    "                                   )\n",
    "\n",
    "valid_datagen = ImageDataGenerator(preprocessing_function=preprocess_input)\n",
    "# test_datagen = ImageDataGenerator(preprocessing_function=preprocess_input)\n",
    "\n",
    "train_generator = train_datagen.flow_from_directory(\n",
    "        'C:/Users/keena/Desktop/AIproj/train', # KEENAN PUT YOUR DIRECTORY with a /train here\n",
    "        target_size=(45, 45),\n",
    "        class_mode='categorical')\n",
    "\n",
    "validation_generator = valid_datagen.flow_from_directory(\n",
    "    'C:/Users/keena/Desktop/AIproj/valid', # KEENAN PUT YOUR DIRECTORY with a /valid here\n",
    "    shuffle=False,\n",
    "    target_size=(45, 45),\n",
    "    class_mode='categorical')"
   ]
  },
  {
   "cell_type": "code",
   "execution_count": null,
   "id": "ba7034c2",
   "metadata": {},
   "outputs": [],
   "source": [
    "model = Sequential()\n",
    "# create the base pre-trained model\n",
    "model.add(DenseNet121(input_shape=(45, 45,3), weights='imagenet', include_top=False)) #Keenan\n",
    "# add a global spatial average pooling layer\n",
    "model.add(GlobalAveragePooling2D()) # CHANGE THIS MAYBE YEAH\n",
    "# let's add a fully-connected layer\n",
    "model.add(Dense(1024, activation='relu'))\n",
    "# and a logistic layer -- let's say we have 60 classes\n",
    "model.add(Dense(len(train_generator.class_indices), activation='softmax'))"
   ]
  },
  {
   "cell_type": "code",
   "execution_count": null,
   "id": "dabc4b2c",
   "metadata": {},
   "outputs": [],
   "source": [
    "# specify training loss function \n",
    "model.compile(loss='categorical_crossentropy',\n",
    "              optimizer=tf.keras.optimizers.Adagrad(learning_rate=0.0001), # CHANGE THIS YEAH\n",
    "              metrics=['accuracy'])"
   ]
  },
  {
   "cell_type": "code",
   "execution_count": null,
   "id": "251cd068",
   "metadata": {},
   "outputs": [],
   "source": [
    "reduce_lr = ReduceLROnPlateau(monitor='loss', factor=0.5, patience=3, verbose = 1)\n",
    "\n",
    "model_checkpoint = tf.keras.callbacks.ModelCheckpoint(\n",
    "    filepath='C:/Users/keena/Desktop/AIproj/Models/DenseNet121Adagrade30', # KEENAN PUT YOUR DIRECTORY with a /Model/<modelname> here\n",
    "    monitor='val_loss',\n",
    "    save_weights_only=False,\n",
    "    save_best_only=True)\n",
    "\n",
    "model.fit(x=train_generator, validation_data=validation_generator, epochs = 30, callbacks=[reduce_lr,model_checkpoint])"
   ]
  },
  {
   "cell_type": "code",
   "execution_count": null,
   "id": "14144337",
   "metadata": {},
   "outputs": [],
   "source": [
    "#Next model Adam"
   ]
  },
  {
   "cell_type": "code",
   "execution_count": null,
   "id": "b62e231d",
   "metadata": {},
   "outputs": [],
   "source": [
    "# loading training data\n",
    "train_datagen = ImageDataGenerator(preprocessing_function=preprocess_input,\n",
    "                                #    shear_range=0.2,\n",
    "                                  #  zoom_range=0.4,\n",
    "                                  #  rotation_range=30,\n",
    "                                   )\n",
    "\n",
    "valid_datagen = ImageDataGenerator(preprocessing_function=preprocess_input)\n",
    "# test_datagen = ImageDataGenerator(preprocessing_function=preprocess_input)\n",
    "\n",
    "train_generator = train_datagen.flow_from_directory(\n",
    "        'C:/Users/keena/Desktop/AIproj/train', # KEENAN PUT YOUR DIRECTORY with a /train here\n",
    "        target_size=(45, 45),\n",
    "        class_mode='categorical')\n",
    "\n",
    "validation_generator = valid_datagen.flow_from_directory(\n",
    "    'C:/Users/keena/Desktop/AIproj/valid', # KEENAN PUT YOUR DIRECTORY with a /valid here\n",
    "    shuffle=False,\n",
    "    target_size=(45, 45),\n",
    "    class_mode='categorical')"
   ]
  },
  {
   "cell_type": "code",
   "execution_count": null,
   "id": "cca7fa3a",
   "metadata": {},
   "outputs": [],
   "source": [
    "model = Sequential()\n",
    "# create the base pre-trained model\n",
    "model.add(DenseNet121(input_shape=(45, 45,3), weights='imagenet', include_top=False)) #Keenan\n",
    "# add a global spatial average pooling layer\n",
    "model.add(GlobalAveragePooling2D()) # CHANGE THIS MAYBE YEAH\n",
    "# let's add a fully-connected layer\n",
    "model.add(Dense(1024, activation='relu'))\n",
    "# and a logistic layer -- let's say we have 60 classes\n",
    "model.add(Dense(len(train_generator.class_indices), activation='softmax'))"
   ]
  },
  {
   "cell_type": "code",
   "execution_count": null,
   "id": "3b346bbf",
   "metadata": {},
   "outputs": [],
   "source": [
    "# specify training loss function \n",
    "model.compile(loss='categorical_crossentropy',\n",
    "              optimizer=tf.keras.optimizers.Adam(learning_rate=0.0001), # CHANGE THIS YEAH\n",
    "              metrics=['accuracy'])"
   ]
  },
  {
   "cell_type": "code",
   "execution_count": null,
   "id": "dcb3bd1f",
   "metadata": {},
   "outputs": [],
   "source": [
    "reduce_lr = ReduceLROnPlateau(monitor='loss', factor=0.5, patience=3, verbose = 1)\n",
    "\n",
    "model_checkpoint = tf.keras.callbacks.ModelCheckpoint(\n",
    "    filepath='C:/Users/keena/Desktop/AIproj/Models/DenseNet121Adame30', # KEENAN PUT YOUR DIRECTORY with a /Model/<modelname> here\n",
    "    monitor='val_loss',\n",
    "    save_weights_only=False,\n",
    "    save_best_only=True)\n",
    "\n",
    "model.fit(x=train_generator, validation_data=validation_generator, epochs = 30, callbacks=[reduce_lr,model_checkpoint])"
   ]
  },
  {
   "cell_type": "code",
   "execution_count": null,
   "id": "eba1831c",
   "metadata": {},
   "outputs": [],
   "source": [
    "#Next model Adamax"
   ]
  },
  {
   "cell_type": "code",
   "execution_count": null,
   "id": "3ab7a8b6",
   "metadata": {},
   "outputs": [],
   "source": [
    "# loading training data\n",
    "train_datagen = ImageDataGenerator(preprocessing_function=preprocess_input,\n",
    "                                #    shear_range=0.2,\n",
    "                                  #  zoom_range=0.4,\n",
    "                                  #  rotation_range=30,\n",
    "                                   )\n",
    "\n",
    "valid_datagen = ImageDataGenerator(preprocessing_function=preprocess_input)\n",
    "# test_datagen = ImageDataGenerator(preprocessing_function=preprocess_input)\n",
    "\n",
    "train_generator = train_datagen.flow_from_directory(\n",
    "        'C:/Users/keena/Desktop/AIproj/train', # KEENAN PUT YOUR DIRECTORY with a /train here\n",
    "        target_size=(45, 45),\n",
    "        class_mode='categorical')\n",
    "\n",
    "validation_generator = valid_datagen.flow_from_directory(\n",
    "    'C:/Users/keena/Desktop/AIproj/valid', # KEENAN PUT YOUR DIRECTORY with a /valid here\n",
    "    shuffle=False,\n",
    "    target_size=(45, 45),\n",
    "    class_mode='categorical')"
   ]
  },
  {
   "cell_type": "code",
   "execution_count": null,
   "id": "84ea853e",
   "metadata": {},
   "outputs": [],
   "source": [
    "model = Sequential()\n",
    "# create the base pre-trained model\n",
    "model.add(DenseNet121(input_shape=(45, 45,3), weights='imagenet', include_top=False)) #Keenan\n",
    "# add a global spatial average pooling layer\n",
    "model.add(GlobalAveragePooling2D()) # CHANGE THIS MAYBE YEAH\n",
    "# let's add a fully-connected layer\n",
    "model.add(Dense(1024, activation='relu'))\n",
    "# and a logistic layer -- let's say we have 60 classes\n",
    "model.add(Dense(len(train_generator.class_indices), activation='softmax'))"
   ]
  },
  {
   "cell_type": "code",
   "execution_count": null,
   "id": "529a6d75",
   "metadata": {},
   "outputs": [],
   "source": [
    "# specify training loss function \n",
    "model.compile(loss='categorical_crossentropy',\n",
    "              optimizer=tf.keras.optimizers.Adamax(learning_rate=0.0001), # CHANGE THIS YEAH\n",
    "              metrics=['accuracy'])"
   ]
  },
  {
   "cell_type": "code",
   "execution_count": null,
   "id": "d11848b2",
   "metadata": {},
   "outputs": [],
   "source": [
    "reduce_lr = ReduceLROnPlateau(monitor='loss', factor=0.5, patience=3, verbose = 1)\n",
    "\n",
    "model_checkpoint = tf.keras.callbacks.ModelCheckpoint(\n",
    "    filepath='C:/Users/keena/Desktop/AIproj/Models/DenseNet121Adamaxe30', # KEENAN PUT YOUR DIRECTORY with a /Model/<modelname> here\n",
    "    monitor='val_loss',\n",
    "    save_weights_only=False,\n",
    "    save_best_only=True)\n",
    "\n",
    "model.fit(x=train_generator, validation_data=validation_generator, epochs = 30, callbacks=[reduce_lr,model_checkpoint])"
   ]
  },
  {
   "cell_type": "code",
   "execution_count": null,
   "id": "cd6d1c81",
   "metadata": {},
   "outputs": [],
   "source": [
    "#Next Model SGD"
   ]
  },
  {
   "cell_type": "code",
   "execution_count": null,
   "id": "dcf4af9e",
   "metadata": {},
   "outputs": [],
   "source": [
    "# loading training data\n",
    "train_datagen = ImageDataGenerator(preprocessing_function=preprocess_input,\n",
    "                                #    shear_range=0.2,\n",
    "                                  #  zoom_range=0.4,\n",
    "                                  #  rotation_range=30,\n",
    "                                   )\n",
    "\n",
    "valid_datagen = ImageDataGenerator(preprocessing_function=preprocess_input)\n",
    "# test_datagen = ImageDataGenerator(preprocessing_function=preprocess_input)\n",
    "\n",
    "train_generator = train_datagen.flow_from_directory(\n",
    "        'C:/Users/keena/Desktop/AIproj/train', # KEENAN PUT YOUR DIRECTORY with a /train here\n",
    "        target_size=(45, 45),\n",
    "        class_mode='categorical')\n",
    "\n",
    "validation_generator = valid_datagen.flow_from_directory(\n",
    "    'C:/Users/keena/Desktop/AIproj/valid', # KEENAN PUT YOUR DIRECTORY with a /valid here\n",
    "    shuffle=False,\n",
    "    target_size=(45, 45),\n",
    "    class_mode='categorical')"
   ]
  },
  {
   "cell_type": "code",
   "execution_count": null,
   "id": "c3ce26a8",
   "metadata": {},
   "outputs": [],
   "source": [
    "model = Sequential()\n",
    "# create the base pre-trained model\n",
    "model.add(DenseNet121(input_shape=(45, 45,3), weights='imagenet', include_top=False)) #Keenan\n",
    "# add a global spatial average pooling layer\n",
    "model.add(GlobalAveragePooling2D()) # CHANGE THIS MAYBE YEAH\n",
    "# let's add a fully-connected layer\n",
    "model.add(Dense(1024, activation='relu'))\n",
    "# and a logistic layer -- let's say we have 60 classes\n",
    "model.add(Dense(len(train_generator.class_indices), activation='softmax'))"
   ]
  },
  {
   "cell_type": "code",
   "execution_count": null,
   "id": "c145adeb",
   "metadata": {},
   "outputs": [],
   "source": [
    "# specify training loss function \n",
    "model.compile(loss='categorical_crossentropy',\n",
    "              optimizer=tf.keras.optimizers.SGD(learning_rate=0.0001), # CHANGE THIS YEAH\n",
    "              metrics=['accuracy'])"
   ]
  },
  {
   "cell_type": "code",
   "execution_count": null,
   "id": "883da7e1",
   "metadata": {},
   "outputs": [],
   "source": [
    "reduce_lr = ReduceLROnPlateau(monitor='loss', factor=0.5, patience=3, verbose = 1)\n",
    "\n",
    "model_checkpoint = tf.keras.callbacks.ModelCheckpoint(\n",
    "    filepath='C:/Users/keena/Desktop/AIproj/Models/DenseNet121SGDe30', # KEENAN PUT YOUR DIRECTORY with a /Model/<modelname> here\n",
    "    monitor='val_loss',\n",
    "    save_weights_only=False,\n",
    "    save_best_only=True)\n",
    "\n",
    "model.fit(x=train_generator, validation_data=validation_generator, epochs = 30, callbacks=[reduce_lr,model_checkpoint])"
   ]
  }
 ],
 "metadata": {
  "kernelspec": {
   "display_name": "Python 3",
   "language": "python",
   "name": "python3"
  },
  "language_info": {
   "codemirror_mode": {
    "name": "ipython",
    "version": 3
   },
   "file_extension": ".py",
   "mimetype": "text/x-python",
   "name": "python",
   "nbconvert_exporter": "python",
   "pygments_lexer": "ipython3",
   "version": "3.8.8"
  }
 },
 "nbformat": 4,
 "nbformat_minor": 5
}
